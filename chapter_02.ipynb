{
 "cells": [
  {
   "cell_type": "markdown",
   "id": "023b9952-e216-4dd4-86ed-48e70e5bc40a",
   "metadata": {},
   "source": [
    "# 2.11. Exercise Answers in Chapter 2"
   ]
  },
  {
   "cell_type": "markdown",
   "id": "3a2a24cb-7700-4115-8856-b634e88377cd",
   "metadata": {},
   "source": [
    "## Author\n",
    "Yu-Ping Lin"
   ]
  },
  {
   "cell_type": "markdown",
   "id": "0ae298ad-4322-4f2c-926b-a390d8c28e3b",
   "metadata": {},
   "source": [
    "## Objectives\n",
    "In this notebook, I write the answers to the exercises of Chapter 2 in the textbook *Think Python: How to Think Like a Computer Scientist, 3rd Edition* by Allen B. Downey. The questions are adapted from Section 2.11. of the textbook. Please refer to the [official website](https://allendowney.github.io/ThinkPython/chap01.html#) or the published versions for the chapter content and the original questions."
   ]
  },
  {
   "cell_type": "markdown",
   "id": "54436414-5df3-4582-8f43-46f85e9befbc",
   "metadata": {},
   "source": [
    "## 1.9.1. Ask a virtual assistant"
   ]
  },
  {
   "cell_type": "markdown",
   "id": "1407c3e0-39b4-4cba-9c64-555d128f902c",
   "metadata": {},
   "source": [
    "Again, I encourage you to use a virtual assistant to learn more about any of the topics in this chapter."
   ]
  },
  {
   "cell_type": "markdown",
   "id": "8694c366-0bfe-4a73-8232-78ff9efde975",
   "metadata": {},
   "source": [
    "### Question 1"
   ]
  },
  {
   "cell_type": "markdown",
   "id": "4dd1a3f8-8b4e-45d5-bb6b-bc2071c736ba",
   "metadata": {},
   "source": [
    "If you are curious about any of keywords I listed, you could ask:\n",
    "1. Why is ``class`` a keyword?\n",
    "2. Why can’t variable names be keywords?"
   ]
  },
  {
   "cell_type": "markdown",
   "id": "856f43ac-ba97-4d5b-a0f7-2fefa251a861",
   "metadata": {},
   "source": [
    "### Answer"
   ]
  },
  {
   "cell_type": "markdown",
   "id": "d19186ae-8084-4547-862c-00c495eae67f",
   "metadata": {},
   "source": [
    "1. In python, the keyword ``class`` is used to mark a class definition, which is the core building block of the object-oriented features of the programming language. It serves as a clear indication to Python that the code block following it is a class definition.\n",
    "2. The variable names can not be keywords because they will lead to ambiguity in the syntax and create problems in the code execution."
   ]
  },
  {
   "cell_type": "markdown",
   "id": "806bf387-ddd8-4827-b971-86aa630eddb2",
   "metadata": {},
   "source": [
    "### Question 2"
   ]
  },
  {
   "cell_type": "markdown",
   "id": "25fe1da1-9011-49c1-83ca-4dd63ba4eba9",
   "metadata": {},
   "source": [
    "You might have noticed that ``int``, ``float``, and ``str`` are not Python keywords. They are variables that represent types, and they can be used as functions. So it is legal to have a variable or function with one of those names, but it is strongly discouraged. Ask an assistant \"Why is it bad to use int, float, and str as variable names?\""
   ]
  },
  {
   "cell_type": "markdown",
   "id": "528ed559-7c65-4df8-aa06-1e201dd0ad4b",
   "metadata": {},
   "source": [
    "### Answer"
   ]
  },
  {
   "cell_type": "markdown",
   "id": "d6d64c63-83f8-4b86-8e6c-ccb56c0fea80",
   "metadata": {},
   "source": [
    "Using these names of built-in types can overwrite or \"shadow\" their definition and break the functionality of the following codes. For example, defining a variable name ``int`` can lead to errors in the typecasting function ``int()``."
   ]
  },
  {
   "cell_type": "markdown",
   "id": "2e8cc9b9-2b6a-47e8-92b3-8f288627484a",
   "metadata": {},
   "source": [
    "### Question 3"
   ]
  },
  {
   "cell_type": "markdown",
   "id": "48bfe9c0-43ea-4e0d-b838-18e746ccdbe3",
   "metadata": {},
   "source": [
    "Also ask, \"What are the built-in functions in Python?\" If you are curious about any of them, ask for more information."
   ]
  },
  {
   "cell_type": "markdown",
   "id": "f724205b-4091-470b-8ef0-222dc2e60fc7",
   "metadata": {},
   "source": [
    "### Answer"
   ]
  },
  {
   "cell_type": "markdown",
   "id": "fe6589a3-e538-4150-987c-1f7283b0c297",
   "metadata": {},
   "source": [
    "Python provides a set of built-in functions that can be called without importing any modules. They can be classified into several categories:\n",
    "\n",
    "| Category | Functions |\n",
    "| :- | :- |\n",
    "| Type conversion and constructors | ``int(x)``, ``float(x)``, ``str(x)`` |\n",
    "| Mathematical | ``abs(x)``, ``round(x)``, ``pow(x, y)`` |\n",
    "| Iterable handling | ``len(x)`` |\n",
    "| I/O | ``print(x)`` |\n",
    "| Object and attribute handling | ``type(x)`` |\n",
    "| Evaluation and execution | |\n",
    "| Miscellaneous | ``help(x)`` |\n",
    "\n",
    "Here we only list the functions that have shown up in Chapters 1 and 2. We will encounter many more functions in the following chapters."
   ]
  },
  {
   "cell_type": "markdown",
   "id": "034ad175-c6e2-4460-8c5c-aa82fb3b6e98",
   "metadata": {},
   "source": [
    "### Question 4"
   ]
  },
  {
   "cell_type": "markdown",
   "id": "3e89fe68-5f13-40a9-a8a9-aac50bcb42fe",
   "metadata": {},
   "source": [
    "In this chapter we imported the ``math`` module and used some of the variable and functions it provides. Ask an assistant:\n",
    "1. What variables and functions are in the math module?\n",
    "2. Other than math, what modules are considered core Python?"
   ]
  },
  {
   "cell_type": "markdown",
   "id": "17a32a62-08a7-4c04-a625-e923323140bd",
   "metadata": {},
   "source": [
    "### Answer"
   ]
  },
  {
   "cell_type": "markdown",
   "id": "579eeaab-eb70-43dc-835b-0d2829a6cff0",
   "metadata": {},
   "source": [
    "1. The variables in the ``math`` module include:\n",
    "| Variable | Value |\n",
    "| :- | :- |\n",
    "| pi | $\\pi = 3.141592653589793$ |\n",
    "| e | $e = 2.718281828459045$ |\n",
    "| tau | $\\tau = 2\\pi = 6.283185307179586$ |\n",
    "| inf | $\\infty$ |\n",
    "| nan | Not a number (NaN) |\n",
    "\n",
    "    Meanwhile, there are several categories of functions. Here we list some examples in each of the categories:\n",
    "\n",
    "| Category | Functions |\n",
    "| :- | :- |\n",
    "| Number-theoretic and representation | ``ceil(x)``, ``floor(x)``, ``gcd(x)``, ``lcm(x)``, ``isinf(x)``, ``isnan(x)``|\n",
    "| Power and logarithmic | ``exp(x)``, ``log(x)``, ``pow(x, y)``, ``sqrt(x)``|\n",
    "| Trigonometric | ``sin(x)``, ``cos(x)``, ``tan(x)``, ``asin(x)``, ``acos(x)``, ``atan(x)``, ``atan2(x, y)``|\n",
    "| Hyperbolic | ``sinh(x)``, ``cosh(x)``, ``tanh(x)``, ``asinh(x)``, ``acosh(x)``, ``atanh(x)``|\n",
    "| Special | ``erf(x)``, ``gamma(x)``|\n",
    "| Angular conversion | ``degrees(x)``, ``radians(x)``|\n",
    "\n",
    "2. There are several core modules which comes with every Python installation. Here we list the categories with some examples in each of them:\n",
    "| Category | Modules |\n",
    "| :- | :- |\n",
    "| Math and numeric | ``math``, ``cmath``, ``random``, ``statistics`` |\n",
    "| String and text handling | ``string``, ``re`` |\n",
    "| Data structures and algorithms | ``collections`` |\n",
    "| File and directory access | ``os``, ``os.path`` |\n",
    "| persistence and serialization | ``pickle``, ``json``, ``csv`` |\n",
    "| Time and date | ``time``, ``zoneinfo`` |\n",
    "| Operating system interfaces | ``sys`` |\n",
    "| Networking and internet | ``http.client``, ``http.server``, ``ssl`` |\n",
    "| Concurrency and parallelism | ``threading``, ``queue`` |\n",
    "| Development tools | ``pdb`` |\n",
    "| Import system | ``zipimport`` |\n",
    "| Security and cryptography | ``hashlib`` |\n",
    "| Others | ``enum`` |"
   ]
  },
  {
   "cell_type": "markdown",
   "id": "3396cf76-06f9-436e-8d59-b0a46849ac54",
   "metadata": {},
   "source": [
    "## 2.11.2. Exercise"
   ]
  },
  {
   "cell_type": "markdown",
   "id": "fdf81ce4-4f5c-47b9-bd37-d52216f541c6",
   "metadata": {},
   "source": [
    "Repeating my advice from the previous chapter, whenever you learn a new feature, you should make errors on purpose to see what goes wrong."
   ]
  },
  {
   "cell_type": "markdown",
   "id": "1a9bd1c0-a7a3-4789-9cdc-4b9e966219b4",
   "metadata": {},
   "source": [
    "### Question 1"
   ]
  },
  {
   "cell_type": "markdown",
   "id": "c71540e4-fd65-4269-9608-0cfeaa16c585",
   "metadata": {},
   "source": [
    "We’ve seen that ``n = 17`` is legal. What about ``17 = n``?"
   ]
  },
  {
   "cell_type": "markdown",
   "id": "e00296e4-b59e-48b3-a29f-52b1b41578b1",
   "metadata": {},
   "source": [
    "### Answer"
   ]
  },
  {
   "cell_type": "code",
   "execution_count": 1,
   "id": "eef4230f-03e3-41b1-8074-1fabce13f026",
   "metadata": {},
   "outputs": [
    {
     "ename": "SyntaxError",
     "evalue": "cannot assign to literal here. Maybe you meant '==' instead of '='? (1575534540.py, line 1)",
     "output_type": "error",
     "traceback": [
      "  \u001b[36mCell\u001b[39m\u001b[36m \u001b[39m\u001b[32mIn[1]\u001b[39m\u001b[32m, line 1\u001b[39m\n\u001b[31m    \u001b[39m\u001b[31m17 = n\u001b[39m\n    ^\n\u001b[31mSyntaxError\u001b[39m\u001b[31m:\u001b[39m cannot assign to literal here. Maybe you meant '==' instead of '='?\n"
     ]
    }
   ],
   "source": [
    "17 = n"
   ]
  },
  {
   "cell_type": "markdown",
   "id": "f7b34285-b682-45c5-9d42-e8d8994529d6",
   "metadata": {},
   "source": [
    "The execution of this statement leads to a syntax error, since 17 can not be a variable for us to assign a value to."
   ]
  },
  {
   "cell_type": "markdown",
   "id": "7cf6762c-83de-4f92-acbc-27d0cf732bf2",
   "metadata": {},
   "source": [
    "### Question 2"
   ]
  },
  {
   "cell_type": "markdown",
   "id": "3609fbc3-dbab-48a8-bedc-35bb3fcffc50",
   "metadata": {},
   "source": [
    "How about ``x = y = 1``?"
   ]
  },
  {
   "cell_type": "markdown",
   "id": "d1332d46-872e-4e66-ae6f-7f55d0d0c28b",
   "metadata": {},
   "source": [
    "### Answer"
   ]
  },
  {
   "cell_type": "code",
   "execution_count": 4,
   "id": "7014ef18-1242-4c3f-b890-5211ab936500",
   "metadata": {},
   "outputs": [
    {
     "name": "stdout",
     "output_type": "stream",
     "text": [
      "x = 1 , y = 1\n"
     ]
    }
   ],
   "source": [
    "x = y = 1\n",
    "print(\"x =\", x, \", y =\", y)"
   ]
  },
  {
   "cell_type": "markdown",
   "id": "b8fe5e24-9596-446c-8aab-044a3f40ecac",
   "metadata": {},
   "source": [
    "This statement assigns the value ``1`` to both ``x`` and ``y``."
   ]
  },
  {
   "cell_type": "markdown",
   "id": "97d9ab4c-b5cb-41e3-9f71-a94b5aa1e153",
   "metadata": {},
   "source": [
    "### Question 3"
   ]
  },
  {
   "cell_type": "markdown",
   "id": "c76be816-ce47-4f6d-8478-eef939e904c5",
   "metadata": {},
   "source": [
    "In some languages every statement ends with a semi-colon (``;``). What happens if you put a semi-colon at the end of a Python statement?"
   ]
  },
  {
   "cell_type": "markdown",
   "id": "5bcf4faa-5e95-4acb-90e7-113efc8099de",
   "metadata": {},
   "source": [
    "### Answer"
   ]
  },
  {
   "cell_type": "code",
   "execution_count": 5,
   "id": "f17abfeb-266d-43b7-bb74-2a6e0f1f3946",
   "metadata": {},
   "outputs": [],
   "source": [
    "x = 1;"
   ]
  },
  {
   "cell_type": "markdown",
   "id": "83e8f3db-d5bc-45a5-a51b-c66719037aeb",
   "metadata": {},
   "source": [
    "Using ``;`` at the end of a statement is legal in Python. It can also be used to separate multiple statements in a line."
   ]
  },
  {
   "cell_type": "code",
   "execution_count": 6,
   "id": "c3b63108-cb92-4901-9493-11df0f1a8423",
   "metadata": {},
   "outputs": [
    {
     "name": "stdout",
     "output_type": "stream",
     "text": [
      "x = 1 , y = 2\n"
     ]
    }
   ],
   "source": [
    "x = 1; y = 2; print(\"x =\", x, \", y =\", y);"
   ]
  },
  {
   "cell_type": "markdown",
   "id": "87a79957-0dd1-4879-b4ef-ee9f6099f9a0",
   "metadata": {},
   "source": [
    "However, Python style generally discourages ``;`` for readability."
   ]
  },
  {
   "cell_type": "markdown",
   "id": "dfe814a2-d621-4b43-9f4d-a6148777782b",
   "metadata": {},
   "source": [
    "### Question 4"
   ]
  },
  {
   "cell_type": "markdown",
   "id": "872b494f-17e4-4697-b7b3-0827ae1791f5",
   "metadata": {},
   "source": [
    "What if you put a period at the end of a statement?"
   ]
  },
  {
   "cell_type": "markdown",
   "id": "f58fb1e6-3176-4a95-9d09-f34476af0138",
   "metadata": {},
   "source": [
    "### Answer"
   ]
  },
  {
   "cell_type": "code",
   "execution_count": 9,
   "id": "d8267981-d8ef-4040-9715-cab51212e3c6",
   "metadata": {},
   "outputs": [
    {
     "ename": "SyntaxError",
     "evalue": "invalid syntax (203554484.py, line 1)",
     "output_type": "error",
     "traceback": [
      "  \u001b[36mCell\u001b[39m\u001b[36m \u001b[39m\u001b[32mIn[9]\u001b[39m\u001b[32m, line 1\u001b[39m\n\u001b[31m    \u001b[39m\u001b[31mx = 1 .\u001b[39m\n           ^\n\u001b[31mSyntaxError\u001b[39m\u001b[31m:\u001b[39m invalid syntax\n"
     ]
    }
   ],
   "source": [
    "x = 1 ."
   ]
  },
  {
   "cell_type": "markdown",
   "id": "f93c19dc-b822-4e11-9376-665688a44ffc",
   "metadata": {},
   "source": [
    "In Python, putting a period at the end of a statement leads to a syntax error. The reason is that Python uses the dot operator ``.`` to get an attribute or a method of an object, as well as a variable or a function of a module. Therefore, the dot operator ``.`` is expected to be followed by something."
   ]
  },
  {
   "cell_type": "markdown",
   "id": "9b32b0f5-d949-4dcb-8079-d0c3b2daae2e",
   "metadata": {},
   "source": [
    "### Question 5"
   ]
  },
  {
   "cell_type": "markdown",
   "id": "018196e3-1432-4018-b835-1b42a99fb402",
   "metadata": {},
   "source": [
    "What happens if you spell the name of a module wrong and try to import ``maath``?"
   ]
  },
  {
   "cell_type": "markdown",
   "id": "5c93a51e-e7c3-4e8d-b8ec-b1bf4ae8c761",
   "metadata": {},
   "source": [
    "### Answer"
   ]
  },
  {
   "cell_type": "code",
   "execution_count": 10,
   "id": "ce258170-23b8-4c18-ad7c-87cbeb041497",
   "metadata": {},
   "outputs": [
    {
     "ename": "ModuleNotFoundError",
     "evalue": "No module named 'maath'",
     "output_type": "error",
     "traceback": [
      "\u001b[31m---------------------------------------------------------------------------\u001b[39m",
      "\u001b[31mModuleNotFoundError\u001b[39m                       Traceback (most recent call last)",
      "\u001b[36mCell\u001b[39m\u001b[36m \u001b[39m\u001b[32mIn[10]\u001b[39m\u001b[32m, line 1\u001b[39m\n\u001b[32m----> \u001b[39m\u001b[32m1\u001b[39m \u001b[38;5;28;01mimport\u001b[39;00m\u001b[38;5;250m \u001b[39m\u001b[34;01mmaath\u001b[39;00m\n",
      "\u001b[31mModuleNotFoundError\u001b[39m: No module named 'maath'"
     ]
    }
   ],
   "source": [
    "import maath"
   ]
  },
  {
   "cell_type": "markdown",
   "id": "cb19495a-cf95-4a18-8c72-1cc4d4e2bc9e",
   "metadata": {},
   "source": [
    "Python can not find a module if we spell it wrong. This exception is indicated by a ``ModuleNotFoundError``."
   ]
  },
  {
   "cell_type": "markdown",
   "id": "ade53139-ba4a-488a-bce6-64561c2f9d97",
   "metadata": {},
   "source": [
    "## 2.11.3. Exercise"
   ]
  },
  {
   "cell_type": "markdown",
   "id": "92df7203-9280-4af8-b7b1-c751a91fda30",
   "metadata": {},
   "source": [
    "Practice using the Python interpreter as a calculator:"
   ]
  },
  {
   "cell_type": "markdown",
   "id": "ff3ee9b4-c4d6-42c8-9cdb-0ee8814ad74f",
   "metadata": {},
   "source": [
    "### Question 1"
   ]
  },
  {
   "cell_type": "markdown",
   "id": "a557030c-b9c6-4082-bbfe-1cf431a32edf",
   "metadata": {},
   "source": [
    "The volume of a sphere with radius $r$ is $(4/3)\\pi r^3$. What is the volume of a sphere with radius $5$? Start with a variable named ``radius`` and then assign the result to a variable named ``volume``. Display the result. Add comments to indicate that ``radius`` is in centimeters and ``volume`` in cubic centimeters."
   ]
  },
  {
   "cell_type": "markdown",
   "id": "891f2d63-54b2-43e0-b761-0a87726ceb9f",
   "metadata": {},
   "source": [
    "### Answer"
   ]
  },
  {
   "cell_type": "code",
   "execution_count": 15,
   "id": "52283d3d-98f7-4c99-8113-99637dc9f4fd",
   "metadata": {},
   "outputs": [
    {
     "name": "stdout",
     "output_type": "stream",
     "text": [
      "The volume of a sphere with radius 5 is 523.5987755982989\n"
     ]
    }
   ],
   "source": [
    "import math\n",
    "\n",
    "# Set the radius to 5 with the unit of centimeter (cm).\n",
    "radius = 5\n",
    "# Compute the volume with the unit of cubic centimeter (cm^3).\n",
    "volume = (4/3) * math.pi * radius**3\n",
    "print(\"The volume of a sphere with radius\", radius, \"is\", volume)"
   ]
  },
  {
   "cell_type": "markdown",
   "id": "0fe17a2b-8485-4c5c-9f31-445f7189a39f",
   "metadata": {},
   "source": [
    "### Question 2"
   ]
  },
  {
   "cell_type": "markdown",
   "id": "a1bb0893-4685-4efd-b82e-77877f759ddb",
   "metadata": {},
   "source": [
    "A rule of trigonometry says that for any value of $x$, $\\cos^2x + \\sin^2x = 1$. Let’s see if it’s true for a specific value of $x$ like 42.\n",
    "\n",
    "Create a variable named ``x`` with this value. Then use ``math.cos`` and ``math.sin`` to compute the sine and cosine of ``x``, and the sum of their squared.\n",
    "\n",
    "The result should be close to $1$. It might not be exactly $1$ because floating-point arithmetic is not exact—it is only approximately correct."
   ]
  },
  {
   "cell_type": "markdown",
   "id": "613f824e-5b7a-419e-9898-04cb045bb685",
   "metadata": {},
   "source": [
    "### Answer"
   ]
  },
  {
   "cell_type": "code",
   "execution_count": 18,
   "id": "55b44192-131b-4075-a7c8-32b6c3279e64",
   "metadata": {},
   "outputs": [
    {
     "name": "stdout",
     "output_type": "stream",
     "text": [
      "cos(x)**2 + sin(x)**2 = 1.0\n"
     ]
    }
   ],
   "source": [
    "import math\n",
    "\n",
    "x = 42\n",
    "cosx = math.cos(x)\n",
    "sinx = math.sin(x)\n",
    "sumx = cosx**2 + sinx**2\n",
    "print(\"cos(x)**2 + sin(x)**2 =\", sumx)"
   ]
  },
  {
   "cell_type": "markdown",
   "id": "dadf4675-ca33-4160-a6d9-ce19249812f7",
   "metadata": {},
   "source": [
    "### Question 3"
   ]
  },
  {
   "cell_type": "markdown",
   "id": "4b13dbae-01c2-4b72-b6e7-d63ff6de0784",
   "metadata": {},
   "source": [
    "In addition to ``pi``, the other variable defined in the math module is ``e``, which represents the base of the natural logarithm, written in math notation as $e$. If you are not familiar with this value, ask a virtual assistant \"What is math.e?\" Now let’s compute $e^2$ three ways:\n",
    "\n",
    "- Use ``math.e`` and the exponentiation operator (``**``).\n",
    "- Use ``math.pow`` to raise ``math.e`` to the power ``2``.\n",
    "- Use ``math.exp``, which takes as an argument a value, $e$, and computes $e^x$.\n",
    "\n",
    "You might notice that the last result is slightly different from the other two. See if you can find out which is correct."
   ]
  },
  {
   "cell_type": "markdown",
   "id": "e50ac38a-ee4a-4b3e-baba-5ee4cdc4975f",
   "metadata": {},
   "source": [
    "### Answer"
   ]
  },
  {
   "cell_type": "markdown",
   "id": "53bb164b-d4a0-422b-b081-255dd9b9af9c",
   "metadata": {},
   "source": [
    "In Python, ``math.e`` is a constant that represents the Euler number, also known as the natural number $$e\\approx2.71828.$$ It is frequently used as the basis of exponential and logarithmic functions.\n",
    "\n",
    "Here we compute $e^2$ in three different ways:"
   ]
  },
  {
   "cell_type": "code",
   "execution_count": 19,
   "id": "50c32a01-a4b0-4881-a43c-81c3cadd39f1",
   "metadata": {},
   "outputs": [
    {
     "data": {
      "text/plain": [
       "7.3890560989306495"
      ]
     },
     "execution_count": 19,
     "metadata": {},
     "output_type": "execute_result"
    }
   ],
   "source": [
    "math.e**2"
   ]
  },
  {
   "cell_type": "code",
   "execution_count": 20,
   "id": "f676a862-166c-4b97-a601-fde6937c5458",
   "metadata": {},
   "outputs": [
    {
     "data": {
      "text/plain": [
       "7.3890560989306495"
      ]
     },
     "execution_count": 20,
     "metadata": {},
     "output_type": "execute_result"
    }
   ],
   "source": [
    "math.pow(math.e, 2)"
   ]
  },
  {
   "cell_type": "code",
   "execution_count": 21,
   "id": "ac784e19-0429-4f82-b2b4-0ed0d26c6c2b",
   "metadata": {},
   "outputs": [
    {
     "data": {
      "text/plain": [
       "7.38905609893065"
      ]
     },
     "execution_count": 21,
     "metadata": {},
     "output_type": "execute_result"
    }
   ],
   "source": [
    "math.exp(2)"
   ]
  },
  {
   "cell_type": "markdown",
   "id": "6425f2b6-b9f6-42c0-a3c4-c230f2782be5",
   "metadata": {},
   "source": [
    "The evaluations of these three different expressions give the same value."
   ]
  },
  {
   "cell_type": "markdown",
   "id": "fa2930c3-8079-4269-8a07-d72239fe61d6",
   "metadata": {},
   "source": [
    "## This completes the exercises in this Chapter!"
   ]
  }
 ],
 "metadata": {
  "kernelspec": {
   "display_name": "Python 3 (ipykernel)",
   "language": "python",
   "name": "python3"
  },
  "language_info": {
   "codemirror_mode": {
    "name": "ipython",
    "version": 3
   },
   "file_extension": ".py",
   "mimetype": "text/x-python",
   "name": "python",
   "nbconvert_exporter": "python",
   "pygments_lexer": "ipython3",
   "version": "3.13.3"
  }
 },
 "nbformat": 4,
 "nbformat_minor": 5
}
