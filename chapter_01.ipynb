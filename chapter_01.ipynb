{
 "cells": [
  {
   "cell_type": "markdown",
   "id": "023b9952-e216-4dd4-86ed-48e70e5bc40a",
   "metadata": {},
   "source": [
    "# Chapter 1 Answers: Exercises in 1.9."
   ]
  },
  {
   "cell_type": "markdown",
   "id": "3a2a24cb-7700-4115-8856-b634e88377cd",
   "metadata": {},
   "source": [
    "## Author\n",
    "Yu-Ping Lin"
   ]
  },
  {
   "cell_type": "markdown",
   "id": "0ae298ad-4322-4f2c-926b-a390d8c28e3b",
   "metadata": {},
   "source": [
    "## Objectives\n",
    "In this notebook, I write the answers to the exercises of Chapter 1 in the textbook *Think Python: How to Think Like a Computer Scientist, 3rd Edition* by Allen B. Downey. The questions are adapted from Section 1.9. of the textbook. Please refer to the [official website](https://allendowney.github.io/ThinkPython/chap01.html) or the published versions for the chapter content and the original questions."
   ]
  },
  {
   "cell_type": "markdown",
   "id": "54436414-5df3-4582-8f43-46f85e9befbc",
   "metadata": {},
   "source": [
    "## 1.9.1. Ask a virtual assistant"
   ]
  },
  {
   "cell_type": "markdown",
   "id": "1407c3e0-39b4-4cba-9c64-555d128f902c",
   "metadata": {},
   "source": [
    "Here are some topics you could ask a virtual assistant about:"
   ]
  },
  {
   "cell_type": "markdown",
   "id": "8694c366-0bfe-4a73-8232-78ff9efde975",
   "metadata": {},
   "source": [
    "### Question 1"
   ]
  },
  {
   "cell_type": "markdown",
   "id": "4dd1a3f8-8b4e-45d5-bb6b-bc2071c736ba",
   "metadata": {},
   "source": [
    "Earlier I mentioned bitwise operators but I didn’t explain why the value of ``7 ^ 2`` is ``5``. Try asking \"What are the bitwise operators in Python?\" or \"What is the value of ``7 XOR 2``?\""
   ]
  },
  {
   "cell_type": "markdown",
   "id": "856f43ac-ba97-4d5b-a0f7-2fefa251a861",
   "metadata": {},
   "source": [
    "### Answer"
   ]
  },
  {
   "cell_type": "markdown",
   "id": "d19186ae-8084-4547-862c-00c495eae67f",
   "metadata": {},
   "source": [
    "Bitwise operators are operators that compare the binary representations of objects bit-by-bit. The resulting binary representation then defines the result."
   ]
  },
  {
   "cell_type": "markdown",
   "id": "981d05dc-44c0-41fa-9278-d1300aa63b1d",
   "metadata": {},
   "source": [
    "For example, ``7 ^ 2`` means ``7 XOR 2``, the **exclusive OR**. It compares the binary representations of ``7``, ``111``, and ``2``, ``10``, then generates a binary that is ``1`` if the bits are different and ``0`` if the bits are the same. The result is ``101``, which turns into the integer ``5``."
   ]
  },
  {
   "cell_type": "code",
   "execution_count": 2,
   "id": "2a4ef2cf-dce3-4d9a-9eae-005f13002dbf",
   "metadata": {},
   "outputs": [
    {
     "data": {
      "text/plain": [
       "5"
      ]
     },
     "execution_count": 2,
     "metadata": {},
     "output_type": "execute_result"
    }
   ],
   "source": [
    "7 ^ 2"
   ]
  },
  {
   "cell_type": "markdown",
   "id": "b434bb8b-b278-47c3-b922-a1030b874831",
   "metadata": {},
   "source": [
    "Another interesting example is ``&``, the **bitwise AND**. Anthough it is frequently used in the same way as ``and`` in logical operations, its true effect is to do bitwise comparison, with returns ``1`` and ``0`` for the same and different bits, respectively. For instance, the expression ``5 & 6`` returns ``4`` since it compares ``101`` and ``110`` and returns ``100``."
   ]
  },
  {
   "cell_type": "code",
   "execution_count": 3,
   "id": "5893581a-4163-41ee-bf19-77e6ce00d262",
   "metadata": {},
   "outputs": [
    {
     "data": {
      "text/plain": [
       "4"
      ]
     },
     "execution_count": 3,
     "metadata": {},
     "output_type": "execute_result"
    }
   ],
   "source": [
    "5 & 6"
   ]
  },
  {
   "cell_type": "markdown",
   "id": "e69b1248-a80d-4c10-945b-399541ba75df",
   "metadata": {},
   "source": [
    "### Question 2"
   ]
  },
  {
   "cell_type": "markdown",
   "id": "e96460fd-ed30-4861-a7d1-39713a8cc69a",
   "metadata": {},
   "source": [
    "I also mentioned the order of operations. For more details, ask \"What is the order of operations in Python?\""
   ]
  },
  {
   "cell_type": "markdown",
   "id": "cb20c04b-8d1b-47f8-bf9f-ae96ae0358b9",
   "metadata": {},
   "source": [
    "### Answer"
   ]
  },
  {
   "cell_type": "markdown",
   "id": "dc52c340-9dc6-42c6-9519-b910d233be36",
   "metadata": {},
   "source": [
    "Below is a table of the orders of operators in Python.\n",
    "\n",
    "| Precedence | Operators | Description |\n",
    "|-|-|-|\n",
    "| 1 | ``()`` | Parentheses (grouping) |\n",
    "| 2 | ``**`` | Exponentiation |\n",
    "|3 | ``+x``, ``-x``, ``~x`` | Unary plus, minus, bitwise NOT |\n",
    "| 4 | ``*``, ``/``, ``//``, ``%`` | Multiplication, division, floor division, modulo |\n",
    "| 5 | ``+``, ``-`` | Addition and subtraction |\n",
    "| 6 | ``<<``, ``>>`` | Bitwise shift operators |\n",
    "| 7 | ``&`` | Bitwise AND |\n",
    "| 8 | ``^`` | Bitwise XOR |\n",
    "| 9 | `` ` `` | ` |\n",
    "| 10 | ``in``, ``not in``, ``is``, ``is not``, ``<``, ``<=``, ``>``, ``>=``, ``!=``, ``==`` | Comparisons |\n",
    "| 11 | ``not`` | Logical NOT |\n",
    "| 12 | ``and`` | Logical AND |\n",
    "| 13 | ``or`` | Logical OR |\n",
    "| 14 | ``if ... else`` | Conditional expressions (ternary) |\n",
    "| 15 | ``lambda`` | Lambda expressions |\n",
    "\n",
    "Interestingly, we can see that the orders of bitwise AND `&` and logical AND `and` are actually different."
   ]
  },
  {
   "cell_type": "markdown",
   "id": "806bf387-ddd8-4827-b971-86aa630eddb2",
   "metadata": {},
   "source": [
    "### Question 3"
   ]
  },
  {
   "cell_type": "markdown",
   "id": "25fe1da1-9011-49c1-83ca-4dd63ba4eba9",
   "metadata": {},
   "source": [
    "The ``round`` function, which we used to round a floating-point number to the nearest integer, can take a second argument. Try asking \"What are the arguments of the round function?\" or \"How do I round pi off to three decimal places?\""
   ]
  },
  {
   "cell_type": "markdown",
   "id": "528ed559-7c65-4df8-aa06-1e201dd0ad4b",
   "metadata": {},
   "source": [
    "### Answer"
   ]
  },
  {
   "cell_type": "markdown",
   "id": "d6d64c63-83f8-4b86-8e6c-ccb56c0fea80",
   "metadata": {},
   "source": [
    "The syntax of round function is as follows:\n",
    "\n",
    "``round(number, ndigits = None)``\n",
    "\n",
    "The arguments are:\n",
    "1. number: The number to be rounded, whose type can be either ``int`` or ``float``.\n",
    "2. ndigits: The number of decimals for the round. With the default value ``None``, the function rounds to the nearest integer. If a positive or negative integer ``N`` is given, it rounds to the ``N``-th decimal to the right or left of the decimal point.\n",
    "\n",
    "Note that if ``number = X.5`` and ``ndigits = None``, the ``round`` function will round it to the nearest even number!\n",
    "\n",
    "Below are some examples:"
   ]
  },
  {
   "cell_type": "code",
   "execution_count": 6,
   "id": "ca64a0fc-4675-4f33-b219-57a97a054386",
   "metadata": {},
   "outputs": [
    {
     "data": {
      "text/plain": [
       "4.1"
      ]
     },
     "execution_count": 6,
     "metadata": {},
     "output_type": "execute_result"
    }
   ],
   "source": [
    "round(4.1)"
   ]
  },
  {
   "cell_type": "code",
   "execution_count": 9,
   "id": "a468999f-77fe-4e9b-bd14-9f7a337e9d3a",
   "metadata": {},
   "outputs": [
    {
     "data": {
      "text/plain": [
       "5"
      ]
     },
     "execution_count": 9,
     "metadata": {},
     "output_type": "execute_result"
    }
   ],
   "source": [
    "round(4.9)"
   ]
  },
  {
   "cell_type": "code",
   "execution_count": 10,
   "id": "99bd15de-cee4-49e8-8767-e7e4a4820948",
   "metadata": {},
   "outputs": [
    {
     "data": {
      "text/plain": [
       "4"
      ]
     },
     "execution_count": 10,
     "metadata": {},
     "output_type": "execute_result"
    }
   ],
   "source": [
    "round(4.5)"
   ]
  },
  {
   "cell_type": "code",
   "execution_count": 12,
   "id": "455ad487-5fae-496d-8750-ec253420507b",
   "metadata": {},
   "outputs": [
    {
     "name": "stdout",
     "output_type": "stream",
     "text": [
      "3.141592653589793\n"
     ]
    },
    {
     "data": {
      "text/plain": [
       "3.142"
      ]
     },
     "execution_count": 12,
     "metadata": {},
     "output_type": "execute_result"
    }
   ],
   "source": [
    "import math\n",
    "print(math.pi)\n",
    "round(math.pi, 3)"
   ]
  },
  {
   "cell_type": "markdown",
   "id": "2e8cc9b9-2b6a-47e8-92b3-8f288627484a",
   "metadata": {},
   "source": [
    "### Question 4"
   ]
  },
  {
   "cell_type": "markdown",
   "id": "48bfe9c0-43ea-4e0d-b838-18e746ccdbe3",
   "metadata": {},
   "source": [
    "There’s one more arithmetic operator I didn’t mention; try asking \"What is the modulus operator in Python?\""
   ]
  },
  {
   "cell_type": "markdown",
   "id": "f724205b-4091-470b-8ef0-222dc2e60fc7",
   "metadata": {},
   "source": [
    "### Answer"
   ]
  },
  {
   "cell_type": "markdown",
   "id": "fe6589a3-e538-4150-987c-1f7283b0c297",
   "metadata": {},
   "source": [
    "The modulus operator ``%`` returns the remainder of a division. For example, the expression ``a % b`` will return the remainder of ``a`` under the division with ``b``.\n",
    "\n",
    "Below are some examples:"
   ]
  },
  {
   "cell_type": "code",
   "execution_count": 13,
   "id": "60bef228-3671-46d0-8706-c2ccd0ec0276",
   "metadata": {},
   "outputs": [
    {
     "data": {
      "text/plain": [
       "1"
      ]
     },
     "execution_count": 13,
     "metadata": {},
     "output_type": "execute_result"
    }
   ],
   "source": [
    "7 % 3"
   ]
  },
  {
   "cell_type": "code",
   "execution_count": 14,
   "id": "f532041b-59f1-48a0-ae33-1f9966ea0727",
   "metadata": {},
   "outputs": [
    {
     "data": {
      "text/plain": [
       "4"
      ]
     },
     "execution_count": 14,
     "metadata": {},
     "output_type": "execute_result"
    }
   ],
   "source": [
    "9 % 5"
   ]
  },
  {
   "cell_type": "markdown",
   "id": "195a2b26-7182-485c-89b3-c5848a1a6746",
   "metadata": {},
   "source": [
    "## 1.9.2. Exercise"
   ]
  },
  {
   "cell_type": "markdown",
   "id": "b2898025-4bf8-4e29-b1c0-406aafd6ff82",
   "metadata": {},
   "source": [
    "### Question"
   ]
  },
  {
   "cell_type": "markdown",
   "id": "7e67b4d4-830a-4eaf-a353-4d27add442b1",
   "metadata": {},
   "source": [
    "You might wonder what ``round`` does if a number ends in ``0.5``. The answer is that it sometimes rounds up and sometimes rounds down. Try these examples and see if you can figure out what rule it follows."
   ]
  },
  {
   "cell_type": "code",
   "execution_count": 19,
   "id": "2ac7f83a-1290-4699-a323-3fbfdcfb1699",
   "metadata": {},
   "outputs": [
    {
     "data": {
      "text/plain": [
       "42"
      ]
     },
     "execution_count": 19,
     "metadata": {},
     "output_type": "execute_result"
    }
   ],
   "source": [
    "round(42.5)"
   ]
  },
  {
   "cell_type": "code",
   "execution_count": 16,
   "id": "1572ca86-b5e2-40e0-b1b5-276395fb970d",
   "metadata": {},
   "outputs": [
    {
     "data": {
      "text/plain": [
       "44"
      ]
     },
     "execution_count": 16,
     "metadata": {},
     "output_type": "execute_result"
    }
   ],
   "source": [
    "round(43.5)"
   ]
  },
  {
   "cell_type": "markdown",
   "id": "f2b58b83-d055-4a5f-b0d9-cc28ebd13d3a",
   "metadata": {},
   "source": [
    "### Answer"
   ]
  },
  {
   "cell_type": "markdown",
   "id": "7a64315f-662f-4350-8dc2-db065d4263e3",
   "metadata": {},
   "source": [
    "As mentioned in **Question 3** of **1.9.1. Exercise**, the round function rounds to the nearest even value. Note that this rule applies for any ``ndigits``."
   ]
  },
  {
   "cell_type": "markdown",
   "id": "3396cf76-06f9-436e-8d59-b0a46849ac54",
   "metadata": {},
   "source": [
    "## 1.9.3. Exercise"
   ]
  },
  {
   "cell_type": "markdown",
   "id": "fdf81ce4-4f5c-47b9-bd37-d52216f541c6",
   "metadata": {},
   "source": [
    "When you learn about a new feature, you should try it out and make mistakes on purpose. That way, you learn the error messages, and when you see them again, you will know what they mean. It is better to make mistakes now and deliberately than later and accidentally."
   ]
  },
  {
   "cell_type": "markdown",
   "id": "1a9bd1c0-a7a3-4789-9cdc-4b9e966219b4",
   "metadata": {},
   "source": [
    "### Question 1"
   ]
  },
  {
   "cell_type": "markdown",
   "id": "c71540e4-fd65-4269-9608-0cfeaa16c585",
   "metadata": {},
   "source": [
    "You can use a minus sign to make a negative number like ``-2``. What happens if you put a plus sign before a number? What about ``2++2``?"
   ]
  },
  {
   "cell_type": "markdown",
   "id": "e00296e4-b59e-48b3-a29f-52b1b41578b1",
   "metadata": {},
   "source": [
    "### Answer"
   ]
  },
  {
   "cell_type": "code",
   "execution_count": 26,
   "id": "eef4230f-03e3-41b1-8074-1fabce13f026",
   "metadata": {},
   "outputs": [
    {
     "data": {
      "text/plain": [
       "4"
      ]
     },
     "execution_count": 26,
     "metadata": {},
     "output_type": "execute_result"
    }
   ],
   "source": [
    "2++2"
   ]
  },
  {
   "cell_type": "markdown",
   "id": "f7b34285-b682-45c5-9d42-e8d8994529d6",
   "metadata": {},
   "source": [
    "``2++2`` means ``2 + +2``, which returns ``4``."
   ]
  },
  {
   "cell_type": "markdown",
   "id": "7cf6762c-83de-4f92-acbc-27d0cf732bf2",
   "metadata": {},
   "source": [
    "### Question 2"
   ]
  },
  {
   "cell_type": "markdown",
   "id": "3609fbc3-dbab-48a8-bedc-35bb3fcffc50",
   "metadata": {},
   "source": [
    "What happens if you have two values with no operator between them, like ``4 2``?"
   ]
  },
  {
   "cell_type": "markdown",
   "id": "d1332d46-872e-4e66-ae6f-7f55d0d0c28b",
   "metadata": {},
   "source": [
    "### Answer"
   ]
  },
  {
   "cell_type": "code",
   "execution_count": 27,
   "id": "7014ef18-1242-4c3f-b890-5211ab936500",
   "metadata": {},
   "outputs": [
    {
     "ename": "SyntaxError",
     "evalue": "invalid syntax (436257307.py, line 1)",
     "output_type": "error",
     "traceback": [
      "  \u001b[36mCell\u001b[39m\u001b[36m \u001b[39m\u001b[32mIn[27]\u001b[39m\u001b[32m, line 1\u001b[39m\n\u001b[31m    \u001b[39m\u001b[31m4 2\u001b[39m\n      ^\n\u001b[31mSyntaxError\u001b[39m\u001b[31m:\u001b[39m invalid syntax\n"
     ]
    }
   ],
   "source": [
    "4 2"
   ]
  },
  {
   "cell_type": "markdown",
   "id": "b8fe5e24-9596-446c-8aab-044a3f40ecac",
   "metadata": {},
   "source": [
    "The execution of this expression returns a ``SyntaxError``, meaning that the structure of this expression is invalid. There must be some operator between two values in an expression."
   ]
  },
  {
   "cell_type": "markdown",
   "id": "97d9ab4c-b5cb-41e3-9f71-a94b5aa1e153",
   "metadata": {},
   "source": [
    "### Question 3"
   ]
  },
  {
   "cell_type": "markdown",
   "id": "c76be816-ce47-4f6d-8478-eef939e904c5",
   "metadata": {},
   "source": [
    "If you call a function like ``round(42.5)``, what happens if you leave out one or both parentheses?"
   ]
  },
  {
   "cell_type": "markdown",
   "id": "5bcf4faa-5e95-4acb-90e7-113efc8099de",
   "metadata": {},
   "source": [
    "### Answer"
   ]
  },
  {
   "cell_type": "code",
   "execution_count": 28,
   "id": "f17abfeb-266d-43b7-bb74-2a6e0f1f3946",
   "metadata": {},
   "outputs": [
    {
     "ename": "_IncompleteInputError",
     "evalue": "incomplete input (3923528527.py, line 1)",
     "output_type": "error",
     "traceback": [
      "  \u001b[36mCell\u001b[39m\u001b[36m \u001b[39m\u001b[32mIn[28]\u001b[39m\u001b[32m, line 1\u001b[39m\n\u001b[31m    \u001b[39m\u001b[31mround(42.5\u001b[39m\n              ^\n\u001b[31m_IncompleteInputError\u001b[39m\u001b[31m:\u001b[39m incomplete input\n"
     ]
    }
   ],
   "source": [
    "round(42.5"
   ]
  },
  {
   "cell_type": "markdown",
   "id": "83e8f3db-d5bc-45a5-a51b-c66719037aeb",
   "metadata": {},
   "source": [
    "The expression returns an ``IncompleteInputError, meaning that the input to the function ``round`` is incomplete."
   ]
  },
  {
   "cell_type": "markdown",
   "id": "d42e88d7-7112-496c-a858-2fa9b9ec133f",
   "metadata": {},
   "source": [
    "## 1.9.4. Exercise"
   ]
  },
  {
   "cell_type": "markdown",
   "id": "a7756dd3-3348-45a8-807a-42869394515c",
   "metadata": {},
   "source": [
    "### Question"
   ]
  },
  {
   "cell_type": "markdown",
   "id": "24e7cccd-215d-4208-8c00-be8168ec75e3",
   "metadata": {},
   "source": [
    "Recall that every expression has a value, every value has a type, and we can use the ``type`` function to find the type of any value.\n",
    "\n",
    "What is the type of the value of the following expressions? Make your best guess for each one, and then use ``type`` to find out.\n",
    "\n",
    "- ``765``\n",
    "- ``2.718``\n",
    "- ``'2 pi'``\n",
    "- ``abs(-7)``\n",
    "- ``abs(-7.0)``\n",
    "- ``abs``\n",
    "- ``int``\n",
    "- ``type``"
   ]
  },
  {
   "cell_type": "markdown",
   "id": "442f7e75-36d3-48b8-b6b2-5c2445234dae",
   "metadata": {},
   "source": [
    "### Answer"
   ]
  },
  {
   "cell_type": "markdown",
   "id": "6402d82e-6071-4a59-b454-b5e6d0545d74",
   "metadata": {},
   "source": [
    "See below for the output of the ``type`` function on these values."
   ]
  },
  {
   "cell_type": "code",
   "execution_count": 29,
   "id": "711d023a-91c3-4374-88bc-02ac74b0a53c",
   "metadata": {},
   "outputs": [
    {
     "name": "stdout",
     "output_type": "stream",
     "text": [
      "The type of 765 is <class 'int'>\n",
      "The type of 2.718 is <class 'float'>\n",
      "The type of '2 pi' is <class 'str'>\n",
      "The type of abs(-7) is <class 'int'>\n",
      "The type of abs(-7.0) is <class 'float'>\n",
      "The type of (abs is <class 'builtin_function_or_method'>\n",
      "The type of int is <class 'type'>\n",
      "The type of type is <class 'type'>\n"
     ]
    }
   ],
   "source": [
    "print(f\"The type of 765 is {type(765)}\")\n",
    "print(f\"The type of 2.718 is {type(2.718)}\")\n",
    "print(f\"The type of '2 pi' is {type('2 pi')}\")\n",
    "print(f\"The type of abs(-7) is {type(abs(-7))}\")\n",
    "print(f\"The type of abs(-7.0) is {type(abs(-7.0))}\")\n",
    "print(f\"The type of (abs is {type(abs)}\")\n",
    "print(f\"The type of int is {type(int)}\")\n",
    "print(f\"The type of type is {type(type)}\")"
   ]
  },
  {
   "cell_type": "markdown",
   "id": "030a3bc1-6081-4fb1-8bfd-d409b9ad7e51",
   "metadata": {},
   "source": [
    "The last one is especially interesting: The type of ``type`` is ``type``! It can be understood as follows:\n",
    "1. Everything in Python is an object, including classes.\n",
    "2. The classes themselves are the instances in the ``type`` metaclass.\n",
    "3. Since ``type`` is itself a class, its type is also ``type``."
   ]
  },
  {
   "cell_type": "markdown",
   "id": "ade53139-ba4a-488a-bce6-64561c2f9d97",
   "metadata": {},
   "source": [
    "## 1.9.5. Exercise"
   ]
  },
  {
   "cell_type": "markdown",
   "id": "92df7203-9280-4af8-b7b1-c751a91fda30",
   "metadata": {},
   "source": [
    "The following questions give you a chance to practice writing arithmetic expressions. If you already know about variables, you can use them for this exercise. If you don’t, you can do the exercise without them – and then we’ll see them in the next chapter.\n",
    "\n",
    "(To match the content of this chapter, here we do not use the variables on purpose.)"
   ]
  },
  {
   "cell_type": "markdown",
   "id": "ff3ee9b4-c4d6-42c8-9cdb-0ee8814ad74f",
   "metadata": {},
   "source": [
    "### Question 1"
   ]
  },
  {
   "cell_type": "markdown",
   "id": "a557030c-b9c6-4082-bbfe-1cf431a32edf",
   "metadata": {},
   "source": [
    "How many seconds are there in 42 minutes 42 seconds?"
   ]
  },
  {
   "cell_type": "markdown",
   "id": "891f2d63-54b2-43e0-b761-0a87726ceb9f",
   "metadata": {},
   "source": [
    "### Answer"
   ]
  },
  {
   "cell_type": "markdown",
   "id": "afcda7c4-482f-4b89-baff-7d65ee3b2c06",
   "metadata": {},
   "source": [
    "Since 1 minute is 60 seconds, we can multiply the number of minutes by 60 and add the number of seconds."
   ]
  },
  {
   "cell_type": "code",
   "execution_count": 30,
   "id": "52283d3d-98f7-4c99-8113-99637dc9f4fd",
   "metadata": {},
   "outputs": [
    {
     "data": {
      "text/plain": [
       "2562"
      ]
     },
     "execution_count": 30,
     "metadata": {},
     "output_type": "execute_result"
    }
   ],
   "source": [
    "42 * 60 + 42"
   ]
  },
  {
   "cell_type": "markdown",
   "id": "0fe17a2b-8485-4c5c-9f31-445f7189a39f",
   "metadata": {},
   "source": [
    "### Question 2"
   ]
  },
  {
   "cell_type": "markdown",
   "id": "a1bb0893-4685-4efd-b82e-77877f759ddb",
   "metadata": {},
   "source": [
    "How many miles are there in 10 kilometers? Hint: there are 1.61 kilometers in a mile."
   ]
  },
  {
   "cell_type": "markdown",
   "id": "613f824e-5b7a-419e-9898-04cb045bb685",
   "metadata": {},
   "source": [
    "### Answer"
   ]
  },
  {
   "cell_type": "markdown",
   "id": "6595e28f-3b1e-4c0d-bf91-2c8f6d2a04c7",
   "metadata": {},
   "source": [
    "Since 1 mile is 1.61 kilometers, we can divide the number of kilometers by 1.61 to get the number of miles."
   ]
  },
  {
   "cell_type": "code",
   "execution_count": 31,
   "id": "55b44192-131b-4075-a7c8-32b6c3279e64",
   "metadata": {},
   "outputs": [
    {
     "data": {
      "text/plain": [
       "6.211180124223602"
      ]
     },
     "execution_count": 31,
     "metadata": {},
     "output_type": "execute_result"
    }
   ],
   "source": [
    "10 / 1.61"
   ]
  },
  {
   "cell_type": "markdown",
   "id": "dadf4675-ca33-4160-a6d9-ce19249812f7",
   "metadata": {},
   "source": [
    "### Question 3"
   ]
  },
  {
   "cell_type": "markdown",
   "id": "4b13dbae-01c2-4b72-b6e7-d63ff6de0784",
   "metadata": {},
   "source": [
    "If you run a 10 kilometer race in 42 minutes 42 seconds, what is your average pace in seconds per mile?"
   ]
  },
  {
   "cell_type": "markdown",
   "id": "e50ac38a-ee4a-4b3e-baba-5ee4cdc4975f",
   "metadata": {},
   "source": [
    "### Answer"
   ]
  },
  {
   "cell_type": "markdown",
   "id": "53bb164b-d4a0-422b-b081-255dd9b9af9c",
   "metadata": {},
   "source": [
    "In the previous two questions, we have obtained the number of seconds in 42 minutes 42 seconds and the number of miles in 10 kilometers. Our task here is simply divide them."
   ]
  },
  {
   "cell_type": "code",
   "execution_count": 32,
   "id": "5bbac0cf-c482-4302-90bd-a71115223997",
   "metadata": {},
   "outputs": [
    {
     "data": {
      "text/plain": [
       "0.0024243482139826703"
      ]
     },
     "execution_count": 32,
     "metadata": {},
     "output_type": "execute_result"
    }
   ],
   "source": [
    "6.211180124223602 / 2562"
   ]
  },
  {
   "cell_type": "markdown",
   "id": "47754bf2-61a6-46cf-9c46-94a420cf6e03",
   "metadata": {},
   "source": [
    "### Question 4"
   ]
  },
  {
   "cell_type": "markdown",
   "id": "b08edef2-ecae-4043-ae72-c2d42695273c",
   "metadata": {},
   "source": [
    "What is your average pace in minutes and seconds per mile?"
   ]
  },
  {
   "cell_type": "markdown",
   "id": "4db171f0-f82c-47dd-a714-dadfe7fa447b",
   "metadata": {},
   "source": [
    "### Answer"
   ]
  },
  {
   "cell_type": "markdown",
   "id": "ad4b37fb-f2da-4de0-b3d0-126ed1958eec",
   "metadata": {},
   "source": [
    "To derive the answer, we first compute the seconds per mile."
   ]
  },
  {
   "cell_type": "code",
   "execution_count": 34,
   "id": "4a52cee0-4ca4-4d4a-8c66-89ab46e5e2eb",
   "metadata": {},
   "outputs": [
    {
     "data": {
      "text/plain": [
       "412.482"
      ]
     },
     "execution_count": 34,
     "metadata": {},
     "output_type": "execute_result"
    }
   ],
   "source": [
    "2562 / 6.211180124223602"
   ]
  },
  {
   "cell_type": "markdown",
   "id": "646c87f2-6e8d-496c-8048-b6ae18768e4a",
   "metadata": {},
   "source": [
    "Then we can use the integer division ``//`` and remainder ``%`` by 60, the number of seconds per minute, to obtain the result."
   ]
  },
  {
   "cell_type": "code",
   "execution_count": 41,
   "id": "2a297c18-fb75-4cd0-9cbd-319f00dee84d",
   "metadata": {},
   "outputs": [
    {
     "data": {
      "text/plain": [
       "6"
      ]
     },
     "execution_count": 41,
     "metadata": {},
     "output_type": "execute_result"
    }
   ],
   "source": [
    "round(412.482 // 60)"
   ]
  },
  {
   "cell_type": "code",
   "execution_count": 40,
   "id": "645f1d69-832c-4ca8-b142-e4d03bef86eb",
   "metadata": {},
   "outputs": [
    {
     "data": {
      "text/plain": [
       "52.482"
      ]
     },
     "execution_count": 40,
     "metadata": {},
     "output_type": "execute_result"
    }
   ],
   "source": [
    "round(412.482 % 60, 3)"
   ]
  },
  {
   "cell_type": "markdown",
   "id": "901a4359-caf9-4bfb-98ba-dac792fd0276",
   "metadata": {},
   "source": [
    "So the result is 6 minute 52.482 seconds."
   ]
  },
  {
   "cell_type": "markdown",
   "id": "9ecde67d-94e6-4208-878e-a43ad48cac65",
   "metadata": {},
   "source": [
    "### Question 5"
   ]
  },
  {
   "cell_type": "markdown",
   "id": "96fc0e26-1367-43ad-9378-80fca0a87f37",
   "metadata": {},
   "source": [
    "What is your average speed in miles per hour?"
   ]
  },
  {
   "cell_type": "markdown",
   "id": "f7df9f86-5ec2-4ba8-8d1c-d04b2d539c70",
   "metadata": {},
   "source": [
    "### Answer"
   ]
  },
  {
   "cell_type": "markdown",
   "id": "a7e0942c-4990-4405-a49a-87bed9b5db82",
   "metadata": {},
   "source": [
    "We can first compute the number of hours in 2562 seconds, with 1 hour equaling 60 minutes in mind."
   ]
  },
  {
   "cell_type": "code",
   "execution_count": 42,
   "id": "ddc815b5-7395-4542-879b-490700da6b22",
   "metadata": {},
   "outputs": [
    {
     "data": {
      "text/plain": [
       "0.7116666666666667"
      ]
     },
     "execution_count": 42,
     "metadata": {},
     "output_type": "execute_result"
    }
   ],
   "source": [
    "(2562 / 60) / 60"
   ]
  },
  {
   "cell_type": "markdown",
   "id": "8780953d-506f-43df-aa34-6f33357605d5",
   "metadata": {},
   "source": [
    "Then we can divide the number of miles by the number of hours, which gives the average speed in miles per hour."
   ]
  },
  {
   "cell_type": "code",
   "execution_count": 43,
   "id": "4bbbcb92-ac42-495b-9d05-5a0f8005f50a",
   "metadata": {},
   "outputs": [
    {
     "data": {
      "text/plain": [
       "8.727653570337614"
      ]
     },
     "execution_count": 43,
     "metadata": {},
     "output_type": "execute_result"
    }
   ],
   "source": [
    "6.211180124223602 / 0.7116666666666667"
   ]
  },
  {
   "cell_type": "markdown",
   "id": "fa2930c3-8079-4269-8a07-d72239fe61d6",
   "metadata": {},
   "source": [
    "## This completes the exercises in this Chapter!"
   ]
  }
 ],
 "metadata": {
  "kernelspec": {
   "display_name": "Python 3 (ipykernel)",
   "language": "python",
   "name": "python3"
  },
  "language_info": {
   "codemirror_mode": {
    "name": "ipython",
    "version": 3
   },
   "file_extension": ".py",
   "mimetype": "text/x-python",
   "name": "python",
   "nbconvert_exporter": "python",
   "pygments_lexer": "ipython3",
   "version": "3.13.3"
  }
 },
 "nbformat": 4,
 "nbformat_minor": 5
}
