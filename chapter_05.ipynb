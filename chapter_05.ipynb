{
 "cells": [
  {
   "cell_type": "markdown",
   "id": "023b9952-e216-4dd4-86ed-48e70e5bc40a",
   "metadata": {},
   "source": [
    "# Chapter 5 Answers: Exercises in 5.14."
   ]
  },
  {
   "cell_type": "markdown",
   "id": "3a2a24cb-7700-4115-8856-b634e88377cd",
   "metadata": {},
   "source": [
    "## Author\n",
    "Yu-Ping Lin"
   ]
  },
  {
   "cell_type": "markdown",
   "id": "0ae298ad-4322-4f2c-926b-a390d8c28e3b",
   "metadata": {},
   "source": [
    "## Objectives\n",
    "In this notebook, I write the answers to the exercises of **Chapter 5: Conditionals and Recursion** in the textbook *Think Python: How to Think Like a Computer Scientist, 3rd Edition* by Allen B. Downey. The questions are adapted from Section 5.14. of the textbook. Please refer to the [official website](https://allendowney.github.io/ThinkPython/chap05.html) or the published versions for the chapter content and the original questions."
   ]
  },
  {
   "cell_type": "markdown",
   "id": "54436414-5df3-4582-8f43-46f85e9befbc",
   "metadata": {},
   "source": [
    "## 5.14.1. Ask a virtual assistant"
   ]
  },
  {
   "cell_type": "markdown",
   "id": "d0048a70-e080-471c-a69e-18d8da350173",
   "metadata": {},
   "source": [
    "### Question 1"
   ]
  },
  {
   "cell_type": "markdown",
   "id": "164f2299-cf04-4ce4-954d-b82e0e5801be",
   "metadata": {},
   "source": [
    "#### Question 1.1"
   ]
  },
  {
   "cell_type": "markdown",
   "id": "c8ec544e-a3fc-4ad2-ba15-8042c0855ad2",
   "metadata": {},
   "source": [
    "Ask a virtual assistant, \"What are some uses of the modulus operator?\""
   ]
  },
  {
   "cell_type": "markdown",
   "id": "90841599-835e-4059-9574-f933051ea76c",
   "metadata": {},
   "source": [
    "#### Answer"
   ]
  },
  {
   "cell_type": "markdown",
   "id": "145d4f9b-2de7-43bf-beff-031afc946fe4",
   "metadata": {},
   "source": [
    "In Python, the modulus operator ``%`` returns the remainder of a division between integers. It can be used in a variety of programming tasks. Here we list a few of the applications:\n",
    "\n",
    "1. Check for even or odd numbers:\n",
    "\n",
    "   ```\n",
    "   if num % 2 == 0:\n",
    "       print(\"Even\")\n",
    "   else:\n",
    "       print(\"Odd\")\n",
    "   ```\n",
    "   ```\n",
    "   ```\n",
    "   \n",
    "2. Wrap around values, such as circular indexing:\n",
    "   \n",
    "   ```\n",
    "   index_1 = (index + 1) % len(my_list)\n",
    "   ```\n",
    "   ```\n",
    "   ```\n",
    "   \n",
    "3. Determine divisibility:\n",
    "\n",
    "   ```\n",
    "   if x % 5 == 0:\n",
    "       print(\"x is divisible by 5\")\n",
    "   ```\n",
    "   ```\n",
    "   ```\n",
    "\n",
    "4. Time calculations, such as coverting seconds to minutes and seconds:\n",
    "\n",
    "   ```\n",
    "   seconds = 125\n",
    "   minutes = seconds // 60\n",
    "   remaining_seconds = seconds % 60\n",
    "   ```\n",
    "   ```\n",
    "   ```\n",
    "\n",
    "5. Alternating behavior in conditional statements:\n",
    "\n",
    "   ```\n",
    "   for i in range(10):\n",
    "       if i % 3 == 0:\n",
    "           print(\"Fizz\")\n",
    "       elif i % 3 == 1:\n",
    "           print(\"Buzz\")\n",
    "       else:\n",
    "           print(\"Baz\")\n",
    "   ```\n",
    "   ```\n",
    "   ```\n",
    "\n",
    "6. Control loop execution, such as doing something every few iterations:\n",
    "\n",
    "   ```\n",
    "   for i in range(100):\n",
    "       if i % 10 == 0:\n",
    "           print(f\"Checkpoint at iteration {i}\")\n",
    "   ```\n",
    "   ```\n",
    "   ```"
   ]
  },
  {
   "cell_type": "markdown",
   "id": "7ce4699e-4c85-4ed5-8d87-8e794d725a4d",
   "metadata": {},
   "source": [
    "#### Question 1.2"
   ]
  },
  {
   "cell_type": "markdown",
   "id": "e287167d-ea25-465b-9f43-b200a7702b9d",
   "metadata": {},
   "source": [
    "Python provides operators to compute the logical operations ``and``, ``or``, and ``not``, but it doesn't have an operator that computes the exclusive ``or`` operation, usually written ``xor``. Ask an assistant \"What is the logical xor operation and how do I compute it in Python?\""
   ]
  },
  {
   "cell_type": "markdown",
   "id": "336c0cd2-0298-4793-a5d3-4ed80026bec9",
   "metadata": {},
   "source": [
    "#### Answer"
   ]
  },
  {
   "cell_type": "markdown",
   "id": "e3a1b62b-3a57-4499-a338-cc7755e53224",
   "metadata": {},
   "source": [
    "The logical XOR operator is an operation that returns ``True`` only if one of the operands is ``True``. For example, we can take a look at the result A XOR B for different boolean values of A and B:\n",
    "| A | B | A XOR B |\n",
    "| - | - | - |\n",
    "| False | False | False |\n",
    "| False | True | True |\n",
    "| True | False | True |\n",
    "| True | True | False |"
   ]
  },
  {
   "cell_type": "markdown",
   "id": "bc2a2b47-98da-4433-8675-bb323660d17a",
   "metadata": {},
   "source": [
    "The logical operation of XOR can be achieved with the built-in operator ``^``:"
   ]
  },
  {
   "cell_type": "code",
   "execution_count": 1,
   "id": "82f4e6e1-89df-45ae-9815-37bd82f49e8d",
   "metadata": {},
   "outputs": [
    {
     "name": "stdout",
     "output_type": "stream",
     "text": [
      "With a = False and b = False, a ^ b = False.\n",
      "With a = False and b = True, a ^ b = True.\n",
      "With a = True and b = False, a ^ b = True.\n",
      "With a = True and b = True, a ^ b = False.\n"
     ]
    }
   ],
   "source": [
    "A = [False, True]\n",
    "B = A.copy()\n",
    "for a in A:\n",
    "    for b in B:\n",
    "        print(f\"With a = {a} and b = {b}, a ^ b = {a ^ b}.\")"
   ]
  },
  {
   "cell_type": "markdown",
   "id": "8694c366-0bfe-4a73-8232-78ff9efde975",
   "metadata": {},
   "source": [
    "### Question 2"
   ]
  },
  {
   "cell_type": "markdown",
   "id": "4dd1a3f8-8b4e-45d5-bb6b-bc2071c736ba",
   "metadata": {},
   "source": [
    "In this chapter, we saw two ways to write an ``if`` statement with three branches, using a chained conditional or a nested conditional. You can use a virtual assistant to convert from one to the other."
   ]
  },
  {
   "cell_type": "markdown",
   "id": "a0833187-e0db-417b-a3f6-9b4430a2781a",
   "metadata": {},
   "source": [
    "#### Question 2.1"
   ]
  },
  {
   "cell_type": "markdown",
   "id": "729d43ba-2ebf-4e06-bd80-1293a5b16443",
   "metadata": {},
   "source": [
    "For example, ask a VA, \"Convert this statement to a chained conditional.\""
   ]
  },
  {
   "cell_type": "code",
   "execution_count": 2,
   "id": "62ea8de8-9c54-45bb-81f9-d50ad6d8cdb5",
   "metadata": {},
   "outputs": [
    {
     "name": "stdout",
     "output_type": "stream",
     "text": [
      "x is less than y\n"
     ]
    }
   ],
   "source": [
    "x = 5\n",
    "y = 7\n",
    "\n",
    "if x == y:\n",
    "    print(\"x and y are equal\")\n",
    "else:\n",
    "    if x < y:\n",
    "        print(\"x is less than y\")\n",
    "    else:\n",
    "        print(\"x is greater than y\")"
   ]
  },
  {
   "cell_type": "markdown",
   "id": "856f43ac-ba97-4d5b-a0f7-2fefa251a861",
   "metadata": {},
   "source": [
    "#### Answer"
   ]
  },
  {
   "cell_type": "markdown",
   "id": "97ea4149-39cc-4097-ab6c-c12aadb4946e",
   "metadata": {},
   "source": [
    "ChatGPT returns a chained conditional with an additional ``elif``:"
   ]
  },
  {
   "cell_type": "code",
   "execution_count": 3,
   "id": "ca510aeb-62d5-4dca-a5fd-67dc64e3dce6",
   "metadata": {},
   "outputs": [
    {
     "name": "stdout",
     "output_type": "stream",
     "text": [
      "x is less than y\n"
     ]
    }
   ],
   "source": [
    "x = 5\n",
    "y = 7\n",
    "\n",
    "if x == y:\n",
    "    print(\"x and y are equal\")\n",
    "elif x < y:\n",
    "    print(\"x is less than y\")\n",
    "else:\n",
    "    print(\"x is greater than y\")"
   ]
  },
  {
   "cell_type": "markdown",
   "id": "21880d0f-aec9-4f08-a4d0-a7d76af26e8b",
   "metadata": {},
   "source": [
    "#### Question 2.2"
   ]
  },
  {
   "cell_type": "markdown",
   "id": "bc1befe0-e959-4508-ba23-1e4a80c114fa",
   "metadata": {},
   "source": [
    "Ask a VA, \"Rewrite this statement with a single conditional.\""
   ]
  },
  {
   "cell_type": "code",
   "execution_count": 4,
   "id": "e9c573f7-d60a-4467-a2a0-3356350f461a",
   "metadata": {},
   "outputs": [
    {
     "name": "stdout",
     "output_type": "stream",
     "text": [
      "x is a positive single-digit number.\n"
     ]
    }
   ],
   "source": [
    "x = 5\n",
    "\n",
    "if 0 < x:\n",
    "    if x < 10:\n",
    "        print(\"x is a positive single-digit number.\")"
   ]
  },
  {
   "cell_type": "markdown",
   "id": "dc973675-5ac9-4e91-9724-99c77a30eaf9",
   "metadata": {},
   "source": [
    "#### Answer"
   ]
  },
  {
   "cell_type": "markdown",
   "id": "661a8aa4-9871-4cd8-bc97-49e87c8c61af",
   "metadata": {},
   "source": [
    "ChatGPT returns two different answers to this question. One uses the ``and`` operator:"
   ]
  },
  {
   "cell_type": "code",
   "execution_count": 5,
   "id": "24ef52f2-6656-46c1-b860-46678a3fee88",
   "metadata": {},
   "outputs": [
    {
     "name": "stdout",
     "output_type": "stream",
     "text": [
      "x is a positive single-digit number.\n"
     ]
    }
   ],
   "source": [
    "x = 5\n",
    "\n",
    "if 0 < x and x < 10:\n",
    "    print(\"x is a positive single-digit number.\")"
   ]
  },
  {
   "cell_type": "markdown",
   "id": "f56d42af-b800-4ab4-874b-f1f4cbae7267",
   "metadata": {},
   "source": [
    "The other one uses Python's chained comparison, which is more idiomatic:"
   ]
  },
  {
   "cell_type": "code",
   "execution_count": 6,
   "id": "7c67a752-9a87-453c-99a0-dbc64949fdf3",
   "metadata": {},
   "outputs": [
    {
     "name": "stdout",
     "output_type": "stream",
     "text": [
      "x is a positive single-digit number.\n"
     ]
    }
   ],
   "source": [
    "x = 5\n",
    "\n",
    "if 0 < x < 10:\n",
    "    print(\"x is a positive single-digit number.\")"
   ]
  },
  {
   "cell_type": "markdown",
   "id": "6c417a69-b328-4ecb-b355-bdaeb4e8f6c6",
   "metadata": {},
   "source": [
    "#### Question 2.3"
   ]
  },
  {
   "cell_type": "markdown",
   "id": "901d3ad4-dec6-4917-b7b6-bb5740ee291b",
   "metadata": {},
   "source": [
    "See if a VA can simplify this unnecessary complexity."
   ]
  },
  {
   "cell_type": "code",
   "execution_count": 7,
   "id": "2d2f5fea-35b0-4c8f-9235-d8054ac871c2",
   "metadata": {},
   "outputs": [
    {
     "name": "stdout",
     "output_type": "stream",
     "text": [
      "x is a positive single-digit number.\n"
     ]
    }
   ],
   "source": [
    "x = 5\n",
    "\n",
    "if not x <= 0 and not x >= 10:\n",
    "    print(\"x is a positive single-digit number.\")"
   ]
  },
  {
   "cell_type": "markdown",
   "id": "1b9998e1-4bd6-4883-8ce1-7084a00ebd04",
   "metadata": {},
   "source": [
    "#### Answer"
   ]
  },
  {
   "cell_type": "markdown",
   "id": "52e4fe1f-b537-4130-9ec3-580656fa5ee8",
   "metadata": {},
   "source": [
    "ChatGPT removes the double negations and uses a chained comparison:"
   ]
  },
  {
   "cell_type": "code",
   "execution_count": 8,
   "id": "6fb86d77-8909-490d-aeb2-f5fa2549db56",
   "metadata": {},
   "outputs": [
    {
     "name": "stdout",
     "output_type": "stream",
     "text": [
      "x is a positive single-digit number.\n"
     ]
    }
   ],
   "source": [
    "x = 5\n",
    "\n",
    "if 0 < x < 10:\n",
    "    print(\"x is a positive single-digit number.\")"
   ]
  },
  {
   "cell_type": "markdown",
   "id": "806bf387-ddd8-4827-b971-86aa630eddb2",
   "metadata": {},
   "source": [
    "### Question 3"
   ]
  },
  {
   "cell_type": "markdown",
   "id": "25fe1da1-9011-49c1-83ca-4dd63ba4eba9",
   "metadata": {},
   "source": [
    "Here's an attempt at a recursive function that counts down by two."
   ]
  },
  {
   "cell_type": "code",
   "execution_count": 9,
   "id": "c85d0319-3938-4566-8400-a90c198a1230",
   "metadata": {},
   "outputs": [],
   "source": [
    "def countdown_by_two(n):\n",
    "    if n == 0:\n",
    "        print(\"Blastoff!\")\n",
    "    else:\n",
    "        print(n)\n",
    "        countdown_by_two(n - 2)"
   ]
  },
  {
   "cell_type": "markdown",
   "id": "bacfccf2-9704-4ac2-9096-c850db7fb940",
   "metadata": {},
   "source": [
    "It seems to work."
   ]
  },
  {
   "cell_type": "code",
   "execution_count": 10,
   "id": "4a854a30-2059-4480-8bea-cd8af22d3861",
   "metadata": {},
   "outputs": [
    {
     "name": "stdout",
     "output_type": "stream",
     "text": [
      "6\n",
      "4\n",
      "2\n",
      "Blastoff!\n"
     ]
    }
   ],
   "source": [
    "countdown_by_two(6)"
   ]
  },
  {
   "cell_type": "markdown",
   "id": "2c124d64-d958-43ed-a262-a9604df391f3",
   "metadata": {},
   "source": [
    "But it has an error. Ask a virtual assistant what's wrong and how to fix it. Paste the solution it provides back here and test it."
   ]
  },
  {
   "cell_type": "markdown",
   "id": "528ed559-7c65-4df8-aa06-1e201dd0ad4b",
   "metadata": {},
   "source": [
    "### Answer"
   ]
  },
  {
   "cell_type": "markdown",
   "id": "d6d64c63-83f8-4b86-8e6c-ccb56c0fea80",
   "metadata": {},
   "source": [
    "According to ChatGPT, the function logic is almost correct, but it may go into **infinite recursion** or print unintended values when ``n`` is **negative** or **odd** (e.g., ``n = 5`` $\\rightarrow$ 5, 3, 1, -1, -3, ....). The problem is that there is no base case for negative numbers, and it will never reach ``n = 0`` if we start from an odd or negative integer. The way to fix it is to modify the base case to include all non-positive numbers ``n <= 0`` in the condition."
   ]
  },
  {
   "cell_type": "code",
   "execution_count": 11,
   "id": "639ae8df-e9a6-498d-8935-4575bf6ee1e7",
   "metadata": {},
   "outputs": [],
   "source": [
    "def countdown_by_two(n):\n",
    "    if n <= 0:\n",
    "        print(\"Blastoff!\")\n",
    "    else:\n",
    "        print(n)\n",
    "        countdown_by_two(n - 2)"
   ]
  },
  {
   "cell_type": "markdown",
   "id": "f5a1b9b4-8b9f-4c84-b47f-77f1c873e42b",
   "metadata": {},
   "source": [
    "Here is an example:"
   ]
  },
  {
   "cell_type": "code",
   "execution_count": 12,
   "id": "9793379b-fc80-4ac9-bbcb-b4001f4e12fd",
   "metadata": {},
   "outputs": [
    {
     "name": "stdout",
     "output_type": "stream",
     "text": [
      "9\n",
      "7\n",
      "5\n",
      "3\n",
      "1\n",
      "Blastoff!\n"
     ]
    }
   ],
   "source": [
    "countdown_by_two(9)"
   ]
  },
  {
   "cell_type": "markdown",
   "id": "3396cf76-06f9-436e-8d59-b0a46849ac54",
   "metadata": {},
   "source": [
    "## 5.14.2. Exercise"
   ]
  },
  {
   "cell_type": "markdown",
   "id": "1a9bd1c0-a7a3-4789-9cdc-4b9e966219b4",
   "metadata": {},
   "source": [
    "### Question"
   ]
  },
  {
   "cell_type": "markdown",
   "id": "fdf81ce4-4f5c-47b9-bd37-d52216f541c6",
   "metadata": {},
   "source": [
    "The ``time`` module provides a function, also called ``time``, that returns the number of seconds since the \"Unix epoch\", which is January 1, 1970, 00:00:00 UTC (Coordinated Universal Time)."
   ]
  },
  {
   "cell_type": "code",
   "execution_count": 13,
   "id": "4030a125-b645-4236-9f46-51873092a8ec",
   "metadata": {},
   "outputs": [
    {
     "data": {
      "text/plain": [
       "1748564018.8670435"
      ]
     },
     "execution_count": 13,
     "metadata": {},
     "output_type": "execute_result"
    }
   ],
   "source": [
    "from time import time\n",
    "\n",
    "now = time()\n",
    "now"
   ]
  },
  {
   "cell_type": "markdown",
   "id": "f05ce630-e989-43f4-8e8e-bdae5793adb0",
   "metadata": {},
   "source": [
    "Use integer division and the modulus operator to compute the number of days since January 1, 1970 and the current time of day in hours, minutes, and seconds.\n",
    "\n",
    "You can read more about the ``time`` module at [https://docs.python.org/3/library/time.html](https://docs.python.org/3/library/time.html)."
   ]
  },
  {
   "cell_type": "markdown",
   "id": "e00296e4-b59e-48b3-a29f-52b1b41578b1",
   "metadata": {},
   "source": [
    "### Answer"
   ]
  },
  {
   "cell_type": "markdown",
   "id": "90d644c3-e132-4964-a3f1-a9bf88775fef",
   "metadata": {},
   "source": [
    "The conversions of the time units are as follows:\n",
    "\n",
    "- 1 minute = 60 seconds\n",
    "- 1 hour = 60 minutes\n",
    "- 1 day = 24 hours"
   ]
  },
  {
   "cell_type": "markdown",
   "id": "908662bb-e13f-4227-aa29-3fa789058396",
   "metadata": {},
   "source": [
    "The time ``now`` records the total number of seconds as a ``float``. We first cast it into an ``int`` and convert it into minutes and seconds:"
   ]
  },
  {
   "cell_type": "code",
   "execution_count": 14,
   "id": "eef4230f-03e3-41b1-8074-1fabce13f026",
   "metadata": {},
   "outputs": [
    {
     "name": "stdout",
     "output_type": "stream",
     "text": [
      "The total number of seconds, 1748564018, is converted into 29142733 minutes and 38 seconds.\n"
     ]
    }
   ],
   "source": [
    "now_int = int(now)\n",
    "minute_total, second = now_int // 60, now_int % 60\n",
    "print(f\"The total number of seconds, {now_int}, is converted into {minute_total} minutes and {second} seconds.\")"
   ]
  },
  {
   "cell_type": "markdown",
   "id": "f7b34285-b682-45c5-9d42-e8d8994529d6",
   "metadata": {},
   "source": [
    "Next, we convert the minutes ``minute_total`` into hours and minutes:"
   ]
  },
  {
   "cell_type": "code",
   "execution_count": 15,
   "id": "6e93a89d-799d-4931-9a60-42114b203027",
   "metadata": {},
   "outputs": [
    {
     "name": "stdout",
     "output_type": "stream",
     "text": [
      "The total number of minutes, 29142733, is converted into 485712 hours and 13 minutes.\n"
     ]
    }
   ],
   "source": [
    "hour_total, minute = minute_total // 60, minute_total % 60\n",
    "print(f\"The total number of minutes, {minute_total}, is converted into {hour_total} hours and {minute} minutes.\")"
   ]
  },
  {
   "cell_type": "markdown",
   "id": "11e569ba-054b-453e-a4ab-db3c9ed0d6aa",
   "metadata": {},
   "source": [
    "We further convert the hours ``hour_total`` into days and hours:"
   ]
  },
  {
   "cell_type": "code",
   "execution_count": 16,
   "id": "a46ae7d6-178c-425f-aba3-ba930a9c9958",
   "metadata": {},
   "outputs": [
    {
     "name": "stdout",
     "output_type": "stream",
     "text": [
      "The total number of hours, 485712, is converted into 20238 days and 0 hours.\n"
     ]
    }
   ],
   "source": [
    "day, hour = hour_total // 24, hour_total % 24\n",
    "print(f\"The total number of hours, {hour_total}, is converted into {day} days and {hour} hours.\")"
   ]
  },
  {
   "cell_type": "markdown",
   "id": "3bf7c26c-1c63-41b5-9566-9fceed5854a8",
   "metadata": {},
   "source": [
    "Summarizing the results we obtain the current time from January 1, 1970 00:00:00 UTC as:"
   ]
  },
  {
   "cell_type": "code",
   "execution_count": 17,
   "id": "4417b7fd-fdd6-419d-9957-82493b9a8a46",
   "metadata": {},
   "outputs": [
    {
     "name": "stdout",
     "output_type": "stream",
     "text": [
      "20238 days, 0 hours, 13 minutes, and 38 seconds\n"
     ]
    }
   ],
   "source": [
    "print(f\"{day} days, {hour} hours, {minute} minutes, and {second} seconds\")"
   ]
  },
  {
   "cell_type": "markdown",
   "id": "ade53139-ba4a-488a-bce6-64561c2f9d97",
   "metadata": {},
   "source": [
    "## 5.14.3. Exercise"
   ]
  },
  {
   "cell_type": "markdown",
   "id": "ff3ee9b4-c4d6-42c8-9cdb-0ee8814ad74f",
   "metadata": {},
   "source": [
    "### Question"
   ]
  },
  {
   "cell_type": "markdown",
   "id": "a557030c-b9c6-4082-bbfe-1cf431a32edf",
   "metadata": {},
   "source": [
    "If you are given three sticks, you may or may not be able to arrange them in a triangle. For example, if one of the sticks is 12 inches long and the other two are 1 inch long, you will not be able to get the short sticks to meet in the middle. For any three lengths, there is a test to see if it is possible to form a triangle:\n",
    "\n",
    "If any of the three lengths is greater than the sum of the other two, then you cannot form a triangle. Otherwise, you can. (If the sum of two lengths equals the third, they form what is called a \"degenerate\" triangle.)\n",
    "\n",
    "Write a function named ``is_triangle`` that takes three integers as arguments, and that prints either \"Yes\" or \"No\", depending on whether you can or cannot form a triangle from sticks with the given lengths. Hint: Use a chained conditional."
   ]
  },
  {
   "cell_type": "markdown",
   "id": "891f2d63-54b2-43e0-b761-0a87726ceb9f",
   "metadata": {},
   "source": [
    "### Answer"
   ]
  },
  {
   "cell_type": "markdown",
   "id": "9efc5dd2-adf3-40b5-97f0-a233dbda1400",
   "metadata": {},
   "source": [
    "The definition of this function is straightforward: We can use a conditional statement to create two branches. In the first branch, we compare the length of a stick with the total length of the other two sticks. This comparison is performed for all three sticks. If the codition is ``True``, we return \"Yes\". We add an ``else`` clause to print \"No\", in case the first condition is ``False``."
   ]
  },
  {
   "cell_type": "code",
   "execution_count": 18,
   "id": "52283d3d-98f7-4c99-8113-99637dc9f4fd",
   "metadata": {},
   "outputs": [],
   "source": [
    "def is_triangle(length0, length1, length2):\n",
    "    \"\"\"\n",
    "    Triangle examination function: Examine if the three given sticks form a triangle.\n",
    "\n",
    "    Input:\n",
    "    length0, length1, length2: int, lengths of the three given sticks.\n",
    "\n",
    "    Output:\n",
    "    Print \"Yes\" if the three sticks form a triangle; otherwise, print \"No\".\n",
    "    \"\"\"\n",
    "    # Create a list of the lengths.\n",
    "    lengths = [length0, length1, length2]\n",
    "    # Create a list of three elements, each of which is a boolean expression of length comparison.\n",
    "    comps = [lengths[i] < lengths[(i + 1) % 3] + lengths[(i + 2) % 3] for i in range(3)]\n",
    "    # If there is no False in comps, that is, any stick is shorter than the total of the other two, the sticks form a triangle.\n",
    "    if False not in comps:\n",
    "        print(\"Yes\")\n",
    "    else:\n",
    "        print(\"No\")"
   ]
  },
  {
   "cell_type": "markdown",
   "id": "b280c9e8-dd79-45dd-abc6-ba649f556c51",
   "metadata": {},
   "source": [
    "Let us try the function for a few different test sets:"
   ]
  },
  {
   "cell_type": "code",
   "execution_count": 19,
   "id": "1f3d9141-28eb-4164-ae1f-c9bbcac89474",
   "metadata": {},
   "outputs": [
    {
     "name": "stdout",
     "output_type": "stream",
     "text": [
      "Triangle with the three sticks (5, 17, 12): No\n",
      "Triangle with the three sticks (2, 2, 3): Yes\n",
      "Triangle with the three sticks (10, 13, 14): Yes\n",
      "Triangle with the three sticks (18, 20, 16): Yes\n",
      "Triangle with the three sticks (6, 8, 16): No\n"
     ]
    }
   ],
   "source": [
    "import random\n",
    "\n",
    "\n",
    "for n in range(5):\n",
    "    length0, length1, length2 = random.randint(1, 20), random.randint(1, 20), random.randint(1, 20)\n",
    "    print(f\"Triangle with the three sticks {length0, length1, length2}: \", end=\"\")\n",
    "    is_triangle(length0, length1, length2)"
   ]
  },
  {
   "cell_type": "markdown",
   "id": "c80bc92e-4d54-41f5-a56c-96e5754bb5e9",
   "metadata": {},
   "source": [
    "## 5.14.4. Exercise"
   ]
  },
  {
   "cell_type": "markdown",
   "id": "0fe17a2b-8485-4c5c-9f31-445f7189a39f",
   "metadata": {},
   "source": [
    "### Question"
   ]
  },
  {
   "cell_type": "markdown",
   "id": "a1bb0893-4685-4efd-b82e-77877f759ddb",
   "metadata": {},
   "source": [
    "What is the output of the following program? Draw a stack diagram that shows the state of the program when it prints the result."
   ]
  },
  {
   "cell_type": "code",
   "execution_count": 20,
   "id": "d268db9d-950e-4c9a-b48d-8b5c4af91fd0",
   "metadata": {},
   "outputs": [
    {
     "name": "stdout",
     "output_type": "stream",
     "text": [
      "6\n"
     ]
    }
   ],
   "source": [
    "def recurse(n, s):\n",
    "    if n == 0:\n",
    "        print(s)\n",
    "    else:\n",
    "        recurse(n - 1, n + s)\n",
    "\n",
    "recurse(3, 0)"
   ]
  },
  {
   "cell_type": "markdown",
   "id": "613f824e-5b7a-419e-9898-04cb045bb685",
   "metadata": {},
   "source": [
    "### Answer"
   ]
  },
  {
   "cell_type": "markdown",
   "id": "9d604298-289e-4a2c-aa57-e2f27a927b43",
   "metadata": {},
   "source": [
    "This function is recursive, so we will see repeating ``recurse`` frames with different parameter values. Here we use a table to represent the stack diagram:"
   ]
  },
  {
   "cell_type": "markdown",
   "id": "b6664afe-853a-4f7b-a050-20e79a08d740",
   "metadata": {},
   "source": [
    "| Frame name | Frame |\n",
    "| - | - |\n",
    "| recurse | n $\\rightarrow$ 3, s $\\rightarrow$ 0 |\n",
    "| recurse | n $\\rightarrow$ 2, s $\\rightarrow$ 3 |\n",
    "| recurse | n $\\rightarrow$ 1, s $\\rightarrow$ 5 |\n",
    "| recurse | n $\\rightarrow$ 0, s $\\rightarrow$ 6 |"
   ]
  },
  {
   "cell_type": "markdown",
   "id": "efd81bd6-ba61-427f-84c3-da0028d74615",
   "metadata": {},
   "source": [
    "We can see that the stack diagram has four ``recurse`` frames, and the base case with ``n = 0`` does not make a recursive call."
   ]
  },
  {
   "cell_type": "markdown",
   "id": "418f5758-6480-4cf8-9393-5055d0aa73ad",
   "metadata": {},
   "source": [
    "## 5.14.5. Exercise"
   ]
  },
  {
   "cell_type": "markdown",
   "id": "dadf4675-ca33-4160-a6d9-ce19249812f7",
   "metadata": {},
   "source": [
    "### Question"
   ]
  },
  {
   "cell_type": "markdown",
   "id": "54dff283-4510-428b-95d8-581a6be916b9",
   "metadata": {},
   "source": [
    "The following exercises use the ``jupyturtle`` module, described in Chapter 4."
   ]
  },
  {
   "cell_type": "markdown",
   "id": "4b13dbae-01c2-4b72-b6e7-d63ff6de0784",
   "metadata": {},
   "source": [
    "Read the following function and see if you can figure out what it does. Then run it and see if you got it right. Adjust the values of ``length``, ``angle`` and ``factor`` and see what effect they have on the result. If you are not sure you understand how it works, try asking a virtual assistant."
   ]
  },
  {
   "cell_type": "code",
   "execution_count": 21,
   "id": "b3ab54ee-dd81-4dd1-956b-06e71dff3a3e",
   "metadata": {},
   "outputs": [],
   "source": [
    "from jupyturtle import forward, left, right, back"
   ]
  },
  {
   "cell_type": "code",
   "execution_count": 22,
   "id": "de7c53d9-340f-40ab-a03a-a3ea0af78d5f",
   "metadata": {},
   "outputs": [],
   "source": [
    "def draw(length):\n",
    "    angle = 50\n",
    "    factor = 0.6\n",
    "    \n",
    "    if length > 5:\n",
    "        forward(length)\n",
    "        left(angle)\n",
    "        draw(factor * length)\n",
    "        right(2 * angle)\n",
    "        draw(factor * length)\n",
    "        left(angle)\n",
    "        back(length)"
   ]
  },
  {
   "cell_type": "markdown",
   "id": "e50ac38a-ee4a-4b3e-baba-5ee4cdc4975f",
   "metadata": {},
   "source": [
    "### Answer"
   ]
  },
  {
   "cell_type": "markdown",
   "id": "53bb164b-d4a0-422b-b081-255dd9b9af9c",
   "metadata": {},
   "source": [
    "We first interpret this function by reading the code:\n",
    "1. We begin with the base case, where ``length`` is less than 5. In this case, the function does nothing.\n",
    "2. Next, we consider a ``length`` which is greater than 5 but becomes less than 5 after multiplying with ``factor``. In this case, the turtle first moves forward ``length``. It then turns left ``angle``, turns right ``2 * angle``, and turns left ``angle``. These motions actually give a zero net change in the direction. Finally, it turns back ``length``. The total effect of these motions is to draw a line with ``length``.\n",
    "3. We further consider a ``length`` which becomes less than 5 after multiplying with ``factor`` twice. We have learned that the function ``draw(factor * length)`` draws a line with ``factor * length``. Adding this additional feature to the previously discussed motions, we find that the total effect is to draw a line with ``length`` which splits into two lines with ``factor * length`` at a split angle ``2 * angle``.\n",
    "4. Repeating these reasonings, we can conclude that the effect of this function is to draw a **binary tree**, where each stick with ``length`` splits into two substicks with ``factor * length`` at a split angle ``2 * angle``."
   ]
  },
  {
   "cell_type": "markdown",
   "id": "7c701147-689d-46f6-8d5d-7e11916d29d8",
   "metadata": {},
   "source": [
    "Let us now run a code and see if our reasoning is correct. We need the ``make_turtle`` function to create the canvas for the turtle:"
   ]
  },
  {
   "cell_type": "code",
   "execution_count": 23,
   "id": "945431b1-5c45-44ee-a1d1-a7010b6004fe",
   "metadata": {},
   "outputs": [],
   "source": [
    "from jupyturtle import make_turtle"
   ]
  },
  {
   "cell_type": "markdown",
   "id": "907d2e22-52a2-45ad-931c-502eed4c9670",
   "metadata": {},
   "source": [
    "We also borrow the function ``jump`` from the exercise in Chapter 4 to shift the turtle path without drawing:"
   ]
  },
  {
   "cell_type": "code",
   "execution_count": 24,
   "id": "aa052cd2-5980-4043-b75f-a7b8518a8117",
   "metadata": {},
   "outputs": [],
   "source": [
    "from jupyturtle import penup, pendown\n",
    "\n",
    "def jump(length):\n",
    "    \"\"\"\n",
    "    Move forward length units without leaving a trail.\n",
    "    \n",
    "    Postcondition: Leaves the pen down.\n",
    "    \"\"\"\n",
    "    penup()\n",
    "    forward(length)\n",
    "    pendown()"
   ]
  },
  {
   "cell_type": "markdown",
   "id": "7e759556-43f6-4557-95fa-d057342c814c",
   "metadata": {},
   "source": [
    "The ``draw`` function is runned as follows:"
   ]
  },
  {
   "cell_type": "code",
   "execution_count": 25,
   "id": "50c32a01-a4b0-4881-a43c-81c3cadd39f1",
   "metadata": {},
   "outputs": [
    {
     "data": {
      "text/html": [
       "<svg width=\"300\" height=\"150\" style=\"fill:none; stroke-linecap:round;\">\n",
       "    <rect width=\"100%\" height=\"100%\" fill=\"#F3F3F7\" />\n",
       "\n",
       "\n",
       "<path stroke=\"#663399\" stroke-width=\"2\" d=\"M 150,75\" />'\n",
       "\n",
       "<path stroke=\"#663399\" stroke-width=\"2\" d=\"M 100,75 150,75 169.3,52 166.2,34.3 156.8,28.9 150.7,31.1 156.8,28.9 155.7,22.5 156.8,28.9 166.2,34.3 173.1,26 172,19.6 173.1,26 179.6,26 173.1,26 166.2,34.3 169.3,52 187.3,52 194.2,43.7 193.1,37.4 194.2,43.7 200.7,43.7 194.2,43.7 187.3,52 194.2,60.3 200.7,60.3 194.2,60.3 193.1,66.7 194.2,60.3 187.3,52 169.3,52 150,75 169.3,98 187.3,98 194.2,89.7 193.1,83.3 194.2,89.7 200.7,89.7 194.2,89.7 187.3,98 194.2,106.3 200.7,106.3 194.2,106.3 193.1,112.6 194.2,106.3 187.3,98 169.3,98 166.2,115.7 173.1,124 179.6,124 173.1,124 172,130.4 173.1,124 166.2,115.7 156.8,121.1 155.7,127.5 156.8,121.1 150.7,118.9 156.8,121.1 166.2,115.7 169.3,98 150,75 100,75\" />'\n",
       "\n",
       "<g transform=\"rotate(-90.0,100.0,75.0) translate(100.0, 75.0)\">\n",
       "    <circle stroke=\"#63A375\" stroke-width=\"2\" fill=\"transparent\" r=\"5.5\" cx=\"0\" cy=\"0\"/>\n",
       "    <polygon points=\"0,12 2,9 -2,9\" style=\"fill:#63A375;stroke:#63A375;stroke-width:2\"/>\n",
       "</g>\n",
       "\n",
       "</svg>"
      ],
      "text/plain": [
       "<IPython.core.display.HTML object>"
      ]
     },
     "metadata": {},
     "output_type": "display_data"
    }
   ],
   "source": [
    "make_turtle(delay=0)\n",
    "jump(-50)\n",
    "draw(50)"
   ]
  },
  {
   "cell_type": "markdown",
   "id": "657d5a7e-b5bc-46d1-9335-2b19075c660f",
   "metadata": {},
   "source": [
    "We can see that the turtle indeed draws a binary tree!"
   ]
  },
  {
   "cell_type": "markdown",
   "id": "88fb6d93-ba3c-4c1a-9afc-54977b36a80c",
   "metadata": {},
   "source": [
    "## 5.14.6. Exercise"
   ]
  },
  {
   "cell_type": "markdown",
   "id": "8fe77a6c-ccd5-4da9-b316-b89e77d9d982",
   "metadata": {},
   "source": [
    "Ask a virtual assistant \"What is the Koch curve?\"\n",
    "\n",
    "To draw a Koch curve with length ``x``, all you have to do is\n",
    "\n",
    "1. Draw a Koch curve with length ``x/3``.\n",
    "2. Turn left 60 degrees.\n",
    "3. Draw a Koch curve with length ``x/3``.\n",
    "4. Turn right 120 degrees.\n",
    "5. Draw a Koch curve with length ``x/3``.\n",
    "6. Turn left 60 degrees.\n",
    "7. Draw a Koch curve with length ``x/3``.\n",
    "\n",
    "The exception is if ``x`` is less than ``5`` – in that case, you can just draw a straight line with length ``x``.\n",
    "\n",
    "Write a function called ``koch`` that takes ``x`` as an argument and draws a Koch curve with the given length.\n",
    "\n",
    "The result should look like this:\n",
    "\n",
    "```\n",
    "make_turtle(delay=0)\n",
    "koch(120)\n",
    "```"
   ]
  },
  {
   "cell_type": "markdown",
   "id": "b56be37a-9765-49d0-838c-95f2b7825d1c",
   "metadata": {},
   "source": [
    "## Answer"
   ]
  },
  {
   "cell_type": "markdown",
   "id": "f079a0f4-cd44-4d13-a130-4839bfe2b228",
   "metadata": {},
   "source": [
    "The Koch curve is a famous example of a mathematical fractal, which displays self-similarity at different scales and has an infinitely detailed structure. The Koch curve can be constructed recursively from a straight line segment:\n",
    "\n",
    "1. Start with a line segment (called the initiator).\n",
    "2. Divide the segment into three equal parts.\n",
    "3. Replace the middle third with two segments that form an equilateral triangle (excluding the base). This creates a \"bump\" in the middle.\n",
    "4. Repeat the process on each line segment in the figure.\n",
    "\n",
    "Each iteration increases the number of segments and the overall length of the curve.\n",
    "\n",
    "The Koch curve has some interesting properties:\n",
    "1. It has a **fractal dimension** $D\\approx1.2619$, which means that it is more complex than 1D but is not completely 2D.\n",
    "2. If there is no lower bound in the lengths of the line segments, the total lengths can grow to infinity. However, the area it covers does not expand to infinity. These features perfectly reflect its fractal dimension.\n",
    "3. The curve is self-similar; that is, any small parts looks like the whole when it gets zoomed in."
   ]
  },
  {
   "cell_type": "markdown",
   "id": "db8e84ad-3eee-47ff-8228-b40773f01f24",
   "metadata": {},
   "source": [
    "Having understood the Koch curve theoretically, we proceed to program its construction in Python. Note that the question demands a lower bound for the lengths of the line segments ``x > 5``. Under this cutoff, the Koch curve does not grow to infinite length by developing infinitesimal line segments. We program the procedure given in the question as follows:"
   ]
  },
  {
   "cell_type": "code",
   "execution_count": 26,
   "id": "e0a29c5b-85e9-4833-886f-05b705580071",
   "metadata": {},
   "outputs": [],
   "source": [
    "def koch(x):\n",
    "    \"\"\"\n",
    "    Koch curve function: Draws a Koch curve with a given end-end distance.\n",
    "\n",
    "    Input:\n",
    "    x: int or float, the distance between the starting and ending points.\n",
    "\n",
    "    Output:\n",
    "    Draws a Koch curve with a end-end distance x.\n",
    "    \"\"\"\n",
    "    # Define a function which performs recursive call of the function koch with a lower-bound condition for the end-end distance.\n",
    "    def draw_one_third(x):\n",
    "        # If the end-end distance of the subcurve is larger than the lower bound, draw the subcurve with a recursive call.\n",
    "        if x / 3 > 5:\n",
    "            koch(x / 3)\n",
    "        # If the end-end distance of the subcurve is smaller than the lower bound, simply draw a straight line.\n",
    "        else:\n",
    "            forward(x)\n",
    "    # Draw the Koch curve with a \"middle bump\" structure.\n",
    "    draw_one_third(x)\n",
    "    left(60)\n",
    "    draw_one_third(x)\n",
    "    right(120)\n",
    "    draw_one_third(x)\n",
    "    left(60)\n",
    "    draw_one_third(x)"
   ]
  },
  {
   "cell_type": "markdown",
   "id": "cf787b2b-f597-4a13-86a0-ae04b804d24b",
   "metadata": {},
   "source": [
    "Let us test if this function draws the simplest \"middle bump\" structure for ``x = 6``:"
   ]
  },
  {
   "cell_type": "code",
   "execution_count": 27,
   "id": "131d41e1-6ac2-4706-a926-05136e8f6faa",
   "metadata": {},
   "outputs": [
    {
     "data": {
      "text/html": [
       "<svg width=\"300\" height=\"150\" style=\"fill:none; stroke-linecap:round;\">\n",
       "    <rect width=\"100%\" height=\"100%\" fill=\"#F3F3F7\" />\n",
       "\n",
       "\n",
       "<path stroke=\"#663399\" stroke-width=\"2\" d=\"M 150,75 156,75 159,69.8 162,75 168,75\" />'\n",
       "\n",
       "<g transform=\"rotate(-90.0,168.0,75.0) translate(168.0, 75.0)\">\n",
       "    <circle stroke=\"#63A375\" stroke-width=\"2\" fill=\"transparent\" r=\"5.5\" cx=\"0\" cy=\"0\"/>\n",
       "    <polygon points=\"0,12 2,9 -2,9\" style=\"fill:#63A375;stroke:#63A375;stroke-width:2\"/>\n",
       "</g>\n",
       "\n",
       "</svg>"
      ],
      "text/plain": [
       "<IPython.core.display.HTML object>"
      ]
     },
     "metadata": {},
     "output_type": "display_data"
    }
   ],
   "source": [
    "make_turtle(delay=0)\n",
    "koch(6)"
   ]
  },
  {
   "cell_type": "markdown",
   "id": "5ab98978-02a8-48d8-9b60-cb1715f96ae7",
   "metadata": {},
   "source": [
    "The result is what we expected! Now let us draw a more complex Koch curve with ``x = 60``:"
   ]
  },
  {
   "cell_type": "code",
   "execution_count": 28,
   "id": "e874da90-0a05-41da-b0bb-557294daf4a4",
   "metadata": {},
   "outputs": [
    {
     "data": {
      "text/html": [
       "<svg width=\"300\" height=\"150\" style=\"fill:none; stroke-linecap:round;\">\n",
       "    <rect width=\"100%\" height=\"100%\" fill=\"#F3F3F7\" />\n",
       "\n",
       "\n",
       "<path stroke=\"#663399\" stroke-width=\"2\" d=\"M 150,75\" />'\n",
       "\n",
       "<path stroke=\"#663399\" stroke-width=\"2\" d=\"M 60,75 66.7,75 70,69.2 73.3,75 80,75 83.3,69.2 80,63.5 86.7,63.5 90,57.7 93.3,63.5 100,63.5 96.7,69.2 100,75 106.7,75 110,69.2 113.3,75 120,75 123.3,69.2 120,63.5 126.7,63.5 130,57.7 126.7,51.9 120,51.9 123.3,46.1 120,40.4 126.7,40.4 130,34.6 133.3,40.4 140,40.4 143.3,34.6 140,28.8 146.7,28.8 150,23 153.3,28.8 160,28.8 156.7,34.6 160,40.4 166.7,40.4 170,34.6 173.3,40.4 180,40.4 176.7,46.1 180,51.9 173.3,51.9 170,57.7 173.3,63.5 180,63.5 176.7,69.2 180,75 186.7,75 190,69.2 193.3,75 200,75 203.3,69.2 200,63.5 206.7,63.5 210,57.7 213.3,63.5 220,63.5 216.7,69.2 220,75 226.7,75 230,69.2 233.3,75 240,75\" />'\n",
       "\n",
       "<g transform=\"rotate(-90.0,240.0,75.0) translate(240.0, 75.0)\">\n",
       "    <circle stroke=\"#63A375\" stroke-width=\"2\" fill=\"transparent\" r=\"5.5\" cx=\"0\" cy=\"0\"/>\n",
       "    <polygon points=\"0,12 2,9 -2,9\" style=\"fill:#63A375;stroke:#63A375;stroke-width:2\"/>\n",
       "</g>\n",
       "\n",
       "</svg>"
      ],
      "text/plain": [
       "<IPython.core.display.HTML object>"
      ]
     },
     "metadata": {},
     "output_type": "display_data"
    }
   ],
   "source": [
    "make_turtle(delay=0)\n",
    "jump(-90)\n",
    "koch(60)"
   ]
  },
  {
   "cell_type": "markdown",
   "id": "e91a20d4-eda1-419d-9036-0a21f965b7e8",
   "metadata": {},
   "source": [
    "The function indeed draws a Koch curve with a fractal structure!"
   ]
  },
  {
   "cell_type": "markdown",
   "id": "d8f667ee-faa7-4dbb-b05c-6c520008ec9e",
   "metadata": {},
   "source": [
    "## 5.14.7. Exercise"
   ]
  },
  {
   "cell_type": "markdown",
   "id": "146f92eb-3816-480b-b82c-51c5523a0f66",
   "metadata": {},
   "source": [
    "Virtual assistants know about the functions in the ``jupyturtle`` module, but there are many versions of these functions, with different names, so a VA might not know which one you are talking about.\n",
    "\n",
    "To solve this problem, you can provide additional information before you ask a question. For example, you could start a prompt with \"Here's a program that uses the ``jupyturtle`` module,\" and then paste in one of the examples from this chapter. After that, the VA should be able to generate code that uses this module.\n",
    "\n",
    "As an example, ask a VA for a program that draws a Sierpiński triangle. The code you get should be a good starting place, but you might have to do some debugging. If the first attempt doesn't work, you can tell the VA what happened and ask for help – or you can debug it yourself.\n",
    "\n",
    "Here's what the result might look like, although the version you get might be different.\n",
    "\n",
    "```\n",
    "make_turtle(delay=0, height=200)\n",
    "\n",
    "draw_sierpinski(100, 3)\n",
    "```"
   ]
  },
  {
   "cell_type": "markdown",
   "id": "64c9a165-18c1-4a28-9f4c-5aa4669f8770",
   "metadata": {},
   "source": [
    "## Answer"
   ]
  },
  {
   "cell_type": "markdown",
   "id": "211f75d9-a9a9-4b70-9c19-0ae012d17ed1",
   "metadata": {},
   "source": [
    "We first use the code in **5.14.5 Exercise** to let ChatGPT know what functions in ``jupyturtle`` we are using. We can ask ChatGPT the following question:"
   ]
  },
  {
   "cell_type": "markdown",
   "id": "ef9c2e9c-a7cc-494a-8f0c-311611bccc9e",
   "metadata": {},
   "source": [
    "---\n",
    "\n",
    "The following code draws a binary tree with the ``jupyturtle`` module:\n",
    "\n",
    "```\n",
    "from jupyturtle import make_turtle, forward, left, right, back\n",
    "\n",
    "def draw(length):\n",
    "    angle = 50\n",
    "    factor = 0.6\n",
    "    \n",
    "    if length > 5:\n",
    "        forward(length)\n",
    "        left(angle)\n",
    "        draw(factor * length)\n",
    "        right(2 * angle)\n",
    "        draw(factor * length)\n",
    "        left(angle)\n",
    "        back(length)\n",
    "\n",
    "make_turtle(delay=0)\n",
    "draw(50)\n",
    "```\n",
    "\n",
    "Creat a function that uses the jupyturtle module to draw a Sierpiński triangle. Use the side length and the number of levels as parameters of the function.\n",
    "\n",
    "---"
   ]
  },
  {
   "cell_type": "markdown",
   "id": "1901240a-5b07-4939-8672-4a98809e00ed",
   "metadata": {},
   "source": [
    "ChatGPT returns the following code:"
   ]
  },
  {
   "cell_type": "code",
   "execution_count": 29,
   "id": "7bb8f834-0a6d-4d07-9261-24b353798e1a",
   "metadata": {},
   "outputs": [],
   "source": [
    "def draw_sierpinski(length, level):\n",
    "    if level == 0:\n",
    "        # Draw an equilateral triangle\n",
    "        for _ in range(3):\n",
    "            forward(length)\n",
    "            left(120)\n",
    "    else:\n",
    "        draw_sierpinski(length / 2, level - 1)\n",
    "        forward(length / 2)\n",
    "        draw_sierpinski(length / 2, level - 1)\n",
    "        back(length / 2)\n",
    "        left(60)\n",
    "        forward(length / 2)\n",
    "        right(60)\n",
    "        draw_sierpinski(length / 2, level - 1)\n",
    "        left(60)\n",
    "        back(length / 2)\n",
    "        right(60)"
   ]
  },
  {
   "cell_type": "markdown",
   "id": "68409d83-e578-45bb-bfdd-64c8dbacd82a",
   "metadata": {},
   "source": [
    "We can see that the function calls itself recursively to draw the fractal structure of the Sierpiński triangle. It takes the length of the sides and the total levels of the triangles as the two parameters. The base case is the base level with ``level = 0``, where it simply draws a triangle. At ``level = n``, it uses three Sierpiński triangles with ``level = n - 1`` to compose a triangle with doubled side length. The recursive drawing results in a fractal structure of triangles at different levels."
   ]
  },
  {
   "cell_type": "markdown",
   "id": "859b7df5-f53c-4d61-b666-ca71a3a7d422",
   "metadata": {},
   "source": [
    "Let us confirm that the function works as we want it to:"
   ]
  },
  {
   "cell_type": "code",
   "execution_count": 30,
   "id": "e586b764-63e7-4987-b3b7-973dfbc7a1c3",
   "metadata": {},
   "outputs": [
    {
     "data": {
      "text/html": [
       "<svg width=\"300\" height=\"200\" style=\"fill:none; stroke-linecap:round;\">\n",
       "    <rect width=\"100%\" height=\"100%\" fill=\"#F3F3F7\" />\n",
       "\n",
       "\n",
       "<path stroke=\"#663399\" stroke-width=\"2\" d=\"M 150,100 162.5,100 156.2,89.2 150,100 162.5,100 175,100 168.8,89.2 162.5,100 150,100 156.2,89.2 168.8,89.2 162.5,78.3 156.2,89.2 150,100 175,100 187.5,100 181.2,89.2 175,100 187.5,100 200,100 193.8,89.2 187.5,100 175,100 181.2,89.2 193.8,89.2 187.5,78.3 181.2,89.2 175,100 150,100 162.5,78.3 175,78.3 168.8,67.5 162.5,78.3 175,78.3 187.5,78.3 181.2,67.5 175,78.3 162.5,78.3 168.8,67.5 181.2,67.5 175,56.7 168.8,67.5 162.5,78.3 150,100 200,100 212.5,100 206.2,89.2 200,100 212.5,100 225,100 218.8,89.2 212.5,100 200,100 206.2,89.2 218.8,89.2 212.5,78.3 206.2,89.2 200,100 225,100 237.5,100 231.2,89.2 225,100 237.5,100 250,100 243.8,89.2 237.5,100 225,100 231.2,89.2 243.8,89.2 237.5,78.3 231.2,89.2 225,100 200,100 212.5,78.3 225,78.3 218.8,67.5 212.5,78.3 225,78.3 237.5,78.3 231.2,67.5 225,78.3 212.5,78.3 218.8,67.5 231.2,67.5 225,56.7 218.8,67.5 212.5,78.3 200,100 150,100 175,56.7 187.5,56.7 181.2,45.9 175,56.7 187.5,56.7 200,56.7 193.8,45.9 187.5,56.7 175,56.7 181.2,45.9 193.8,45.9 187.5,35 181.2,45.9 175,56.7 200,56.7 212.5,56.7 206.2,45.9 200,56.7 212.5,56.7 225,56.7 218.8,45.9 212.5,56.7 200,56.7 206.2,45.9 218.8,45.9 212.5,35 206.2,45.9 200,56.7 175,56.7 187.5,35 200,35 193.8,24.2 187.5,35 200,35 212.5,35 206.2,24.2 200,35 187.5,35 193.8,24.2 206.2,24.2 200,13.4 193.8,24.2 187.5,35 175,56.7 150,100\" />'\n",
       "\n",
       "<g transform=\"rotate(-90.0,150.0,100.0) translate(150.0, 100.0)\">\n",
       "    <circle stroke=\"#63A375\" stroke-width=\"2\" fill=\"transparent\" r=\"5.5\" cx=\"0\" cy=\"0\"/>\n",
       "    <polygon points=\"0,12 2,9 -2,9\" style=\"fill:#63A375;stroke:#63A375;stroke-width:2\"/>\n",
       "</g>\n",
       "\n",
       "</svg>"
      ],
      "text/plain": [
       "<IPython.core.display.HTML object>"
      ]
     },
     "metadata": {},
     "output_type": "display_data"
    }
   ],
   "source": [
    "make_turtle(delay=0, height=200)\n",
    "draw_sierpinski(100, 3)"
   ]
  },
  {
   "cell_type": "markdown",
   "id": "f81b73c2-2010-4d2e-93b7-9dff60845f90",
   "metadata": {},
   "source": [
    "The result is indeed a Sierpiński triangle!"
   ]
  },
  {
   "cell_type": "markdown",
   "id": "fa2930c3-8079-4269-8a07-d72239fe61d6",
   "metadata": {},
   "source": [
    "## This completes the exercises in this Chapter!"
   ]
  }
 ],
 "metadata": {
  "kernelspec": {
   "display_name": "Python 3 (ipykernel)",
   "language": "python",
   "name": "python3"
  },
  "language_info": {
   "codemirror_mode": {
    "name": "ipython",
    "version": 3
   },
   "file_extension": ".py",
   "mimetype": "text/x-python",
   "name": "python",
   "nbconvert_exporter": "python",
   "pygments_lexer": "ipython3",
   "version": "3.13.3"
  }
 },
 "nbformat": 4,
 "nbformat_minor": 5
}
