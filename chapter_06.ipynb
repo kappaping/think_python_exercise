{
 "cells": [
  {
   "cell_type": "markdown",
   "id": "023b9952-e216-4dd4-86ed-48e70e5bc40a",
   "metadata": {},
   "source": [
    "# Chapter 6 Answers: Exercises in 6.12."
   ]
  },
  {
   "cell_type": "markdown",
   "id": "3a2a24cb-7700-4115-8856-b634e88377cd",
   "metadata": {},
   "source": [
    "## Author\n",
    "Yu-Ping Lin"
   ]
  },
  {
   "cell_type": "markdown",
   "id": "0ae298ad-4322-4f2c-926b-a390d8c28e3b",
   "metadata": {},
   "source": [
    "## Objectives\n",
    "In this notebook, I write the answers to the exercises of **Chapter 6: Return Values** in the textbook *Think Python: How to Think Like a Computer Scientist, 3rd Edition* by Allen B. Downey. The questions are adapted from Section 6.12. of the textbook. Please refer to the [official website](https://allendowney.github.io/ThinkPython/chap06.html) or the published versions for the chapter content and the original questions."
   ]
  },
  {
   "cell_type": "markdown",
   "id": "54436414-5df3-4582-8f43-46f85e9befbc",
   "metadata": {},
   "source": [
    "## 6.12.1. Ask a virtual assistant"
   ]
  },
  {
   "cell_type": "markdown",
   "id": "c4aed20f-546c-4152-a03a-83dafe87f9c2",
   "metadata": {},
   "source": [
    "Here we use the ChatGPT to answer the questions."
   ]
  },
  {
   "cell_type": "markdown",
   "id": "d0048a70-e080-471c-a69e-18d8da350173",
   "metadata": {},
   "source": [
    "### Question 1"
   ]
  },
  {
   "cell_type": "markdown",
   "id": "441b138e-7459-40e8-bb9e-e2fbc61dd763",
   "metadata": {},
   "source": [
    "Ask a virtual assistant what's wrong with each of these functions and see if it can spot the errors or improve the style."
   ]
  },
  {
   "cell_type": "markdown",
   "id": "164f2299-cf04-4ce4-954d-b82e0e5801be",
   "metadata": {},
   "source": [
    "#### Question 1.1"
   ]
  },
  {
   "cell_type": "markdown",
   "id": "c8ec544e-a3fc-4ad2-ba15-8042c0855ad2",
   "metadata": {},
   "source": [
    "In this chapter, we saw an incorrect function that can end without returning a value.\n",
    "\n",
    "```\n",
    "def absolute_value_wrong(x):\n",
    "    if x < 0:\n",
    "        return -x\n",
    "    if x > 0:\n",
    "        return x\n",
    "```"
   ]
  },
  {
   "cell_type": "markdown",
   "id": "90841599-835e-4059-9574-f933051ea76c",
   "metadata": {},
   "source": [
    "#### Answer"
   ]
  },
  {
   "cell_type": "markdown",
   "id": "145d4f9b-2de7-43bf-beff-031afc946fe4",
   "metadata": {},
   "source": [
    "The issue with this function is that it does not handle the case when ``x == 0``. In this case, the function will return ``None``. The corrected version of this function is:"
   ]
  },
  {
   "cell_type": "code",
   "execution_count": 1,
   "id": "76fb95aa-5dc3-4e0d-b6fc-6d324724e423",
   "metadata": {},
   "outputs": [],
   "source": [
    "def absolute_value(x):\n",
    "    if x < 0:\n",
    "        return -x\n",
    "    else:\n",
    "        return x"
   ]
  },
  {
   "cell_type": "markdown",
   "id": "e7bbda3a-4261-4a3d-aa89-f822ddd26963",
   "metadata": {},
   "source": [
    "We may test this function with a few different inputs:"
   ]
  },
  {
   "cell_type": "code",
   "execution_count": 2,
   "id": "8eaeb247-7641-4dc8-b033-16a973828f3d",
   "metadata": {},
   "outputs": [
    {
     "name": "stdout",
     "output_type": "stream",
     "text": [
      "absolute_value(1) = 1\n",
      "absolute_value(0) = 0\n",
      "absolute_value(-1) = 1\n"
     ]
    }
   ],
   "source": [
    "print(\"absolute_value(1) =\", absolute_value(1))\n",
    "print(\"absolute_value(0) =\", absolute_value(0))\n",
    "print(\"absolute_value(-1) =\", absolute_value(-1))"
   ]
  },
  {
   "cell_type": "markdown",
   "id": "ee36b1c2-bc9f-4088-996b-9af4342663ba",
   "metadata": {},
   "source": [
    "The function now handles positive, negative, and zero integers properly."
   ]
  },
  {
   "cell_type": "markdown",
   "id": "7ce4699e-4c85-4ed5-8d87-8e794d725a4d",
   "metadata": {},
   "source": [
    "#### Question 1.2"
   ]
  },
  {
   "cell_type": "markdown",
   "id": "e287167d-ea25-465b-9f43-b200a7702b9d",
   "metadata": {},
   "source": [
    "And a version of the same function that has dead code at the end.\n",
    "\n",
    "```\n",
    "def absolute_value_extra_return(x):\n",
    "    if x < 0:\n",
    "        return -x\n",
    "    else:\n",
    "        return x\n",
    "    \n",
    "    return 'This is dead code.'\n",
    "```"
   ]
  },
  {
   "cell_type": "markdown",
   "id": "336c0cd2-0298-4793-a5d3-4ed80026bec9",
   "metadata": {},
   "source": [
    "#### Answer"
   ]
  },
  {
   "cell_type": "markdown",
   "id": "e3a1b62b-3a57-4499-a338-cc7755e53224",
   "metadata": {},
   "source": [
    "The last line of the code is a dead code, since it comes after the ``return`` statements in all branches of the conditional statement. It will never be executed. Meanwhile, the ``else`` statement is unnecessary, since ``return`` exits the function."
   ]
  },
  {
   "cell_type": "markdown",
   "id": "bc2a2b47-98da-4433-8675-bb323660d17a",
   "metadata": {},
   "source": [
    "The corrected and improve version is as follows:"
   ]
  },
  {
   "cell_type": "code",
   "execution_count": 3,
   "id": "82f4e6e1-89df-45ae-9815-37bd82f49e8d",
   "metadata": {},
   "outputs": [],
   "source": [
    "def absolute_value_2(x):\n",
    "    if x < 0:\n",
    "        return -x\n",
    "    return x"
   ]
  },
  {
   "cell_type": "markdown",
   "id": "51141e97-8b2e-4729-9b6c-859eeb133542",
   "metadata": {},
   "source": [
    "Again, we can test this function with a few different inputs:"
   ]
  },
  {
   "cell_type": "code",
   "execution_count": 4,
   "id": "84b27829-61aa-4f25-853e-94827daf5bc5",
   "metadata": {},
   "outputs": [
    {
     "name": "stdout",
     "output_type": "stream",
     "text": [
      "absolute_value_2(1) = 1\n",
      "absolute_value_2(0) = 0\n",
      "absolute_value_2(-1) = 1\n"
     ]
    }
   ],
   "source": [
    "print(\"absolute_value_2(1) =\", absolute_value(1))\n",
    "print(\"absolute_value_2(0) =\", absolute_value(0))\n",
    "print(\"absolute_value_2(-1) =\", absolute_value(-1))"
   ]
  },
  {
   "cell_type": "markdown",
   "id": "4b19fa2a-f561-4203-bd7d-b9ecada80aa4",
   "metadata": {},
   "source": [
    "The function handles positive, negative, and zero integers properly."
   ]
  },
  {
   "cell_type": "markdown",
   "id": "eefcf7c9-4e81-4f6e-8774-6aa0e751ac52",
   "metadata": {},
   "source": [
    "#### Question 1.3"
   ]
  },
  {
   "cell_type": "markdown",
   "id": "54312be5-3ec0-4ef2-970a-7dbe9d585825",
   "metadata": {},
   "source": [
    "And we saw the following example, which is correct but not idiomatic.\n",
    "\n",
    "```\n",
    "def is_divisible(x, y):\n",
    "    if x % y == 0:\n",
    "        return True\n",
    "    else:\n",
    "        return False\n",
    "```"
   ]
  },
  {
   "cell_type": "markdown",
   "id": "aae40ce8-a0f1-4906-bf12-060425955d9a",
   "metadata": {},
   "source": [
    "#### Answer"
   ]
  },
  {
   "cell_type": "markdown",
   "id": "84a69f51-3b93-43ec-ad8d-685f3a201a17",
   "metadata": {},
   "source": [
    "The ``is_divisible`` function is a Boolean function that returns a ``bool``. Since the expression ``x % y == 0`` is already a ``bool``, the ``if...else`` conditional statement is unnecessary. The function can be simplified by returning the Boolean expression directly:"
   ]
  },
  {
   "cell_type": "code",
   "execution_count": 5,
   "id": "6e2c7ea8-0f08-4a2d-81f6-62f1fcf103e3",
   "metadata": {},
   "outputs": [],
   "source": [
    "def is_divisible(x, y):\n",
    "    return x % y == 0"
   ]
  },
  {
   "cell_type": "markdown",
   "id": "348b7ba8-b9f9-46b9-b666-fb755dfd8687",
   "metadata": {},
   "source": [
    "We can test this function with a few different inputs:"
   ]
  },
  {
   "cell_type": "code",
   "execution_count": 6,
   "id": "c5e5e3cc-5c45-477c-bb64-e038337b9b9a",
   "metadata": {},
   "outputs": [
    {
     "name": "stdout",
     "output_type": "stream",
     "text": [
      "is_divisible(8, 4) = True\n",
      "is_divisible(8, 6) = False\n"
     ]
    }
   ],
   "source": [
    "print(\"is_divisible(8, 4) =\", is_divisible(8, 4))\n",
    "print(\"is_divisible(8, 6) =\", is_divisible(8, 6))"
   ]
  },
  {
   "cell_type": "markdown",
   "id": "8694c366-0bfe-4a73-8232-78ff9efde975",
   "metadata": {},
   "source": [
    "### Question 2"
   ]
  },
  {
   "cell_type": "markdown",
   "id": "4dd1a3f8-8b4e-45d5-bb6b-bc2071c736ba",
   "metadata": {},
   "source": [
    "Then ask \"Write a function that takes coordinates of two points and computes the distance between them.\" See if the result resembles the version of ``distance`` we wrote in this chapter."
   ]
  },
  {
   "cell_type": "markdown",
   "id": "856f43ac-ba97-4d5b-a0f7-2fefa251a861",
   "metadata": {},
   "source": [
    "### Answer"
   ]
  },
  {
   "cell_type": "markdown",
   "id": "97ea4149-39cc-4097-ab6c-c12aadb4946e",
   "metadata": {},
   "source": [
    "ChatGPT returns a very simplified version directly:"
   ]
  },
  {
   "cell_type": "code",
   "execution_count": 7,
   "id": "fd218bb1-6340-43e8-af34-bc898ebafda1",
   "metadata": {},
   "outputs": [],
   "source": [
    "import math\n",
    "\n",
    "def distance(x1, y1, x2, y2):\n",
    "    \"\"\"\n",
    "    Computes the Euclidean distance between two points (x1, y1) and (x2, y2) in 2D space.\n",
    "    \"\"\"\n",
    "    return math.sqrt((x2 - x1)**2 + (y2 - y1)**2)"
   ]
  },
  {
   "cell_type": "markdown",
   "id": "918640f8-baa4-4634-a797-ed14f2c29db3",
   "metadata": {},
   "source": [
    "The expression in the ``return`` statement is consistent with the version we see in the ``distance`` function in this chapter. We can use the same test coordinates in this chapter to verify its validity:"
   ]
  },
  {
   "cell_type": "code",
   "execution_count": 8,
   "id": "ce16762d-cdfc-4d25-b4cc-9fc083931554",
   "metadata": {},
   "outputs": [
    {
     "data": {
      "text/plain": [
       "5.0"
      ]
     },
     "execution_count": 8,
     "metadata": {},
     "output_type": "execute_result"
    }
   ],
   "source": [
    "distance(1, 2, 4, 6)"
   ]
  },
  {
   "cell_type": "markdown",
   "id": "71e96f13-f0cf-4c97-af51-555cd28d5601",
   "metadata": {},
   "source": [
    "The result is indeed correct."
   ]
  },
  {
   "cell_type": "markdown",
   "id": "3396cf76-06f9-436e-8d59-b0a46849ac54",
   "metadata": {},
   "source": [
    "## 6.12.2. Exercise"
   ]
  },
  {
   "cell_type": "markdown",
   "id": "1a9bd1c0-a7a3-4789-9cdc-4b9e966219b4",
   "metadata": {},
   "source": [
    "### Question"
   ]
  },
  {
   "cell_type": "markdown",
   "id": "fdf81ce4-4f5c-47b9-bd37-d52216f541c6",
   "metadata": {},
   "source": [
    "Use incremental development to write a function called ``hypot`` that returns the length of the hypotenuse of a right triangle given the lengths of the other two legs as arguments.\n",
    "\n",
    "Note: There's a function in the math module called ``hypot`` that does the same thing, but you should not use it for this exercise!\n",
    "\n",
    "Even if you can write the function correctly on the first try, start with a function that always returns ``0`` and practice making small changes, testing as you go. When you are done, the function should only return a value – it should not display anything."
   ]
  },
  {
   "cell_type": "markdown",
   "id": "e00296e4-b59e-48b3-a29f-52b1b41578b1",
   "metadata": {},
   "source": [
    "### Answer"
   ]
  },
  {
   "cell_type": "markdown",
   "id": "90d644c3-e132-4964-a3f1-a9bf88775fef",
   "metadata": {},
   "source": [
    "We practice developing this function with incremental development."
   ]
  },
  {
   "cell_type": "markdown",
   "id": "908662bb-e13f-4227-aa29-3fa789058396",
   "metadata": {},
   "source": [
    "First, let us define the interface we need for the ``hypot`` function. It will take the lengths of two legs in a right triangle as inputs and return the length of the hypotenuse as its output. This means that we will take two nonnegative ``int`` or ``float`` as inputs and return a ``float`` as output. We define a function with this interface and return value ``0``. Note that we want to do an input validation to make sure that the parameters are nonnegative. The initial function is programmed as follows:"
   ]
  },
  {
   "cell_type": "code",
   "execution_count": 31,
   "id": "53b731d6-ce8f-4f7d-86f6-56ad5f321f85",
   "metadata": {},
   "outputs": [],
   "source": [
    "def hypot(leg0, leg1):\n",
    "    \"\"\"\n",
    "    Hypotenuse function: Return the length of the hypotenuse of a right triangle.\n",
    "    ---- Input ----\n",
    "    leg0: int or float, length of leg 0.\n",
    "    leg1: int or float, length of leg 1.\n",
    "    ---- Output ----\n",
    "    hyp: float, length of hypotenuse.\n",
    "    \"\"\"\n",
    "    # --------\n",
    "    # Input validation\n",
    "    # --------\n",
    "    # Check if leg0 and leg1 are nonnegative.\n",
    "    if not (leg0 >= 0 and leg1 >= 0):\n",
    "        print(\"The lengths of legs can only be nonnegative.\")\n",
    "        return None\n",
    "    return 0"
   ]
  },
  {
   "cell_type": "markdown",
   "id": "1a770094-2c5b-4cd7-a212-a0b68db623ea",
   "metadata": {},
   "source": [
    "We test this function with the test pair of leg lengths ``3`` and ``4``:"
   ]
  },
  {
   "cell_type": "code",
   "execution_count": 32,
   "id": "8def5400-4b7a-4769-8dc8-613110d52e5e",
   "metadata": {},
   "outputs": [
    {
     "name": "stdout",
     "output_type": "stream",
     "text": [
      "hypot(3, 4): 0\n",
      "The lengths of legs can only be nonnegative.\n",
      "hypot(-3, 4): None\n"
     ]
    }
   ],
   "source": [
    "print(\"hypot(3, 4):\", hypot(3, 4))\n",
    "print(\"hypot(-3, 4):\", hypot(-3, 4))"
   ]
  },
  {
   "cell_type": "markdown",
   "id": "f7b34285-b682-45c5-9d42-e8d8994529d6",
   "metadata": {},
   "source": [
    "Second, we compute the length of hypotenuse within the function. We know that the hypotenuse is the square root of the sum of squares of the two legs:\n",
    "$$\\text{hypotenuse} = \\sqrt{\\text{leg}_0^2 + \\text{leg}_1^2}$$\n",
    "We can use the function ``math.sqrt`` to do this computation. Note that in the incremental development, it is advisible to use a variable to catch the intermediate value. We follow this strategy and program the function as follows:"
   ]
  },
  {
   "cell_type": "code",
   "execution_count": 33,
   "id": "6e93a89d-799d-4931-9a60-42114b203027",
   "metadata": {},
   "outputs": [],
   "source": [
    "def hypot(leg0, leg1):\n",
    "    \"\"\"\n",
    "    Hypotenuse function: Return the length of the hypotenuse of a right triangle.\n",
    "    ---- Input ----\n",
    "    leg0: int or float, length of leg 0.\n",
    "    leg1: int or float, length of leg 1.\n",
    "    ---- Output ----\n",
    "    hyp: float, length of hypotenuse.\n",
    "    \"\"\"\n",
    "    # --------\n",
    "    # Input validation\n",
    "    # --------\n",
    "    # Check if leg0 and leg1 are nonnegative.\n",
    "    if not (leg0 >= 0 and leg1 >= 0):\n",
    "        print(\"The lengths of legs can only be nonnegative.\")\n",
    "        return None\n",
    "    hyp = math.sqrt(leg0**2 + leg1**2)\n",
    "    return hyp"
   ]
  },
  {
   "cell_type": "markdown",
   "id": "11e569ba-054b-453e-a4ab-db3c9ed0d6aa",
   "metadata": {},
   "source": [
    "Let us test if the result is correct:"
   ]
  },
  {
   "cell_type": "code",
   "execution_count": 34,
   "id": "a46ae7d6-178c-425f-aba3-ba930a9c9958",
   "metadata": {},
   "outputs": [
    {
     "name": "stdout",
     "output_type": "stream",
     "text": [
      "hypot(3, 4): 5.0\n"
     ]
    }
   ],
   "source": [
    "print(\"hypot(3, 4):\", hypot(3, 4))"
   ]
  },
  {
   "cell_type": "markdown",
   "id": "3bf7c26c-1c63-41b5-9566-9fceed5854a8",
   "metadata": {},
   "source": [
    "Indeed, the function returns the correct length of the hypotenuse."
   ]
  },
  {
   "cell_type": "markdown",
   "id": "ade53139-ba4a-488a-bce6-64561c2f9d97",
   "metadata": {},
   "source": [
    "## 6.12.3. Exercise"
   ]
  },
  {
   "cell_type": "markdown",
   "id": "ff3ee9b4-c4d6-42c8-9cdb-0ee8814ad74f",
   "metadata": {},
   "source": [
    "### Question"
   ]
  },
  {
   "cell_type": "markdown",
   "id": "a557030c-b9c6-4082-bbfe-1cf431a32edf",
   "metadata": {},
   "source": [
    "Write a boolean function, ``is_between(x, y, z)``, that returns ``True`` if $x < y < z$ or if $z < y < x$, and ``False`` otherwise."
   ]
  },
  {
   "cell_type": "markdown",
   "id": "891f2d63-54b2-43e0-b761-0a87726ceb9f",
   "metadata": {},
   "source": [
    "### Answer"
   ]
  },
  {
   "cell_type": "markdown",
   "id": "9efc5dd2-adf3-40b5-97f0-a233dbda1400",
   "metadata": {},
   "source": [
    "In this chapter, we have learned that we can use the Boolean expression directly in the ``return`` statement of a Boolean function. Here, we want to determine whether the parameters ``x``, ``y``, and ``z`` satisfy the condition ``x < y < z or z < y < x``. The function ``is_between(x, y, z)`` can be programmed as:"
   ]
  },
  {
   "cell_type": "code",
   "execution_count": 13,
   "id": "52283d3d-98f7-4c99-8113-99637dc9f4fd",
   "metadata": {},
   "outputs": [],
   "source": [
    "def is_between(x, y, z):\n",
    "    \"\"\"\n",
    "    Is between function: Determines if the parameters x, y, z satisfy the condition x < y < z or z < y < x.\n",
    "    ---- Input ----\n",
    "    x, y, z: int or float, the three parameters to examine.\n",
    "    ---- Output ----\n",
    "    True or False: The condition x < y < z or z < y < x.\n",
    "    \"\"\"\n",
    "    return x < y < z or z < y < x"
   ]
  },
  {
   "cell_type": "markdown",
   "id": "b280c9e8-dd79-45dd-abc6-ba649f556c51",
   "metadata": {},
   "source": [
    "Let us try the function for a few different test sets:"
   ]
  },
  {
   "cell_type": "code",
   "execution_count": 14,
   "id": "1f3d9141-28eb-4164-ae1f-c9bbcac89474",
   "metadata": {},
   "outputs": [
    {
     "name": "stdout",
     "output_type": "stream",
     "text": [
      "is_between(1, 2, 3): True\n",
      "is_between(3, 2, 1): True\n",
      "is_between(2, 1, 3): False\n"
     ]
    }
   ],
   "source": [
    "print(\"is_between(1, 2, 3):\", is_between(1, 2, 3))\n",
    "print(\"is_between(3, 2, 1):\", is_between(3, 2, 1))\n",
    "print(\"is_between(2, 1, 3):\", is_between(2, 1, 3))"
   ]
  },
  {
   "cell_type": "markdown",
   "id": "d3acfb5f-116a-47ff-bda0-64a26c0e4760",
   "metadata": {},
   "source": [
    "The function determines the conditions correctly."
   ]
  },
  {
   "cell_type": "markdown",
   "id": "c80bc92e-4d54-41f5-a56c-96e5754bb5e9",
   "metadata": {},
   "source": [
    "## 6.12.4. Exercise"
   ]
  },
  {
   "cell_type": "markdown",
   "id": "0fe17a2b-8485-4c5c-9f31-445f7189a39f",
   "metadata": {},
   "source": [
    "### Question"
   ]
  },
  {
   "cell_type": "markdown",
   "id": "a1bb0893-4685-4efd-b82e-77877f759ddb",
   "metadata": {},
   "source": [
    "The Ackermann function, $A(m, n)$, is defined:\n",
    "$$A(m, n) =\n",
    "\\left\\{\\begin{array}{ll}\n",
    "n + 1, & \\text{if } m = 0, \\\\\n",
    "A(m - 1, 1), & \\text{if } m > 0 \\text{ and } n = 0, \\\\\n",
    "A(m - 1, A(m, n-1)), & \\text{if } m > 0 \\text{ and } n > 0.\n",
    "\\end{array}\\right.\n",
    "$$\n",
    "Write a function named ``ackermann`` that evaluates the Ackermann function. What happens if you call ``ackermann(5, 5)``?"
   ]
  },
  {
   "cell_type": "markdown",
   "id": "613f824e-5b7a-419e-9898-04cb045bb685",
   "metadata": {},
   "source": [
    "### Answer"
   ]
  },
  {
   "cell_type": "markdown",
   "id": "9d604298-289e-4a2c-aa57-e2f27a927b43",
   "metadata": {},
   "source": [
    "According to the recursive definition of the Ackermann function $A(m, n)$, we will define the ``ackermann`` function as a recursive one. We use the incremental development to program this function. First, we see that the Ackermann function takes two nonnegative integers $m$, $n$ and returns another integer $A(m, n)$. As an initial step, we define a function with this interface and return value ``0``. Note that we want to do an input validation to prevent infinite recursions from invalid parameters ``m`` and ``n``. The initial function is programmed as follows:"
   ]
  },
  {
   "cell_type": "code",
   "execution_count": 15,
   "id": "50fbde7d-4ec8-4f31-9f70-8d6c2174aebd",
   "metadata": {},
   "outputs": [],
   "source": [
    "def ackermann(m, n):\n",
    "    \"\"\"\n",
    "    Ackermann function: Gives the value A(m, n).\n",
    "    ---- Input ----\n",
    "    m, n: int, nonnegative integers.\n",
    "    ---- Output ----\n",
    "    result: int, A(m, n).\n",
    "    \"\"\"\n",
    "    # --------\n",
    "    # Input validation\n",
    "    # --------\n",
    "    # Check if m and n are integers.\n",
    "    if not (isinstance(m, int) and isinstance(n, int)):\n",
    "        print(\"The Ackermann function is defined only for integers.\")\n",
    "        return None\n",
    "    # Check if m and n are nonnegative.\n",
    "    if not (m >= 0 and n >= 0):\n",
    "        print(\"The Ackermann function is defined only for nonnegative integers.\")\n",
    "        return None\n",
    "    return 0"
   ]
  },
  {
   "cell_type": "markdown",
   "id": "b8624125-251f-43c8-a76c-630ae1268d97",
   "metadata": {},
   "source": [
    "We can do a few tests to see if the input validation works correctly:"
   ]
  },
  {
   "cell_type": "code",
   "execution_count": 16,
   "id": "2752dd83-3518-4af9-abd4-abe7d3317e17",
   "metadata": {},
   "outputs": [
    {
     "name": "stdout",
     "output_type": "stream",
     "text": [
      "The Ackermann function is defined only for nonnegative integers.\n",
      "ackermann(-1, -1): None\n",
      "The Ackermann function is defined only for nonnegative integers.\n",
      "ackermann(-1, 1): None\n",
      "The Ackermann function is defined only for integers.\n",
      "ackermann(0.5, 1): None\n"
     ]
    }
   ],
   "source": [
    "print(\"ackermann(-1, -1):\", ackermann(-1, 1))\n",
    "print(\"ackermann(-1, 1):\", ackermann(-1, -1))\n",
    "print(\"ackermann(0.5, 1):\", ackermann(0.5, 1))"
   ]
  },
  {
   "cell_type": "markdown",
   "id": "efd81bd6-ba61-427f-84c3-da0028d74615",
   "metadata": {},
   "source": [
    "Next, we implement the recursive conditions in the Ackermann function:"
   ]
  },
  {
   "cell_type": "code",
   "execution_count": 17,
   "id": "2401fb04-2a49-48bf-a713-ac6ccfb31fc6",
   "metadata": {},
   "outputs": [],
   "source": [
    "def ackermann(m, n):\n",
    "    \"\"\"\n",
    "    Ackermann function: Gives the value A(m, n).\n",
    "    ---- Input ----\n",
    "    m, n: int, nonnegative integers.\n",
    "    ---- Output ----\n",
    "    result: int, A(m, n).\n",
    "    \"\"\"\n",
    "    # --------\n",
    "    # Input validation\n",
    "    # --------\n",
    "    # Check if m and n are integers.\n",
    "    if not (isinstance(m, int) and isinstance(n, int)):\n",
    "        print(\"The Ackermann function is defined only for integers.\")\n",
    "        return None\n",
    "    # Check if m and n are nonnegative.\n",
    "    if not (m >= 0 and n >= 0):\n",
    "        print(\"The Ackermann function is defined only for nonnegative integers.\")\n",
    "        return None\n",
    "    # --------\n",
    "    # Recursive conditions.\n",
    "    # --------\n",
    "    if m == 0:\n",
    "        return n + 1\n",
    "    elif m > 0 and n == 0:\n",
    "        return ackermann(m - 1, 1)\n",
    "    elif m > 0 and n > 0:\n",
    "        return ackermann(m - 1, ackermann(m, n - 1))"
   ]
  },
  {
   "cell_type": "markdown",
   "id": "63f4e11a-f176-41db-8371-acbffa2f7b47",
   "metadata": {},
   "source": [
    "Let us do the computation for a few test parameters:"
   ]
  },
  {
   "cell_type": "code",
   "execution_count": 18,
   "id": "ca57cefe-121b-4682-980e-9fe86e73ed83",
   "metadata": {},
   "outputs": [
    {
     "name": "stdout",
     "output_type": "stream",
     "text": [
      "A(1, 1) =  3\n",
      "A(2, 2) =  7\n",
      "A(3, 3) =  61\n"
     ]
    },
    {
     "ename": "RecursionError",
     "evalue": "maximum recursion depth exceeded",
     "output_type": "error",
     "traceback": [
      "\u001b[31m---------------------------------------------------------------------------\u001b[39m",
      "\u001b[31mRecursionError\u001b[39m                            Traceback (most recent call last)",
      "\u001b[36mCell\u001b[39m\u001b[36m \u001b[39m\u001b[32mIn[18]\u001b[39m\u001b[32m, line 4\u001b[39m\n\u001b[32m      2\u001b[39m \u001b[38;5;28mprint\u001b[39m(\u001b[33m\"\u001b[39m\u001b[33mA(2, 2) = \u001b[39m\u001b[33m\"\u001b[39m, ackermann(\u001b[32m2\u001b[39m, \u001b[32m2\u001b[39m))\n\u001b[32m      3\u001b[39m \u001b[38;5;28mprint\u001b[39m(\u001b[33m\"\u001b[39m\u001b[33mA(3, 3) = \u001b[39m\u001b[33m\"\u001b[39m, ackermann(\u001b[32m3\u001b[39m, \u001b[32m3\u001b[39m))\n\u001b[32m----> \u001b[39m\u001b[32m4\u001b[39m \u001b[38;5;28mprint\u001b[39m(\u001b[33m\"\u001b[39m\u001b[33mA(4, 4) = \u001b[39m\u001b[33m\"\u001b[39m, \u001b[43mackermann\u001b[49m\u001b[43m(\u001b[49m\u001b[32;43m4\u001b[39;49m\u001b[43m,\u001b[49m\u001b[43m \u001b[49m\u001b[32;43m4\u001b[39;49m\u001b[43m)\u001b[49m)\n",
      "\u001b[36mCell\u001b[39m\u001b[36m \u001b[39m\u001b[32mIn[17]\u001b[39m\u001b[32m, line 28\u001b[39m, in \u001b[36mackermann\u001b[39m\u001b[34m(m, n)\u001b[39m\n\u001b[32m     26\u001b[39m     \u001b[38;5;28;01mreturn\u001b[39;00m ackermann(m - \u001b[32m1\u001b[39m, \u001b[32m1\u001b[39m)\n\u001b[32m     27\u001b[39m \u001b[38;5;28;01melif\u001b[39;00m m > \u001b[32m0\u001b[39m \u001b[38;5;129;01mand\u001b[39;00m n > \u001b[32m0\u001b[39m:\n\u001b[32m---> \u001b[39m\u001b[32m28\u001b[39m     \u001b[38;5;28;01mreturn\u001b[39;00m ackermann(m - \u001b[32m1\u001b[39m, \u001b[43mackermann\u001b[49m\u001b[43m(\u001b[49m\u001b[43mm\u001b[49m\u001b[43m,\u001b[49m\u001b[43m \u001b[49m\u001b[43mn\u001b[49m\u001b[43m \u001b[49m\u001b[43m-\u001b[49m\u001b[43m \u001b[49m\u001b[32;43m1\u001b[39;49m\u001b[43m)\u001b[49m)\n",
      "\u001b[36mCell\u001b[39m\u001b[36m \u001b[39m\u001b[32mIn[17]\u001b[39m\u001b[32m, line 28\u001b[39m, in \u001b[36mackermann\u001b[39m\u001b[34m(m, n)\u001b[39m\n\u001b[32m     26\u001b[39m     \u001b[38;5;28;01mreturn\u001b[39;00m ackermann(m - \u001b[32m1\u001b[39m, \u001b[32m1\u001b[39m)\n\u001b[32m     27\u001b[39m \u001b[38;5;28;01melif\u001b[39;00m m > \u001b[32m0\u001b[39m \u001b[38;5;129;01mand\u001b[39;00m n > \u001b[32m0\u001b[39m:\n\u001b[32m---> \u001b[39m\u001b[32m28\u001b[39m     \u001b[38;5;28;01mreturn\u001b[39;00m ackermann(m - \u001b[32m1\u001b[39m, \u001b[43mackermann\u001b[49m\u001b[43m(\u001b[49m\u001b[43mm\u001b[49m\u001b[43m,\u001b[49m\u001b[43m \u001b[49m\u001b[43mn\u001b[49m\u001b[43m \u001b[49m\u001b[43m-\u001b[49m\u001b[43m \u001b[49m\u001b[32;43m1\u001b[39;49m\u001b[43m)\u001b[49m)\n",
      "    \u001b[31m[... skipping similar frames: ackermann at line 28 (2973 times)]\u001b[39m\n",
      "\u001b[36mCell\u001b[39m\u001b[36m \u001b[39m\u001b[32mIn[17]\u001b[39m\u001b[32m, line 28\u001b[39m, in \u001b[36mackermann\u001b[39m\u001b[34m(m, n)\u001b[39m\n\u001b[32m     26\u001b[39m     \u001b[38;5;28;01mreturn\u001b[39;00m ackermann(m - \u001b[32m1\u001b[39m, \u001b[32m1\u001b[39m)\n\u001b[32m     27\u001b[39m \u001b[38;5;28;01melif\u001b[39;00m m > \u001b[32m0\u001b[39m \u001b[38;5;129;01mand\u001b[39;00m n > \u001b[32m0\u001b[39m:\n\u001b[32m---> \u001b[39m\u001b[32m28\u001b[39m     \u001b[38;5;28;01mreturn\u001b[39;00m ackermann(m - \u001b[32m1\u001b[39m, \u001b[43mackermann\u001b[49m\u001b[43m(\u001b[49m\u001b[43mm\u001b[49m\u001b[43m,\u001b[49m\u001b[43m \u001b[49m\u001b[43mn\u001b[49m\u001b[43m \u001b[49m\u001b[43m-\u001b[49m\u001b[43m \u001b[49m\u001b[32;43m1\u001b[39;49m\u001b[43m)\u001b[49m)\n",
      "\u001b[36mCell\u001b[39m\u001b[36m \u001b[39m\u001b[32mIn[17]\u001b[39m\u001b[32m, line 26\u001b[39m, in \u001b[36mackermann\u001b[39m\u001b[34m(m, n)\u001b[39m\n\u001b[32m     24\u001b[39m     \u001b[38;5;28;01mreturn\u001b[39;00m n + \u001b[32m1\u001b[39m\n\u001b[32m     25\u001b[39m \u001b[38;5;28;01melif\u001b[39;00m m > \u001b[32m0\u001b[39m \u001b[38;5;129;01mand\u001b[39;00m n == \u001b[32m0\u001b[39m:\n\u001b[32m---> \u001b[39m\u001b[32m26\u001b[39m     \u001b[38;5;28;01mreturn\u001b[39;00m \u001b[43mackermann\u001b[49m\u001b[43m(\u001b[49m\u001b[43mm\u001b[49m\u001b[43m \u001b[49m\u001b[43m-\u001b[49m\u001b[43m \u001b[49m\u001b[32;43m1\u001b[39;49m\u001b[43m,\u001b[49m\u001b[43m \u001b[49m\u001b[32;43m1\u001b[39;49m\u001b[43m)\u001b[49m\n\u001b[32m     27\u001b[39m \u001b[38;5;28;01melif\u001b[39;00m m > \u001b[32m0\u001b[39m \u001b[38;5;129;01mand\u001b[39;00m n > \u001b[32m0\u001b[39m:\n\u001b[32m     28\u001b[39m     \u001b[38;5;28;01mreturn\u001b[39;00m ackermann(m - \u001b[32m1\u001b[39m, ackermann(m, n - \u001b[32m1\u001b[39m))\n",
      "\u001b[31mRecursionError\u001b[39m: maximum recursion depth exceeded"
     ]
    }
   ],
   "source": [
    "print(\"A(1, 1) = \", ackermann(1, 1))\n",
    "print(\"A(2, 2) = \", ackermann(2, 2))\n",
    "print(\"A(3, 3) = \", ackermann(3, 3))\n",
    "print(\"A(4, 4) = \", ackermann(4, 4))"
   ]
  },
  {
   "cell_type": "markdown",
   "id": "86c58848-4ba7-4d06-a13c-aa3132c33742",
   "metadata": {},
   "source": [
    "We can see that $A(4, 4)$ already yields a ``RecursionError``, meaning that it exceeds our computation capability. This limitation also happens to the value $A(5, 5)$ asked in the question:"
   ]
  },
  {
   "cell_type": "code",
   "execution_count": 21,
   "id": "a83f85ce-dd47-4584-a4ee-0e461711a50c",
   "metadata": {},
   "outputs": [
    {
     "ename": "RecursionError",
     "evalue": "maximum recursion depth exceeded",
     "output_type": "error",
     "traceback": [
      "\u001b[31m---------------------------------------------------------------------------\u001b[39m",
      "\u001b[31mRecursionError\u001b[39m                            Traceback (most recent call last)",
      "\u001b[36mCell\u001b[39m\u001b[36m \u001b[39m\u001b[32mIn[21]\u001b[39m\u001b[32m, line 1\u001b[39m\n\u001b[32m----> \u001b[39m\u001b[32m1\u001b[39m \u001b[43mackermann\u001b[49m\u001b[43m(\u001b[49m\u001b[32;43m5\u001b[39;49m\u001b[43m,\u001b[49m\u001b[43m \u001b[49m\u001b[32;43m5\u001b[39;49m\u001b[43m)\u001b[49m\n",
      "\u001b[36mCell\u001b[39m\u001b[36m \u001b[39m\u001b[32mIn[17]\u001b[39m\u001b[32m, line 28\u001b[39m, in \u001b[36mackermann\u001b[39m\u001b[34m(m, n)\u001b[39m\n\u001b[32m     26\u001b[39m     \u001b[38;5;28;01mreturn\u001b[39;00m ackermann(m - \u001b[32m1\u001b[39m, \u001b[32m1\u001b[39m)\n\u001b[32m     27\u001b[39m \u001b[38;5;28;01melif\u001b[39;00m m > \u001b[32m0\u001b[39m \u001b[38;5;129;01mand\u001b[39;00m n > \u001b[32m0\u001b[39m:\n\u001b[32m---> \u001b[39m\u001b[32m28\u001b[39m     \u001b[38;5;28;01mreturn\u001b[39;00m ackermann(m - \u001b[32m1\u001b[39m, \u001b[43mackermann\u001b[49m\u001b[43m(\u001b[49m\u001b[43mm\u001b[49m\u001b[43m,\u001b[49m\u001b[43m \u001b[49m\u001b[43mn\u001b[49m\u001b[43m \u001b[49m\u001b[43m-\u001b[49m\u001b[43m \u001b[49m\u001b[32;43m1\u001b[39;49m\u001b[43m)\u001b[49m)\n",
      "\u001b[36mCell\u001b[39m\u001b[36m \u001b[39m\u001b[32mIn[17]\u001b[39m\u001b[32m, line 28\u001b[39m, in \u001b[36mackermann\u001b[39m\u001b[34m(m, n)\u001b[39m\n\u001b[32m     26\u001b[39m     \u001b[38;5;28;01mreturn\u001b[39;00m ackermann(m - \u001b[32m1\u001b[39m, \u001b[32m1\u001b[39m)\n\u001b[32m     27\u001b[39m \u001b[38;5;28;01melif\u001b[39;00m m > \u001b[32m0\u001b[39m \u001b[38;5;129;01mand\u001b[39;00m n > \u001b[32m0\u001b[39m:\n\u001b[32m---> \u001b[39m\u001b[32m28\u001b[39m     \u001b[38;5;28;01mreturn\u001b[39;00m ackermann(m - \u001b[32m1\u001b[39m, \u001b[43mackermann\u001b[49m\u001b[43m(\u001b[49m\u001b[43mm\u001b[49m\u001b[43m,\u001b[49m\u001b[43m \u001b[49m\u001b[43mn\u001b[49m\u001b[43m \u001b[49m\u001b[43m-\u001b[49m\u001b[43m \u001b[49m\u001b[32;43m1\u001b[39;49m\u001b[43m)\u001b[49m)\n",
      "    \u001b[31m[... skipping similar frames: ackermann at line 28 (2 times)]\u001b[39m\n",
      "\u001b[36mCell\u001b[39m\u001b[36m \u001b[39m\u001b[32mIn[17]\u001b[39m\u001b[32m, line 28\u001b[39m, in \u001b[36mackermann\u001b[39m\u001b[34m(m, n)\u001b[39m\n\u001b[32m     26\u001b[39m     \u001b[38;5;28;01mreturn\u001b[39;00m ackermann(m - \u001b[32m1\u001b[39m, \u001b[32m1\u001b[39m)\n\u001b[32m     27\u001b[39m \u001b[38;5;28;01melif\u001b[39;00m m > \u001b[32m0\u001b[39m \u001b[38;5;129;01mand\u001b[39;00m n > \u001b[32m0\u001b[39m:\n\u001b[32m---> \u001b[39m\u001b[32m28\u001b[39m     \u001b[38;5;28;01mreturn\u001b[39;00m ackermann(m - \u001b[32m1\u001b[39m, \u001b[43mackermann\u001b[49m\u001b[43m(\u001b[49m\u001b[43mm\u001b[49m\u001b[43m,\u001b[49m\u001b[43m \u001b[49m\u001b[43mn\u001b[49m\u001b[43m \u001b[49m\u001b[43m-\u001b[49m\u001b[43m \u001b[49m\u001b[32;43m1\u001b[39;49m\u001b[43m)\u001b[49m)\n",
      "\u001b[36mCell\u001b[39m\u001b[36m \u001b[39m\u001b[32mIn[17]\u001b[39m\u001b[32m, line 26\u001b[39m, in \u001b[36mackermann\u001b[39m\u001b[34m(m, n)\u001b[39m\n\u001b[32m     24\u001b[39m     \u001b[38;5;28;01mreturn\u001b[39;00m n + \u001b[32m1\u001b[39m\n\u001b[32m     25\u001b[39m \u001b[38;5;28;01melif\u001b[39;00m m > \u001b[32m0\u001b[39m \u001b[38;5;129;01mand\u001b[39;00m n == \u001b[32m0\u001b[39m:\n\u001b[32m---> \u001b[39m\u001b[32m26\u001b[39m     \u001b[38;5;28;01mreturn\u001b[39;00m \u001b[43mackermann\u001b[49m\u001b[43m(\u001b[49m\u001b[43mm\u001b[49m\u001b[43m \u001b[49m\u001b[43m-\u001b[49m\u001b[43m \u001b[49m\u001b[32;43m1\u001b[39;49m\u001b[43m,\u001b[49m\u001b[43m \u001b[49m\u001b[32;43m1\u001b[39;49m\u001b[43m)\u001b[49m\n\u001b[32m     27\u001b[39m \u001b[38;5;28;01melif\u001b[39;00m m > \u001b[32m0\u001b[39m \u001b[38;5;129;01mand\u001b[39;00m n > \u001b[32m0\u001b[39m:\n\u001b[32m     28\u001b[39m     \u001b[38;5;28;01mreturn\u001b[39;00m ackermann(m - \u001b[32m1\u001b[39m, ackermann(m, n - \u001b[32m1\u001b[39m))\n",
      "\u001b[36mCell\u001b[39m\u001b[36m \u001b[39m\u001b[32mIn[17]\u001b[39m\u001b[32m, line 28\u001b[39m, in \u001b[36mackermann\u001b[39m\u001b[34m(m, n)\u001b[39m\n\u001b[32m     26\u001b[39m     \u001b[38;5;28;01mreturn\u001b[39;00m ackermann(m - \u001b[32m1\u001b[39m, \u001b[32m1\u001b[39m)\n\u001b[32m     27\u001b[39m \u001b[38;5;28;01melif\u001b[39;00m m > \u001b[32m0\u001b[39m \u001b[38;5;129;01mand\u001b[39;00m n > \u001b[32m0\u001b[39m:\n\u001b[32m---> \u001b[39m\u001b[32m28\u001b[39m     \u001b[38;5;28;01mreturn\u001b[39;00m \u001b[43mackermann\u001b[49m\u001b[43m(\u001b[49m\u001b[43mm\u001b[49m\u001b[43m \u001b[49m\u001b[43m-\u001b[49m\u001b[43m \u001b[49m\u001b[32;43m1\u001b[39;49m\u001b[43m,\u001b[49m\u001b[43m \u001b[49m\u001b[43mackermann\u001b[49m\u001b[43m(\u001b[49m\u001b[43mm\u001b[49m\u001b[43m,\u001b[49m\u001b[43m \u001b[49m\u001b[43mn\u001b[49m\u001b[43m \u001b[49m\u001b[43m-\u001b[49m\u001b[43m \u001b[49m\u001b[32;43m1\u001b[39;49m\u001b[43m)\u001b[49m\u001b[43m)\u001b[49m\n",
      "\u001b[36mCell\u001b[39m\u001b[36m \u001b[39m\u001b[32mIn[17]\u001b[39m\u001b[32m, line 28\u001b[39m, in \u001b[36mackermann\u001b[39m\u001b[34m(m, n)\u001b[39m\n\u001b[32m     26\u001b[39m     \u001b[38;5;28;01mreturn\u001b[39;00m ackermann(m - \u001b[32m1\u001b[39m, \u001b[32m1\u001b[39m)\n\u001b[32m     27\u001b[39m \u001b[38;5;28;01melif\u001b[39;00m m > \u001b[32m0\u001b[39m \u001b[38;5;129;01mand\u001b[39;00m n > \u001b[32m0\u001b[39m:\n\u001b[32m---> \u001b[39m\u001b[32m28\u001b[39m     \u001b[38;5;28;01mreturn\u001b[39;00m ackermann(m - \u001b[32m1\u001b[39m, \u001b[43mackermann\u001b[49m\u001b[43m(\u001b[49m\u001b[43mm\u001b[49m\u001b[43m,\u001b[49m\u001b[43m \u001b[49m\u001b[43mn\u001b[49m\u001b[43m \u001b[49m\u001b[43m-\u001b[49m\u001b[43m \u001b[49m\u001b[32;43m1\u001b[39;49m\u001b[43m)\u001b[49m)\n",
      "    \u001b[31m[... skipping similar frames: ackermann at line 28 (2967 times)]\u001b[39m\n",
      "\u001b[36mCell\u001b[39m\u001b[36m \u001b[39m\u001b[32mIn[17]\u001b[39m\u001b[32m, line 28\u001b[39m, in \u001b[36mackermann\u001b[39m\u001b[34m(m, n)\u001b[39m\n\u001b[32m     26\u001b[39m     \u001b[38;5;28;01mreturn\u001b[39;00m ackermann(m - \u001b[32m1\u001b[39m, \u001b[32m1\u001b[39m)\n\u001b[32m     27\u001b[39m \u001b[38;5;28;01melif\u001b[39;00m m > \u001b[32m0\u001b[39m \u001b[38;5;129;01mand\u001b[39;00m n > \u001b[32m0\u001b[39m:\n\u001b[32m---> \u001b[39m\u001b[32m28\u001b[39m     \u001b[38;5;28;01mreturn\u001b[39;00m ackermann(m - \u001b[32m1\u001b[39m, \u001b[43mackermann\u001b[49m\u001b[43m(\u001b[49m\u001b[43mm\u001b[49m\u001b[43m,\u001b[49m\u001b[43m \u001b[49m\u001b[43mn\u001b[49m\u001b[43m \u001b[49m\u001b[43m-\u001b[49m\u001b[43m \u001b[49m\u001b[32;43m1\u001b[39;49m\u001b[43m)\u001b[49m)\n",
      "\u001b[36mCell\u001b[39m\u001b[36m \u001b[39m\u001b[32mIn[17]\u001b[39m\u001b[32m, line 26\u001b[39m, in \u001b[36mackermann\u001b[39m\u001b[34m(m, n)\u001b[39m\n\u001b[32m     24\u001b[39m     \u001b[38;5;28;01mreturn\u001b[39;00m n + \u001b[32m1\u001b[39m\n\u001b[32m     25\u001b[39m \u001b[38;5;28;01melif\u001b[39;00m m > \u001b[32m0\u001b[39m \u001b[38;5;129;01mand\u001b[39;00m n == \u001b[32m0\u001b[39m:\n\u001b[32m---> \u001b[39m\u001b[32m26\u001b[39m     \u001b[38;5;28;01mreturn\u001b[39;00m \u001b[43mackermann\u001b[49m\u001b[43m(\u001b[49m\u001b[43mm\u001b[49m\u001b[43m \u001b[49m\u001b[43m-\u001b[49m\u001b[43m \u001b[49m\u001b[32;43m1\u001b[39;49m\u001b[43m,\u001b[49m\u001b[43m \u001b[49m\u001b[32;43m1\u001b[39;49m\u001b[43m)\u001b[49m\n\u001b[32m     27\u001b[39m \u001b[38;5;28;01melif\u001b[39;00m m > \u001b[32m0\u001b[39m \u001b[38;5;129;01mand\u001b[39;00m n > \u001b[32m0\u001b[39m:\n\u001b[32m     28\u001b[39m     \u001b[38;5;28;01mreturn\u001b[39;00m ackermann(m - \u001b[32m1\u001b[39m, ackermann(m, n - \u001b[32m1\u001b[39m))\n",
      "\u001b[31mRecursionError\u001b[39m: maximum recursion depth exceeded"
     ]
    }
   ],
   "source": [
    "ackermann(5, 5)"
   ]
  },
  {
   "cell_type": "markdown",
   "id": "418f5758-6480-4cf8-9393-5055d0aa73ad",
   "metadata": {},
   "source": [
    "## 6.12.5. Exercise"
   ]
  },
  {
   "cell_type": "markdown",
   "id": "dadf4675-ca33-4160-a6d9-ce19249812f7",
   "metadata": {},
   "source": [
    "### Question"
   ]
  },
  {
   "cell_type": "markdown",
   "id": "54dff283-4510-428b-95d8-581a6be916b9",
   "metadata": {},
   "source": [
    "The greatest common divisor (GCD) of $a$ and $b$ is the largest number that divides both of them with no remainder.\n",
    "\n",
    "One way to find the GCD of two numbers is based on the observation that if $r$ is the remainder when $a$ is divided by $b$, then $\\text{gcd}(a, b) = \\text{gcd}(b, r)$. As a base case, we can use $\\text{gcd}(a, 0) = a$.\n",
    "\n",
    "Write a function called ``gcd`` that takes parameters ``a`` and ``b`` and returns their greatest common divisor."
   ]
  },
  {
   "cell_type": "markdown",
   "id": "e50ac38a-ee4a-4b3e-baba-5ee4cdc4975f",
   "metadata": {},
   "source": [
    "### Answer"
   ]
  },
  {
   "cell_type": "markdown",
   "id": "53bb164b-d4a0-422b-b081-255dd9b9af9c",
   "metadata": {},
   "source": [
    "According to the given method for finding the GCD, we can define the ``gcd`` function recursively. Here we use the incremental development to program this function. First, we notice that the ``gcd`` function should take two integers ``a`` and ``b``, then returns an integer ``c`` as their GCD. We define a function with this interface and include an input validation:"
   ]
  },
  {
   "cell_type": "code",
   "execution_count": 22,
   "id": "68588aea-8080-4f6a-8443-f597d39b5d11",
   "metadata": {},
   "outputs": [],
   "source": [
    "def gcd(a, b):\n",
    "    \"\"\"\n",
    "    GCD function: Computes the greatest common divisor (GCD) of two integers.\n",
    "    ---- Input ----\n",
    "    a, b: int, a pair of integers for which we compute the GCD.\n",
    "    ---- Output ----\n",
    "    c: int, the GCD of a and b.\n",
    "    \"\"\"\n",
    "    # --------\n",
    "    # Input validation\n",
    "    # --------\n",
    "    # Check if a and b are integers.\n",
    "    if not (isinstance(a, int) and isinstance(b, int)):\n",
    "        print(\"GCD is defined only for integers.\")\n",
    "        return None\n",
    "    return 0"
   ]
  },
  {
   "cell_type": "markdown",
   "id": "7c701147-689d-46f6-8d5d-7e11916d29d8",
   "metadata": {},
   "source": [
    "Let us check if the input validation works correctly:"
   ]
  },
  {
   "cell_type": "code",
   "execution_count": 23,
   "id": "945431b1-5c45-44ee-a1d1-a7010b6004fe",
   "metadata": {},
   "outputs": [
    {
     "name": "stdout",
     "output_type": "stream",
     "text": [
      "gcd(1, 2): 0\n",
      "gcd(-1, 2): 0\n",
      "GCD is defined only for integers.\n",
      "gcd(0.5, 2): None\n"
     ]
    }
   ],
   "source": [
    "print(\"gcd(1, 2):\", gcd(1, 2))\n",
    "print(\"gcd(-1, 2):\", gcd(-1, 2))\n",
    "print(\"gcd(0.5, 2):\", gcd(0.5, 2))"
   ]
  },
  {
   "cell_type": "markdown",
   "id": "907d2e22-52a2-45ad-931c-502eed4c9670",
   "metadata": {},
   "source": [
    "Next, we program the recursive computation in our ``gcd`` function. The recursive computation of the GCD works for $a \\geq b$. Therefore, we include a recursive ``return`` to swap the parameters if ``a < b``:"
   ]
  },
  {
   "cell_type": "code",
   "execution_count": 24,
   "id": "aa052cd2-5980-4043-b75f-a7b8518a8117",
   "metadata": {},
   "outputs": [],
   "source": [
    "def gcd(a, b):\n",
    "    \"\"\"\n",
    "    GCD function: Computes the greatest common divisor (GCD) of two integers.\n",
    "    ---- Input ----\n",
    "    a, b: int, a pair of integers for which we compute the GCD.\n",
    "    ---- Output ----\n",
    "    c: int, the GCD of a and b.\n",
    "    \"\"\"\n",
    "    # --------\n",
    "    # Input validation\n",
    "    # --------\n",
    "    # Check if a and b are integers.\n",
    "    print(\"a =\", a, \"b =\", b) \n",
    "    if not (isinstance(a, int) and isinstance(b, int)):\n",
    "        print(\"GCD is defined only for integers.\")\n",
    "        return None\n",
    "    # --------\n",
    "    # Recursion\n",
    "    # --------\n",
    "    # Make sure a >= b.\n",
    "    if a < b:\n",
    "        return gcd(b, a)\n",
    "    return 0"
   ]
  },
  {
   "cell_type": "markdown",
   "id": "7e759556-43f6-4557-95fa-d057342c814c",
   "metadata": {},
   "source": [
    "Let us test if this swap works correctly:"
   ]
  },
  {
   "cell_type": "code",
   "execution_count": 25,
   "id": "50c32a01-a4b0-4881-a43c-81c3cadd39f1",
   "metadata": {},
   "outputs": [
    {
     "name": "stdout",
     "output_type": "stream",
     "text": [
      "a = 2 b = 1\n",
      "gcd(2, 1) = 0\n",
      "a = 1 b = 2\n",
      "a = 2 b = 1\n",
      "gcd(1, 2) = 0\n"
     ]
    }
   ],
   "source": [
    "print(\"gcd(2, 1) =\", gcd(2, 1))\n",
    "print(\"gcd(1, 2) =\", gcd(1, 2))"
   ]
  },
  {
   "cell_type": "markdown",
   "id": "657d5a7e-b5bc-46d1-9335-2b19075c660f",
   "metadata": {},
   "source": [
    "The function indeed swaps the parameters if needed. Having ensured the correct order for the recursive computation, we remove the ``print`` statement and turn to the body of the recursion:\n",
    "$$\n",
    "\\text{gcd}(a, b) =\n",
    "\\left\\{\\begin{array}{ll}\n",
    "a, & \\text{if } b = 0, \\\\\n",
    "\\text{gcd}(b, r) \\text{ with } r \\equiv a \\text{ (mod $b$)}, & \\text{otherwise}.\n",
    "\\end{array}\\right.\n",
    "$$\n",
    "From this definition, we program the recursive part of the ``gcd`` function:"
   ]
  },
  {
   "cell_type": "code",
   "execution_count": 26,
   "id": "a827c54f-0e0f-47a4-b0b7-c8d175b9732f",
   "metadata": {},
   "outputs": [],
   "source": [
    "def gcd(a, b):\n",
    "    \"\"\"\n",
    "    GCD function: Computes the greatest common divisor (GCD) of two integers.\n",
    "    ---- Input ----\n",
    "    a, b: int, a pair of integers for which we compute the GCD.\n",
    "    ---- Output ----\n",
    "    c: int, the GCD of a and b.\n",
    "    \"\"\"\n",
    "    # --------\n",
    "    # Input validation\n",
    "    # --------\n",
    "    # Check if a and b are integers.\n",
    "    if not (isinstance(a, int) and isinstance(b, int)):\n",
    "        print(\"GCD is defined only for integers.\")\n",
    "        return None\n",
    "    # --------\n",
    "    # Recursion\n",
    "    # --------\n",
    "    # Make sure a >= b.\n",
    "    if a < b:\n",
    "        return gcd(b, a)\n",
    "    # Recursive computation.\n",
    "    if b == 0:\n",
    "        return a\n",
    "    else:\n",
    "        r = a % b\n",
    "        return gcd(b, r)"
   ]
  },
  {
   "cell_type": "markdown",
   "id": "49706eba-44ab-4d1e-8457-16d40e8d0782",
   "metadata": {},
   "source": [
    "Let us test a few set of parameters to see if the function computes the GCD correctly:"
   ]
  },
  {
   "cell_type": "code",
   "execution_count": 27,
   "id": "9e44cd02-7639-4b82-ae87-43349b33b17d",
   "metadata": {},
   "outputs": [
    {
     "name": "stdout",
     "output_type": "stream",
     "text": [
      "gcd(24, 6) = 6\n",
      "gcd(88, 53) = 1\n",
      "gcd(39, 59) = 1\n",
      "gcd(45, 42) = 3\n",
      "gcd(79, 91) = 1\n",
      "gcd(86, 19) = 1\n",
      "gcd(20, 81) = 1\n",
      "gcd(25, 35) = 5\n",
      "gcd(60, 74) = 2\n",
      "gcd(49, 89) = 1\n"
     ]
    }
   ],
   "source": [
    "import random\n",
    "\n",
    "# Generate a list of integers.\n",
    "list_ints = list(range(100))\n",
    "# Examine 10 test sets.\n",
    "for n in range(10):\n",
    "    # Get the parameters randomly from the list.\n",
    "    a, b = random.choice(list_ints), random.choice(list_ints)\n",
    "    # Compute the GCD. Here we use the f expression of Python, where the expressions in {}'s are computed.\n",
    "    print(f\"gcd({a}, {b}) = {gcd(a, b)}\")"
   ]
  },
  {
   "cell_type": "markdown",
   "id": "31d49af1-aa3d-456e-9f69-37d1bbb5f72d",
   "metadata": {},
   "source": [
    "Given two arbitrary integers, the ``gcd`` function computes their GCD correctly."
   ]
  },
  {
   "cell_type": "markdown",
   "id": "fa2930c3-8079-4269-8a07-d72239fe61d6",
   "metadata": {},
   "source": [
    "## This completes the exercises in this Chapter!"
   ]
  }
 ],
 "metadata": {
  "kernelspec": {
   "display_name": "Python 3 (ipykernel)",
   "language": "python",
   "name": "python3"
  },
  "language_info": {
   "codemirror_mode": {
    "name": "ipython",
    "version": 3
   },
   "file_extension": ".py",
   "mimetype": "text/x-python",
   "name": "python",
   "nbconvert_exporter": "python",
   "pygments_lexer": "ipython3",
   "version": "3.13.3"
  }
 },
 "nbformat": 4,
 "nbformat_minor": 5
}
