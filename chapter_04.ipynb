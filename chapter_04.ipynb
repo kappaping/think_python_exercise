{
 "cells": [
  {
   "cell_type": "markdown",
   "id": "023b9952-e216-4dd4-86ed-48e70e5bc40a",
   "metadata": {},
   "source": [
    "# Chapter 4 Answers: Exercises in 4.11."
   ]
  },
  {
   "cell_type": "markdown",
   "id": "3a2a24cb-7700-4115-8856-b634e88377cd",
   "metadata": {},
   "source": [
    "## Author\n",
    "Yu-Ping Lin"
   ]
  },
  {
   "cell_type": "markdown",
   "id": "0ae298ad-4322-4f2c-926b-a390d8c28e3b",
   "metadata": {},
   "source": [
    "## Objectives\n",
    "In this notebook, I write the answers to the exercises of **Chapter 4: Functions and Interfaces** in the textbook *Think Python: How to Think Like a Computer Scientist, 3rd Edition* by Allen B. Downey. The questions are adapted from Section 4.11. of the textbook. Please refer to the [official website](https://allendowney.github.io/ThinkPython/chap04.html) or the published versions for the chapter content and the original questions."
   ]
  },
  {
   "cell_type": "markdown",
   "id": "5b96c3d1-0642-4763-959e-7af5eb60ad7c",
   "metadata": {},
   "source": [
    "## 4.11.0. Setup"
   ]
  },
  {
   "cell_type": "markdown",
   "id": "5cf6867d-3645-4597-86fa-19a194fb50cc",
   "metadata": {},
   "source": [
    "### 4.11.0.1. Set up ``jupyturtle``"
   ]
  },
  {
   "cell_type": "markdown",
   "id": "52aa55cc-3784-4e99-b358-2c0ae3510fca",
   "metadata": {},
   "source": [
    "Before heading into the exercises, we need to import the ``jupyturtle`` module used in the textbook. The module **jupyturtle.py** can be downloaded from the [GitHub repository](https://github.com/ramalho/jupyturtle) by Luciano Ramalho. Put this file in the same folder as the Jupyter notebook."
   ]
  },
  {
   "cell_type": "markdown",
   "id": "79c87be6-0cce-457d-8b44-3e928a9938a6",
   "metadata": {},
   "source": [
    "Following the textbook, we import the function ``make_turtle`` which creates a turtle object on a canvas, as well as ``forward``, ``left``, and ``right`` for the movement of the turtle."
   ]
  },
  {
   "cell_type": "code",
   "execution_count": 24,
   "id": "0e43de39-b518-48f7-b73c-6e206166bcdd",
   "metadata": {},
   "outputs": [],
   "source": [
    "from jupyturtle import make_turtle, forward, left, right"
   ]
  },
  {
   "cell_type": "markdown",
   "id": "4e5480c5-3eeb-4af6-9878-ca65f8e50434",
   "metadata": {},
   "source": [
    "### 4.11.0.2. Author instructions"
   ]
  },
  {
   "cell_type": "markdown",
   "id": "df6803e8-ea02-4745-921f-8dcd75c21a02",
   "metadata": {},
   "source": [
    "For the exercises below, there are a few more turtle functions you might want to use.\n",
    "\n",
    "- ``penup`` lifts the turtle's imaginary pen so it doesn't leave a trail when it moves.\n",
    "- ``pendown`` puts the pen back down.\n",
    "\n",
    "The following function uses ``penup`` and ``pendown`` to move the turtle without leaving a trail."
   ]
  },
  {
   "cell_type": "code",
   "execution_count": 25,
   "id": "3055ad5c-25b1-426a-8fc3-f9eb82bd33bd",
   "metadata": {},
   "outputs": [],
   "source": [
    "from jupyturtle import penup, pendown\n",
    "\n",
    "def jump(length):\n",
    "    \"\"\"Move forward length units without leaving a trail.\n",
    "    \n",
    "    Postcondition: Leaves the pen down.\n",
    "    \"\"\"\n",
    "    penup()\n",
    "    forward(length)\n",
    "    pendown()"
   ]
  },
  {
   "cell_type": "code",
   "execution_count": 26,
   "id": "3c125711-20a9-42da-bc1f-4ae56f8beca1",
   "metadata": {},
   "outputs": [
    {
     "data": {
      "text/html": [
       "<svg width=\"300\" height=\"150\" style=\"fill:none; stroke-linecap:round;\">\n",
       "    <rect width=\"100%\" height=\"100%\" fill=\"#F3F3F7\" />\n",
       "\n",
       "\n",
       "<path stroke=\"#663399\" stroke-width=\"2\" d=\"M 150,75\" />'\n",
       "\n",
       "<path stroke=\"#663399\" stroke-width=\"2\" d=\"M 160,75\" />'\n",
       "\n",
       "<g transform=\"rotate(-90.0,160.0,75.0) translate(160.0, 75.0)\">\n",
       "    <circle stroke=\"#63A375\" stroke-width=\"2\" fill=\"transparent\" r=\"5.5\" cx=\"0\" cy=\"0\"/>\n",
       "    <polygon points=\"0,12 2,9 -2,9\" style=\"fill:#63A375;stroke:#63A375;stroke-width:2\"/>\n",
       "</g>\n",
       "\n",
       "</svg>"
      ],
      "text/plain": [
       "<IPython.core.display.HTML object>"
      ]
     },
     "metadata": {},
     "output_type": "display_data"
    }
   ],
   "source": [
    "make_turtle(delay=0)\n",
    "jump(10)"
   ]
  },
  {
   "cell_type": "markdown",
   "id": "54436414-5df3-4582-8f43-46f85e9befbc",
   "metadata": {},
   "source": [
    "## 4.11.1. Exercise"
   ]
  },
  {
   "cell_type": "markdown",
   "id": "ef0f89e2-3d2e-4973-b769-2976eff31445",
   "metadata": {},
   "source": [
    "### Question"
   ]
  },
  {
   "cell_type": "markdown",
   "id": "6f0f20c9-6bf8-49ba-aa62-5d4dcf269a48",
   "metadata": {},
   "source": [
    "Write a function called ``rectangle`` that draws a rectangle with given side lengths. For example, here's a rectangle that's ``80`` units wide and ``40`` units tall."
   ]
  },
  {
   "cell_type": "markdown",
   "id": "d0f8eff1-b73a-4430-9750-5b40696af93c",
   "metadata": {},
   "source": [
    "### Answer"
   ]
  },
  {
   "cell_type": "markdown",
   "id": "3dc9c548-bb98-43e9-b2a7-e740a1eec066",
   "metadata": {},
   "source": [
    "We define the function ``rectangle`` to take two parameters ``width`` and ``height``."
   ]
  },
  {
   "cell_type": "code",
   "execution_count": 27,
   "id": "7aabe1c2-d4ea-4af7-ba80-8c57b3e3f82c",
   "metadata": {},
   "outputs": [],
   "source": [
    "def rectangle(width, height):\n",
    "    \"\"\"\n",
    "    Rectangle function: Draw a rectangle with the given width and height.\n",
    "    \n",
    "    Input:\n",
    "    width: int or float, width of the rectangle.\n",
    "    height: int or float, height of the rectangle.\n",
    "    \n",
    "    Output:\n",
    "    Draw a rectangle with the width as width and the height as height.\n",
    "    \"\"\"\n",
    "    # Define a list of the four sides.\n",
    "    sides = 2 * [width, height]\n",
    "    # Draw the rectangle.\n",
    "    for i in range(4):\n",
    "        forward(sides[i])\n",
    "        left(90)"
   ]
  },
  {
   "cell_type": "markdown",
   "id": "1cfcaa9c-0df8-490c-861a-ffeb8f54df2d",
   "metadata": {},
   "source": [
    "Let us test if the function draws a rectangle. Following the question, we set ``width`` as ``80`` and ``height`` as ``40``."
   ]
  },
  {
   "cell_type": "code",
   "execution_count": 28,
   "id": "d2bcaef3-a6bf-4523-b3b2-04ee51cd8e9a",
   "metadata": {},
   "outputs": [
    {
     "data": {
      "text/html": [
       "<svg width=\"300\" height=\"150\" style=\"fill:none; stroke-linecap:round;\">\n",
       "    <rect width=\"100%\" height=\"100%\" fill=\"#F3F3F7\" />\n",
       "\n",
       "\n",
       "<path stroke=\"#663399\" stroke-width=\"2\" d=\"M 150,75 230,75 230,35 150,35 150,75\" />'\n",
       "\n",
       "<g transform=\"rotate(-90.0,150.0,75.0) translate(150.0, 75.0)\">\n",
       "    <circle stroke=\"#63A375\" stroke-width=\"2\" fill=\"transparent\" r=\"5.5\" cx=\"0\" cy=\"0\"/>\n",
       "    <polygon points=\"0,12 2,9 -2,9\" style=\"fill:#63A375;stroke:#63A375;stroke-width:2\"/>\n",
       "</g>\n",
       "\n",
       "</svg>"
      ],
      "text/plain": [
       "<IPython.core.display.HTML object>"
      ]
     },
     "metadata": {},
     "output_type": "display_data"
    }
   ],
   "source": [
    "make_turtle(delay=0)\n",
    "rectangle(80, 40)"
   ]
  },
  {
   "cell_type": "markdown",
   "id": "9e64d1df-7d5b-4ba4-83de-c3cceabf12cf",
   "metadata": {},
   "source": [
    "The function indeed draws a rectangle!"
   ]
  },
  {
   "cell_type": "markdown",
   "id": "bab61622-11e2-42f6-8171-bff37919559e",
   "metadata": {},
   "source": [
    "## 4.11.2. Exercise"
   ]
  },
  {
   "cell_type": "markdown",
   "id": "33fe0c1d-0051-44ec-8e43-6418e2589dd8",
   "metadata": {},
   "source": [
    "### Question"
   ]
  },
  {
   "cell_type": "markdown",
   "id": "073163fe-a8b0-4607-ac52-24a11b9c836a",
   "metadata": {},
   "source": [
    "Write a function called ``rhombus`` that draws a rhombus with a given side length and a given interior angle. For example, here’s a rhombus with side length ``50`` and an interior angle of ``60`` degrees."
   ]
  },
  {
   "cell_type": "markdown",
   "id": "f9b0dc83-58cf-4a01-8680-d9ef93a647db",
   "metadata": {},
   "source": [
    "### Answer"
   ]
  },
  {
   "cell_type": "markdown",
   "id": "023bc40b-3eec-406b-844d-9b48309e688e",
   "metadata": {},
   "source": [
    "We define the function ``rhombus`` to take two parameters ``side`` and ``angle``."
   ]
  },
  {
   "cell_type": "code",
   "execution_count": 29,
   "id": "162ccf9a-ee6d-46e1-bb59-c2fde21cdb7a",
   "metadata": {},
   "outputs": [],
   "source": [
    "def rhombus(side, angle):\n",
    "    \"\"\"\n",
    "    Rhombus function: Draw a rhombus with the given side length and interior angle.\n",
    "    \n",
    "    Input:\n",
    "    side: int or float, side length of the rhombus.\n",
    "    angle: int or float, interior angle of the rhombus in degrees.\n",
    "    \n",
    "    Output:\n",
    "    Draw a rhombus with the side length as side and the interior angle as angle.\n",
    "    \"\"\"\n",
    "    # Define a list of the four angles. Note that the two different angles should be angle and 180 - angle, in order to have parallel sides.\n",
    "    angles = 2 * [angle, 180 - angle]\n",
    "    # Draw the rhombus.\n",
    "    for i in range(4):\n",
    "        forward(side)\n",
    "        left(angles[i])"
   ]
  },
  {
   "cell_type": "markdown",
   "id": "1e792ec0-b716-4426-a70b-9a62072b0b93",
   "metadata": {},
   "source": [
    "Let us test if the function draws a rhombus. Following the question, we choose ``side`` as ``50`` and ``angle`` as ``60``."
   ]
  },
  {
   "cell_type": "code",
   "execution_count": 30,
   "id": "83f838d2-eb7d-48ba-bc27-b812518dbdba",
   "metadata": {},
   "outputs": [
    {
     "data": {
      "text/html": [
       "<svg width=\"300\" height=\"150\" style=\"fill:none; stroke-linecap:round;\">\n",
       "    <rect width=\"100%\" height=\"100%\" fill=\"#F3F3F7\" />\n",
       "\n",
       "\n",
       "<path stroke=\"#663399\" stroke-width=\"2\" d=\"M 150,75 200,75 225,31.7 175,31.7 150,75\" />'\n",
       "\n",
       "<g transform=\"rotate(-90.0,150.0,75.0) translate(150.0, 75.0)\">\n",
       "    <circle stroke=\"#63A375\" stroke-width=\"2\" fill=\"transparent\" r=\"5.5\" cx=\"0\" cy=\"0\"/>\n",
       "    <polygon points=\"0,12 2,9 -2,9\" style=\"fill:#63A375;stroke:#63A375;stroke-width:2\"/>\n",
       "</g>\n",
       "\n",
       "</svg>"
      ],
      "text/plain": [
       "<IPython.core.display.HTML object>"
      ]
     },
     "metadata": {},
     "output_type": "display_data"
    }
   ],
   "source": [
    "make_turtle(delay=0)\n",
    "rhombus(50, 60)"
   ]
  },
  {
   "cell_type": "markdown",
   "id": "25d9f1b1-0ca2-48c4-a842-a119d529c2d6",
   "metadata": {},
   "source": [
    "The function indeed draws a rhombus!"
   ]
  },
  {
   "cell_type": "markdown",
   "id": "78038017-4cd8-4fa8-8bce-119c67343c5f",
   "metadata": {},
   "source": [
    "## 4.11.3. Exercise"
   ]
  },
  {
   "cell_type": "markdown",
   "id": "8e9a86c8-93fc-49a8-acee-01d5b924b3c5",
   "metadata": {},
   "source": [
    "### Question"
   ]
  },
  {
   "cell_type": "markdown",
   "id": "1b8aada9-cc57-4bd3-ac89-f00441965348",
   "metadata": {},
   "source": [
    "Now write a more general function called ``parallelogram`` that draws a quadrilateral with parallel sides. Then rewrite ``rectangle`` and ``rhombus`` to use ``parallelogram``."
   ]
  },
  {
   "cell_type": "markdown",
   "id": "884434d8-4b72-4ace-808a-158d97c50dd4",
   "metadata": {},
   "source": [
    "### Answer"
   ]
  },
  {
   "cell_type": "markdown",
   "id": "06b316e9-a5ef-4502-a4b0-e86090533fd3",
   "metadata": {},
   "source": [
    "We first define the function ``parallelogram``. From the previous examples, we know that we need two parameters for the side lengths, ``side0`` and ``side1``, as well as one parameter for the interior angle, ``angle``."
   ]
  },
  {
   "cell_type": "code",
   "execution_count": 31,
   "id": "5d12069f-02b5-474d-a12c-c410ecf0c1a9",
   "metadata": {},
   "outputs": [],
   "source": [
    "def parallelogram(side0, side1, angle):\n",
    "    \"\"\"\n",
    "    Parallelogram function: Draw a parallelogram with the given side lengths and interior angle.\n",
    "    \n",
    "    Input:\n",
    "    side0 and side1: int or float, two side lengths of the parallelogram. These two side lengths can be the same or different.\n",
    "    angle: Inner angle of the parallelogram in degrees.\n",
    "    \n",
    "    Output:\n",
    "    Draw a parallelogram with the two side lengths as side0 and side1, as well as the interior angle as angle.\n",
    "    \"\"\"\n",
    "    # Define a list of the four sides.\n",
    "    sides = 2 * [side0, side1]\n",
    "    # Define a list of the four angles. Note that the two different angles should be angle and 180 - angle, in order to have parallel sides.\n",
    "    angles = 2 * [angle, 180 - angle]\n",
    "    # Draw the parallelogram.\n",
    "    for i in range(4):\n",
    "        forward(sides[i])\n",
    "        left(angles[i])"
   ]
  },
  {
   "cell_type": "markdown",
   "id": "22b39848-a250-4227-83ff-4ba06c495438",
   "metadata": {},
   "source": [
    "Let us test if the function draws a parallelogram. Here we choose ``side0`` and ``side1`` as ``80`` and ``40``, respectively, while ``angle`` is chosen as ``60``."
   ]
  },
  {
   "cell_type": "code",
   "execution_count": 32,
   "id": "ab3923f5-4336-4ea6-97e2-db2e4bde85b0",
   "metadata": {},
   "outputs": [
    {
     "data": {
      "text/html": [
       "<svg width=\"300\" height=\"150\" style=\"fill:none; stroke-linecap:round;\">\n",
       "    <rect width=\"100%\" height=\"100%\" fill=\"#F3F3F7\" />\n",
       "\n",
       "\n",
       "<path stroke=\"#663399\" stroke-width=\"2\" d=\"M 150,75 230,75 250,40.4 170,40.4 150,75\" />'\n",
       "\n",
       "<g transform=\"rotate(-90.0,150.0,75.0) translate(150.0, 75.0)\">\n",
       "    <circle stroke=\"#63A375\" stroke-width=\"2\" fill=\"transparent\" r=\"5.5\" cx=\"0\" cy=\"0\"/>\n",
       "    <polygon points=\"0,12 2,9 -2,9\" style=\"fill:#63A375;stroke:#63A375;stroke-width:2\"/>\n",
       "</g>\n",
       "\n",
       "</svg>"
      ],
      "text/plain": [
       "<IPython.core.display.HTML object>"
      ]
     },
     "metadata": {},
     "output_type": "display_data"
    }
   ],
   "source": [
    "make_turtle(delay=0)\n",
    "parallelogram(80, 40, 60)"
   ]
  },
  {
   "cell_type": "markdown",
   "id": "60b413e0-8db6-481f-9b6f-e713d71800f5",
   "metadata": {},
   "source": [
    "The function indeed draws a parallelogram!"
   ]
  },
  {
   "cell_type": "markdown",
   "id": "0da35711-a461-4a0b-af68-3e5a8dc29ade",
   "metadata": {},
   "source": [
    "Now we can refactor the functions ``rectangle`` and ``rhombus`` with the function ``parallelogram``."
   ]
  },
  {
   "cell_type": "code",
   "execution_count": 33,
   "id": "b75e2516-69c8-44cc-82b4-3c7ddefc69ad",
   "metadata": {},
   "outputs": [],
   "source": [
    "def rectangle(width, height):\n",
    "    \"\"\"\n",
    "    Rectangle function: Draw a rectangle with the given width and height.\n",
    "    \n",
    "    Input:\n",
    "    width: int or float, width of the rectangle.\n",
    "    height: int or float, height of the rectangle.\n",
    "    \n",
    "    Output:\n",
    "    Draw a rectangle with the width as width and the height as height.\n",
    "    \"\"\"\n",
    "    # A rectangle is a parallelogram with interior angle as 90.\n",
    "    return parallelogram(width, height, 90)\n",
    "\n",
    "def rhombus(side, angle):\n",
    "    \"\"\"\n",
    "    Rhombus function: Draw a rhombus with a given side length and interior angle.\n",
    "    \n",
    "    Input:\n",
    "    side: int or float, side length of the rhombus.\n",
    "    angle: int or float, interior angle of the rhombus in degrees.\n",
    "    \n",
    "    Output:\n",
    "    Draw a rhombus with the side length as side and the interior angle as angle.\n",
    "    \"\"\"\n",
    "    # A rhomnus is a parallelogram with the same lengths for all sides.\n",
    "    return parallelogram(side, side, angle)"
   ]
  },
  {
   "cell_type": "markdown",
   "id": "0dc17622-3c97-491d-a63c-77d750fc39ed",
   "metadata": {},
   "source": [
    "Let us test if these function draw the rectangle and rhombus as in the previous cases."
   ]
  },
  {
   "cell_type": "code",
   "execution_count": 34,
   "id": "e3a10de5-f87e-4eea-8e95-ece4ba4d4528",
   "metadata": {},
   "outputs": [
    {
     "data": {
      "text/html": [
       "<svg width=\"300\" height=\"150\" style=\"fill:none; stroke-linecap:round;\">\n",
       "    <rect width=\"100%\" height=\"100%\" fill=\"#F3F3F7\" />\n",
       "\n",
       "\n",
       "<path stroke=\"#663399\" stroke-width=\"2\" d=\"M 150,75\" />'\n",
       "\n",
       "<path stroke=\"#663399\" stroke-width=\"2\" d=\"M 30,75 90,75 90,45 30,45 30,75\" />'\n",
       "\n",
       "<path stroke=\"#663399\" stroke-width=\"2\" d=\"M 120,75 154.6,75 172,45 137.3,45 120,75\" />'\n",
       "\n",
       "<path stroke=\"#663399\" stroke-width=\"2\" d=\"M 184.6,75 244.6,75 262,45 202,45 184.6,75\" />'\n",
       "\n",
       "<g transform=\"rotate(-90.0,184.6,75.0) translate(184.6, 75.0)\">\n",
       "    <circle stroke=\"#63A375\" stroke-width=\"2\" fill=\"transparent\" r=\"5.5\" cx=\"0\" cy=\"0\"/>\n",
       "    <polygon points=\"0,12 2,9 -2,9\" style=\"fill:#63A375;stroke:#63A375;stroke-width:2\"/>\n",
       "</g>\n",
       "\n",
       "</svg>"
      ],
      "text/plain": [
       "<IPython.core.display.HTML object>"
      ]
     },
     "metadata": {},
     "output_type": "display_data"
    }
   ],
   "source": [
    "import math\n",
    "\n",
    "\n",
    "make_turtle(delay=0)\n",
    "# Shift to the left for a bit.\n",
    "jump(-120)\n",
    "# First, draw a rectangle.\n",
    "rectangle(60, 30)\n",
    "# Shift to the right for a bit.\n",
    "jump(60 + 30)\n",
    "# Second, draw a rhombus. The side length is chosen so that the height is the same as the rectangle.\n",
    "rhombus(30 * (1 / math.sin(math.pi/3)), 60)\n",
    "# Shift to the right for a bit.\n",
    "jump(30 * (1 / math.sin(math.pi/3)) + 30)\n",
    "# Third, draw a parallelogram. The non-horizontal side length is chosen so that the height is the same as the rectangle.\n",
    "parallelogram(60, 30 * (1 / math.sin(math.pi/3)), 60)"
   ]
  },
  {
   "cell_type": "markdown",
   "id": "74f7e499-84ef-4b5e-b622-1d40748372a1",
   "metadata": {},
   "source": [
    "The function indeed draws a rectangle, a rhombus, and a parallelogram!"
   ]
  },
  {
   "cell_type": "markdown",
   "id": "3652852a-ed20-41b2-8e91-58b0869e9b62",
   "metadata": {},
   "source": [
    "## 4.11.4. Exercise"
   ]
  },
  {
   "cell_type": "markdown",
   "id": "82ae4224-8ec3-4845-9972-1d7bb415c13d",
   "metadata": {},
   "source": [
    "### Question"
   ]
  },
  {
   "cell_type": "markdown",
   "id": "6e3d80e8-c16e-4d69-b544-6eb43dc42491",
   "metadata": {},
   "source": [
    "Write an appropriately general set of functions that can draw shapes like this."
   ]
  },
  {
   "cell_type": "markdown",
   "id": "d380cfd3-2b2a-48da-a515-33f1f5855f23",
   "metadata": {},
   "source": [
    "<div>\n",
    "    <img src=\"figures/jupyturtle_pie.png\" alt=\"pie\" width=\"300\">\n",
    "</div>"
   ]
  },
  {
   "cell_type": "markdown",
   "id": "c301f4f7-0d7e-4369-954a-73b796bb3cdd",
   "metadata": {},
   "source": [
    "Hint: Write a function called ``triangle`` that draws one triangular segment, and then a function called ``draw_pie`` that uses ``triangle``."
   ]
  },
  {
   "cell_type": "markdown",
   "id": "b36a099d-9f72-463e-bc50-f58860d0892e",
   "metadata": {},
   "source": [
    "### Answer"
   ]
  },
  {
   "cell_type": "markdown",
   "id": "b82a437c-a36e-457f-aba7-46dab35a0cf8",
   "metadata": {},
   "source": [
    "We first define a function ``triangle`` for the triangles. Note that the triangles we need are isosceles, so we only need to define two parameters. One is the length of the two sides as ``side``, and the other is the top interior angle as ``angle``."
   ]
  },
  {
   "cell_type": "code",
   "execution_count": 35,
   "id": "b6cc1be4-8a9e-449a-aac4-51b649e33d6c",
   "metadata": {},
   "outputs": [],
   "source": [
    "import math\n",
    "\n",
    "\n",
    "def triangle(side, angle):\n",
    "    \"\"\"\n",
    "    Triangle function: Draw an isosceles triangle with the given side length and top interior angle.\n",
    "    \n",
    "    Input:\n",
    "    side: int or float, side length of the triangle.\n",
    "    angle: int or float, top interior angle of the triangle in degrees.\n",
    "    \n",
    "    Output:\n",
    "    Draw a triangle with the side length as side and the top interior angle as angle.\n",
    "    \"\"\"\n",
    "    # Define a list of the sides, including two side and one 2 * (side * sin(angle / 2)).\n",
    "    sides = [side, 2 * side * math.sin(2 * math.pi * (angle / 360) / 2), side]\n",
    "    # Define a list of the three angles, including one 180 - angle and two 180 - (180 - angle) / 2 = 90 + angle / 2.\n",
    "    angles = 2 * [90 + angle / 2] + [180 - angle]\n",
    "    # Before we begin drawing, turn the turtle direction to align the triangle horizontally.\n",
    "    right(angle / 2)\n",
    "    # Draw the triangle.\n",
    "    for i in range(3):\n",
    "        forward(sides[i])\n",
    "        left(angles[i])\n",
    "    # Turn the turtle direction back to the horizon.\n",
    "    left(angle / 2)"
   ]
  },
  {
   "cell_type": "markdown",
   "id": "c078e838-edd8-4993-9729-56800032ff41",
   "metadata": {},
   "source": [
    "Let us test if the function draws an isosceles triangle. Here we choose ``side`` as ``50`` and ``angle`` as ``30``."
   ]
  },
  {
   "cell_type": "code",
   "execution_count": 36,
   "id": "41fe731e-3a44-4d67-b5b2-d618c041efa0",
   "metadata": {},
   "outputs": [
    {
     "data": {
      "text/html": [
       "<svg width=\"300\" height=\"150\" style=\"fill:none; stroke-linecap:round;\">\n",
       "    <rect width=\"100%\" height=\"100%\" fill=\"#F3F3F7\" />\n",
       "\n",
       "\n",
       "<path stroke=\"#663399\" stroke-width=\"2\" d=\"M 150,75 198.3,87.9 198.3,62.1 150,75\" />'\n",
       "\n",
       "<g transform=\"rotate(-90.0,150.0,75.0) translate(150.0, 75.0)\">\n",
       "    <circle stroke=\"#63A375\" stroke-width=\"2\" fill=\"transparent\" r=\"5.5\" cx=\"0\" cy=\"0\"/>\n",
       "    <polygon points=\"0,12 2,9 -2,9\" style=\"fill:#63A375;stroke:#63A375;stroke-width:2\"/>\n",
       "</g>\n",
       "\n",
       "</svg>"
      ],
      "text/plain": [
       "<IPython.core.display.HTML object>"
      ]
     },
     "metadata": {},
     "output_type": "display_data"
    }
   ],
   "source": [
    "make_turtle(delay=0)\n",
    "triangle(50, 30)"
   ]
  },
  {
   "cell_type": "markdown",
   "id": "5c9704ea-c487-426d-88e2-1bed220a0ad3",
   "metadata": {},
   "source": [
    "The function indeed draws an isosceles triangle!"
   ]
  },
  {
   "cell_type": "markdown",
   "id": "b4fa1e8e-5faf-4f25-91a5-310d99e469e7",
   "metadata": {},
   "source": [
    "Now we can define the function ``draw_pie`` with the function ``triangle``. In each pie, we have a parameter ``n`` which defines the number of composing triangles with top interior angle ``360 / n``. The other parameter is the radius of the pie as ``radius``."
   ]
  },
  {
   "cell_type": "code",
   "execution_count": 37,
   "id": "96005f90-6a3d-49c9-b78f-43dd4208c721",
   "metadata": {},
   "outputs": [],
   "source": [
    "def draw_pie(n, radius):\n",
    "    \"\"\"\n",
    "    Pie function: Draw a pie with a given number of composing triangles and radius.\n",
    "    \n",
    "    Input:\n",
    "    n: int, the number of composing triangles in the pie.\n",
    "    radius: int or float, the radius of the pie, which is the same as the side length of the composing triangles.\n",
    "    \n",
    "    Output:\n",
    "    Draw a pie from a number n of triangles with the radius as radius.\n",
    "    \"\"\"\n",
    "    # Compute the top interior angle for the triangles.\n",
    "    angle = 360 / n\n",
    "    # Draw the triangles.\n",
    "    for i in range(n):\n",
    "        # Draw the triangle.\n",
    "        triangle(radius, angle)\n",
    "        # Turn the direction of the turtle for the next triangle.\n",
    "        left(angle)"
   ]
  },
  {
   "cell_type": "markdown",
   "id": "e37ae2f6-e564-4ad8-907e-f355c8623a1f",
   "metadata": {},
   "source": [
    "Let us test if the function draws the pies. Here we choose ``radius`` as ``40`` and draw the pies composed of ``5``, ``6``, and ``7`` triangles."
   ]
  },
  {
   "cell_type": "code",
   "execution_count": 38,
   "id": "b24ba430-6336-4894-9788-77f1bf7b57fb",
   "metadata": {},
   "outputs": [
    {
     "data": {
      "text/html": [
       "<svg width=\"300\" height=\"150\" style=\"fill:none; stroke-linecap:round;\">\n",
       "    <rect width=\"100%\" height=\"100%\" fill=\"#F3F3F7\" />\n",
       "\n",
       "\n",
       "<path stroke=\"#663399\" stroke-width=\"2\" d=\"M 150,75\" />'\n",
       "\n",
       "<path stroke=\"#663399\" stroke-width=\"2\" d=\"M 50,75 82.4,98.5 82.4,51.5 50,75 82.4,51.5 37.6,37 50,75 37.6,37 10,75 50,75 10,75 37.6,113 50,75 37.6,113 82.4,98.5 50,75\" />'\n",
       "\n",
       "<path stroke=\"#663399\" stroke-width=\"2\" d=\"M 150,75 184.6,95 184.6,55 150,75 184.6,55 150,35 150,75 150,35 115.4,55 150,75 115.4,55 115.4,95 150,75 115.4,95 150,115 150,75 150,115 184.6,95 150,75\" />'\n",
       "\n",
       "<path stroke=\"#663399\" stroke-width=\"2\" d=\"M 250,75 286,92.4 286,57.6 250,75 286,57.6 258.9,36 250,75 258.9,36 225.1,43.7 250,75 225.1,43.7 210,75 250,75 210,75 225.1,106.3 250,75 225.1,106.3 258.9,114 250,75 258.9,114 286,92.4 250,75\" />'\n",
       "\n",
       "<g transform=\"rotate(270.0,250.0,75.0) translate(250.0, 75.0)\">\n",
       "    <circle stroke=\"#63A375\" stroke-width=\"2\" fill=\"transparent\" r=\"5.5\" cx=\"0\" cy=\"0\"/>\n",
       "    <polygon points=\"0,12 2,9 -2,9\" style=\"fill:#63A375;stroke:#63A375;stroke-width:2\"/>\n",
       "</g>\n",
       "\n",
       "</svg>"
      ],
      "text/plain": [
       "<IPython.core.display.HTML object>"
      ]
     },
     "metadata": {},
     "output_type": "display_data"
    }
   ],
   "source": [
    "make_turtle(delay=0)\n",
    "# Shift to the left a bit.\n",
    "jump(-100)\n",
    "# Pie with 5 triangles.\n",
    "draw_pie(5, 40)\n",
    "# Shift to the right a bit.\n",
    "jump(100)\n",
    "# Pie with 6 triangles.\n",
    "draw_pie(6, 40)\n",
    "# Shift to the right a bit.\n",
    "jump(100)\n",
    "# Pie with 7 triangles.\n",
    "draw_pie(7, 40)"
   ]
  },
  {
   "cell_type": "markdown",
   "id": "c5389f30-8cc6-492f-bf1e-ec1b67b29fa7",
   "metadata": {},
   "source": [
    "The function indeed draws the desired pies!"
   ]
  },
  {
   "cell_type": "markdown",
   "id": "3082c15c-e658-4a9e-b484-b25d166fbc4f",
   "metadata": {},
   "source": [
    "## 4.11.5. Exercise"
   ]
  },
  {
   "cell_type": "markdown",
   "id": "626d6cbf-6890-4003-a1f0-1c20ef9e5ce0",
   "metadata": {},
   "source": [
    "### Question"
   ]
  },
  {
   "cell_type": "markdown",
   "id": "4368880e-14be-43fa-8999-a456b2da760d",
   "metadata": {},
   "source": [
    "Write an appropriately general set of functions that can draw flowers like this."
   ]
  },
  {
   "cell_type": "markdown",
   "id": "a9dfe296-6afd-41c9-8c48-cd9fa0c9dd0c",
   "metadata": {},
   "source": [
    "<div>\n",
    "    <img src=\"figures/jupyturtle_flower.png\" alt=\"flower\" width=\"300\">\n",
    "</div>"
   ]
  },
  {
   "cell_type": "markdown",
   "id": "12ff3125-c4a0-472b-814f-83958d8d5d29",
   "metadata": {},
   "source": [
    "Hint: Use ``arc`` to write a function called ``petal`` that draws one flower petal."
   ]
  },
  {
   "cell_type": "markdown",
   "id": "f8494323-306b-493b-b4d1-c8ea8bdb61bd",
   "metadata": {},
   "source": [
    "### Answer"
   ]
  },
  {
   "cell_type": "markdown",
   "id": "b585c009-6cc7-4fd8-b7f7-b867f00f8b96",
   "metadata": {},
   "source": [
    "We first observe that a flower is composed of ``n`` petals, each of which is composed of two arcs. So our development plan can be listed as follows:\n",
    "1. Define a ``polyline`` function that draws a set of connected line segments.\n",
    "2. Define an ``arc`` function from ``polyline`` that draws an arc.\n",
    "3. Define a ``petal`` function from ``arc`` that draws a petal from two arcs.\n",
    "4. Define a ``flower`` function from ``petal`` that draws a flower from ``n`` petals."
   ]
  },
  {
   "cell_type": "markdown",
   "id": "9b388793-f2f0-4e6f-9338-00398daa2c2c",
   "metadata": {},
   "source": [
    "We first define a ``polyline`` and an ``arc`` function similar to the textbook. A polyline is defined by three parameters, including the number of line segments ``n``, the length of each line segment ``length``, and the angle between each pair of line segments ``angle``. Meanwhile, an arc is defined by two parameters, which are the radius of its mother circle, ``radius``, and the angle it spans, ``angle``."
   ]
  },
  {
   "cell_type": "code",
   "execution_count": 39,
   "id": "740bc2a4-640c-4d43-a7de-d3fc4eba9797",
   "metadata": {},
   "outputs": [],
   "source": [
    "import math\n",
    "\n",
    "\n",
    "def polyline(n, length, angle):\n",
    "    \"\"\"\n",
    "    Polyline function: Draw a polyline with the given number, length, and in-between angle of line segments.\n",
    "    \n",
    "    Input:\n",
    "    n: int, the number of line segments.\n",
    "    length: int or float, the length of each line segment.\n",
    "    angle: int or float, the angle in degrees between each pair of line segments.\n",
    "    \n",
    "    Output:\n",
    "    Draw a polyline with the given number, length, and in-between angle of line segments.\n",
    "    \"\"\"\n",
    "    # Draw the line segments iteratively.\n",
    "    for i in range(n):\n",
    "        forward(length)\n",
    "        left(angle)\n",
    "\n",
    "\n",
    "def arc(radius, angle):\n",
    "    \"\"\"\n",
    "    Arc function: Draw an arc with the given radius and angle.\n",
    "    \n",
    "    Input:\n",
    "    radius: int or float, radius of the mother circle of the arc.\n",
    "    angle: int or float, the angle in degrees that the arc spans.\n",
    "    \n",
    "    Output:\n",
    "    Draw an arc with the radius as radius and the angle as angle.\n",
    "    \"\"\"\n",
    "    # Define the number of discretized line segments for the arc.\n",
    "    n = 30\n",
    "    # Compute the angle which the turtle turns between each pair of line segments.\n",
    "    angle_step = angle / n\n",
    "    # Compute the length of each line segment.\n",
    "    length = 2 * math.pi * radius / n\n",
    "    # Draw the arc as a polyline.\n",
    "    polyline(n, length, angle_step)"
   ]
  },
  {
   "cell_type": "markdown",
   "id": "5c611b62-e6fa-4854-ae1c-701a1d794e5c",
   "metadata": {},
   "source": [
    "Let us test if the function draws an arc. Here we choose ``radius`` as ``20`` and ``angle`` as ``60``."
   ]
  },
  {
   "cell_type": "code",
   "execution_count": 40,
   "id": "13f39856-105d-44dd-9758-5b6dd355a050",
   "metadata": {},
   "outputs": [
    {
     "data": {
      "text/html": [
       "<svg width=\"300\" height=\"150\" style=\"fill:none; stroke-linecap:round;\">\n",
       "    <rect width=\"100%\" height=\"100%\" fill=\"#F3F3F7\" />\n",
       "\n",
       "\n",
       "<path stroke=\"#663399\" stroke-width=\"2\" d=\"M 150,75 154.2,75 158.4,74.9 162.6,74.6 166.7,74.1 170.9,73.5 175,72.8 179.1,71.9 183.2,70.9 187.2,69.8 191.2,68.5 195.1,67 199,65.5 202.8,63.8 206.6,61.9 210.3,60 213.9,57.9 217.5,55.7 220.9,53.3 224.3,50.9 227.6,48.3 230.8,45.6 233.9,42.8 237,39.9 239.9,36.9 242.7,33.7 245.4,30.5 247.9,27.2 250.4,23.8 252.7,20.4 255,16.8\" />'\n",
       "\n",
       "<g transform=\"rotate(210.0,255.0,16.8) translate(255.0, 16.8)\">\n",
       "    <circle stroke=\"#63A375\" stroke-width=\"2\" fill=\"transparent\" r=\"5.5\" cx=\"0\" cy=\"0\"/>\n",
       "    <polygon points=\"0,12 2,9 -2,9\" style=\"fill:#63A375;stroke:#63A375;stroke-width:2\"/>\n",
       "</g>\n",
       "\n",
       "</svg>"
      ],
      "text/plain": [
       "<IPython.core.display.HTML object>"
      ]
     },
     "metadata": {},
     "output_type": "display_data"
    }
   ],
   "source": [
    "make_turtle(delay=0)\n",
    "arc(20, 60)"
   ]
  },
  {
   "cell_type": "markdown",
   "id": "3502e5d8-4c94-46a6-b11b-f4dc4a9e5feb",
   "metadata": {},
   "source": [
    "The function indeed draws an arc!"
   ]
  },
  {
   "cell_type": "markdown",
   "id": "b4f98e08-7e21-484e-9948-835aff422f45",
   "metadata": {},
   "source": [
    "Having defined the ``arc`` function, we next use it to define the ``petal`` function. This function needs the same two parameters, ``radius`` and ``angle``, as the ``arc`` function."
   ]
  },
  {
   "cell_type": "code",
   "execution_count": 41,
   "id": "464915e7-0b01-4839-a20d-20fa62387d9b",
   "metadata": {},
   "outputs": [],
   "source": [
    "def petal(radius, angle):\n",
    "    \"\"\"\n",
    "    Petal function: Draw a petal from two arcs with the given radius and angle.\n",
    "    \n",
    "    Input:\n",
    "    radius: int or float, radius of the mother circle of the arc.\n",
    "    angle: int or float, the angle in degrees that the arc spans.\n",
    "    \n",
    "    Output:\n",
    "    Draw a petal from two arcs with the given radius and angle.\n",
    "    \"\"\"\n",
    "    # Before start drawing, we turn the turtle direction so that the petal is aligned horizontally. This angle is 90 - bottom angle of the triangle.\n",
    "    angle_0 = 90 - (180 - angle) / 2\n",
    "    right(angle_0)\n",
    "    # Draw the lower part of the petal.\n",
    "    arc(radius, angle)\n",
    "    # Turn the direction of the turtle before drawing the upper part of the petal. This angle is 180 - 2 * the initial turning angle.\n",
    "    left(180 - 2 * angle_0)\n",
    "    # Draw the upper part of the petal.\n",
    "    arc(radius, angle)\n",
    "    # Turn the angle of the turtle back to the horizon.\n",
    "    left(180 - angle_0)"
   ]
  },
  {
   "cell_type": "markdown",
   "id": "53086348-bd1b-480b-9138-2bb9dbb06171",
   "metadata": {},
   "source": [
    "Let us test if the function draws a petal. Here we choose ``side`` as ``20`` and ``angle`` as ``60``."
   ]
  },
  {
   "cell_type": "code",
   "execution_count": 42,
   "id": "0d969682-f8ec-4358-afbb-32843507d0af",
   "metadata": {},
   "outputs": [
    {
     "data": {
      "text/html": [
       "<svg width=\"300\" height=\"150\" style=\"fill:none; stroke-linecap:round;\">\n",
       "    <rect width=\"100%\" height=\"100%\" fill=\"#F3F3F7\" />\n",
       "\n",
       "\n",
       "<path stroke=\"#663399\" stroke-width=\"2\" d=\"M 150,75\" />'\n",
       "\n",
       "<path stroke=\"#663399\" stroke-width=\"2\" d=\"M 100,75 103.6,77.1 107.3,79.1 111.1,80.9 114.9,82.6 118.8,84.2 122.7,85.6 126.7,86.9 130.7,88.1 134.8,89.1 138.9,89.9 143,90.7 147.2,91.2 151.3,91.7 155.5,92 159.7,92.1 163.9,92.1 168.1,92 172.3,91.7 176.4,91.2 180.6,90.7 184.7,89.9 188.8,89.1 192.9,88.1 196.9,86.9 200.9,85.6 204.8,84.2 208.7,82.6 212.5,80.9 216.3,79.1 220,77.1 216.4,75 212.7,73 208.9,71.2 205.1,69.5 201.2,67.9 197.3,66.5 193.3,65.2 189.2,64 185.2,63 181.1,62.2 177,61.4 172.8,60.8 168.6,60.4 164.5,60.1 160.3,60 156.1,60 151.9,60.1 147.7,60.4 143.6,60.8 139.4,61.4 135.3,62.2 131.2,63 127.1,64 123.1,65.2 119.1,66.5 115.2,67.9 111.3,69.5 107.5,71.2 103.7,73 100,75\" />'\n",
       "\n",
       "<g transform=\"rotate(-90.0,100.0,75.0) translate(100.0, 75.0)\">\n",
       "    <circle stroke=\"#63A375\" stroke-width=\"2\" fill=\"transparent\" r=\"5.5\" cx=\"0\" cy=\"0\"/>\n",
       "    <polygon points=\"0,12 2,9 -2,9\" style=\"fill:#63A375;stroke:#63A375;stroke-width:2\"/>\n",
       "</g>\n",
       "\n",
       "</svg>"
      ],
      "text/plain": [
       "<IPython.core.display.HTML object>"
      ]
     },
     "metadata": {},
     "output_type": "display_data"
    }
   ],
   "source": [
    "make_turtle(delay=0)\n",
    "jump(-50)\n",
    "petal(20, 60)"
   ]
  },
  {
   "cell_type": "markdown",
   "id": "79105a63-3c6b-47c1-9df0-8068bbf8888d",
   "metadata": {},
   "source": [
    "The function indeed draws a petal!"
   ]
  },
  {
   "cell_type": "markdown",
   "id": "9e5fea53-e073-48bd-8809-a6628b117810",
   "metadata": {},
   "source": [
    "Now we can define the function ``flower`` with the function ``petal``. In each flower, we have a parameter ``n`` which defines the number of the petals. Each petal is further defined by the two parameters ``radius`` and ``angle``. So the ``flower`` function needs three parameters."
   ]
  },
  {
   "cell_type": "code",
   "execution_count": 43,
   "id": "5706afd4-23da-4977-9d9d-66a0424f8224",
   "metadata": {},
   "outputs": [],
   "source": [
    "def flower(n, radius, angle):\n",
    "    \"\"\"\n",
    "    Flower function: Draw a flower with a given number of petals with given radius and angle.\n",
    "    \n",
    "    Input:\n",
    "    n: int, the number of petals.\n",
    "    radius: int or float, the radius length of the arcs forming the petals.\n",
    "    angle: int of float, the angle in degrees that the arcs span in the petals.\n",
    "    \n",
    "    Output:\n",
    "    Draw a flower from a number n of petals with the arc radius as radius and the angle as angle.\n",
    "    \"\"\"\n",
    "    # Compute the angle between each pair of petals.\n",
    "    angle_petal = 360 / n\n",
    "    # Draw the petals.\n",
    "    for i in range(n):\n",
    "        # Draw the petal.\n",
    "        petal(radius, angle)\n",
    "        # Turn the turtle direction for the next petal.\n",
    "        left(angle_petal)"
   ]
  },
  {
   "cell_type": "markdown",
   "id": "2f59cd9a-667f-497b-a985-3785422c09b4",
   "metadata": {},
   "source": [
    "Let us test if the function draws the flowers. Here we draw two flowers with ``7`` and ``9`` petals, respectively. The ``radius`` is chosen as ``10`` and ``angle`` is set as ``75``."
   ]
  },
  {
   "cell_type": "code",
   "execution_count": 44,
   "id": "34686af4-8bfc-44a7-8789-ef52aebf2f5e",
   "metadata": {},
   "outputs": [
    {
     "data": {
      "text/html": [
       "<svg width=\"300\" height=\"150\" style=\"fill:none; stroke-linecap:round;\">\n",
       "    <rect width=\"100%\" height=\"100%\" fill=\"#F3F3F7\" />\n",
       "\n",
       "\n",
       "<path stroke=\"#663399\" stroke-width=\"2\" d=\"M 150,75\" />'\n",
       "\n",
       "<path stroke=\"#663399\" stroke-width=\"2\" d=\"M 70,75 71.7,76.3 73.4,77.5 75.1,78.6 77,79.6 78.8,80.6 80.7,81.5 82.6,82.3 84.6,83 86.6,83.6 88.6,84.2 90.7,84.6 92.7,85 94.8,85.3 96.9,85.5 99,85.6 101.1,85.6 103.2,85.5 105.3,85.3 107.3,85 109.4,84.6 111.5,84.2 113.5,83.6 115.5,83 117.4,82.3 119.4,81.5 121.3,80.6 123.1,79.6 124.9,78.6 126.7,77.5 128.4,76.3 126.8,75 125.1,73.8 123.3,72.7 121.5,71.6 119.6,70.7 117.7,69.8 115.8,69 113.8,68.3 111.8,67.6 109.8,67.1 107.8,66.6 105.7,66.3 103.6,66 101.5,65.8 99.4,65.7 97.3,65.7 95.2,65.8 93.2,66 91.1,66.3 89,66.6 87,67.1 85,67.6 83,68.3 81,69 79.1,69.8 77.2,70.7 75.3,71.6 73.5,72.7 71.7,73.8 70,75 72,74.5 74,73.9 76,73.2 78,72.5 79.9,71.6 81.8,70.7 83.6,69.7 85.4,68.6 87.1,67.4 88.8,66.2 90.4,64.8 92,63.5 93.5,62 95,60.5 96.3,58.9 97.6,57.3 98.9,55.6 100,53.8 101.1,52 102.1,50.2 103,48.3 103.9,46.4 104.6,44.4 105.3,42.5 105.9,40.4 106.4,38.4 106.8,36.4 107.1,34.3 107.3,32.2 107.4,30.1 105.4,30.6 103.4,31.2 101.4,31.9 99.5,32.7 97.5,33.5 95.7,34.4 93.8,35.4 92,36.5 90.3,37.7 88.6,39 87,40.3 85.4,41.7 83.9,43.1 82.5,44.6 81.1,46.2 79.8,47.8 78.6,49.5 77.4,51.3 76.3,53.1 75.3,54.9 74.4,56.8 73.6,58.7 72.8,60.7 72.1,62.7 71.6,64.7 71.1,66.7 70.7,68.8 70.4,70.8 70.1,72.9 70,75 70.9,73.1 71.7,71.2 72.4,69.2 73,67.2 73.5,65.2 74,63.1 74.3,61 74.6,59 74.7,56.9 74.8,54.8 74.8,52.7 74.7,50.6 74.5,48.5 74.2,46.4 73.8,44.4 73.4,42.3 72.8,40.3 72.2,38.3 71.4,36.4 70.6,34.4 69.7,32.5 68.8,30.7 67.7,28.9 66.6,27.1 65.3,25.4 64.1,23.8 62.7,22.2 61.3,20.6 59.8,19.2 58.2,17.7 57.4,19.7 56.6,21.6 55.9,23.6 55.3,25.6 54.7,27.6 54.3,29.6 53.9,31.7 53.7,33.8 53.5,35.9 53.4,38 53.4,40.1 53.5,42.2 53.7,44.2 54,46.3 54.4,48.4 54.9,50.4 55.4,52.4 56.1,54.4 56.8,56.4 57.6,58.3 58.5,60.2 59.5,62.1 60.5,63.9 61.7,65.6 62.9,67.3 64.2,69 65.5,70.6 67,72.1 68.4,73.6 70,75 69.1,73.1 68,71.3 66.9,69.5 65.7,67.8 64.5,66.1 63.2,64.5 61.8,62.9 60.3,61.4 58.8,60 57.2,58.6 55.6,57.3 53.9,56.1 52.1,55 50.3,53.9 48.5,52.9 46.6,52 44.6,51.2 42.7,50.4 40.7,49.8 38.7,49.2 36.6,48.7 34.6,48.3 32.5,48 30.4,47.8 28.3,47.7 26.2,47.7 24.1,47.8 22.1,47.9 20,48.2 17.9,48.5 18.9,50.4 19.9,52.2 21,54 22.2,55.7 23.4,57.4 24.7,59 26.1,60.6 27.6,62.1 29.1,63.5 30.7,64.9 32.4,66.2 34.1,67.4 35.8,68.5 37.6,69.6 39.5,70.6 41.3,71.5 43.3,72.3 45.2,73.1 47.2,73.7 49.2,74.3 51.3,74.8 53.3,75.2 55.4,75.5 57.5,75.7 59.6,75.8 61.7,75.8 63.8,75.7 65.9,75.6 67.9,75.3 70,75 67.9,74.6 65.9,74.2 63.8,74 61.7,73.8 59.6,73.8 57.5,73.8 55.4,73.9 53.4,74.1 51.3,74.4 49.2,74.8 47.2,75.3 45.2,75.9 43.2,76.5 41.2,77.2 39.3,78.1 37.4,79 35.6,80 33.8,81 32,82.2 30.3,83.4 28.7,84.7 27.1,86.1 25.5,87.5 24.1,89 22.7,90.6 21.4,92.2 20.1,93.9 18.9,95.6 17.8,97.4 16.8,99.2 18.9,99.6 20.9,100 23,100.2 25.1,100.4 27.2,100.4 29.3,100.4 31.4,100.3 33.4,100.1 35.5,99.8 37.6,99.4 39.6,98.9 41.6,98.4 43.6,97.7 45.6,97 47.5,96.1 49.4,95.2 51.2,94.2 53,93.2 54.8,92 56.5,90.8 58.1,89.5 59.7,88.1 61.3,86.7 62.7,85.2 64.1,83.6 65.4,82 66.7,80.3 67.9,78.6 69,76.8 70,75 68.4,76.3 66.8,77.7 65.3,79.2 63.9,80.7 62.6,82.3 61.3,84 60.1,85.7 58.9,87.5 57.9,89.3 56.9,91.1 56,93 55.2,94.9 54.5,96.9 53.8,98.9 53.3,100.9 52.8,103 52.4,105 52.1,107.1 51.9,109.2 51.8,111.3 51.8,113.4 51.9,115.5 52.1,117.6 52.3,119.6 52.7,121.7 53.1,123.7 53.6,125.8 54.3,127.8 55,129.7 55.8,131.7 57.4,130.3 58.9,128.9 60.4,127.5 61.8,125.9 63.2,124.3 64.5,122.7 65.7,121 66.8,119.2 67.9,117.4 68.9,115.6 69.8,113.7 70.6,111.7 71.3,109.8 71.9,107.8 72.5,105.8 73,103.7 73.3,101.7 73.6,99.6 73.8,97.5 73.9,95.4 73.9,93.3 73.9,91.2 73.7,89.1 73.4,87.1 73.1,85 72.6,82.9 72.1,80.9 71.5,78.9 70.8,76.9 70,75 70,77.1 70.2,79.2 70.4,81.3 70.7,83.3 71.1,85.4 71.6,87.4 72.2,89.4 72.8,91.4 73.6,93.4 74.4,95.3 75.4,97.2 76.4,99 77.4,100.8 78.6,102.6 79.8,104.3 81.1,105.9 82.5,107.5 84,109 85.5,110.4 87,111.8 88.7,113.1 90.3,114.4 92.1,115.6 93.9,116.6 95.7,117.7 97.6,118.6 99.5,119.4 101.4,120.2 103.4,120.9 105.4,121.5 105.4,119.4 105.3,117.3 105,115.2 104.7,113.1 104.3,111.1 103.8,109 103.3,107 102.6,105.1 101.8,103.1 101,101.2 100.1,99.3 99.1,97.5 98,95.7 96.8,93.9 95.6,92.2 94.3,90.6 92.9,89 91.5,87.5 90,86 88.4,84.7 86.8,83.3 85.1,82.1 83.3,80.9 81.6,79.8 79.7,78.8 77.9,77.9 75.9,77 74,76.3 72,75.6 70,75\" />'\n",
       "\n",
       "<path stroke=\"#663399\" stroke-width=\"2\" d=\"M 220,75 221.7,76.3 223.4,77.5 225.1,78.6 227,79.6 228.8,80.6 230.7,81.5 232.6,82.3 234.6,83 236.6,83.6 238.6,84.2 240.7,84.6 242.7,85 244.8,85.3 246.9,85.5 249,85.6 251.1,85.6 253.2,85.5 255.3,85.3 257.3,85 259.4,84.6 261.5,84.2 263.5,83.6 265.5,83 267.4,82.3 269.4,81.5 271.3,80.6 273.1,79.6 274.9,78.6 276.7,77.5 278.4,76.3 276.8,75 275.1,73.8 273.3,72.7 271.5,71.6 269.6,70.7 267.7,69.8 265.8,69 263.8,68.3 261.8,67.6 259.8,67.1 257.8,66.6 255.7,66.3 253.6,66 251.5,65.8 249.4,65.7 247.3,65.7 245.2,65.8 243.2,66 241.1,66.3 239,66.6 237,67.1 235,67.6 233,68.3 231,69 229.1,69.8 227.2,70.7 225.3,71.6 223.5,72.7 221.7,73.8 220,75 222.1,74.9 224.2,74.7 226.3,74.5 228.3,74.1 230.4,73.6 232.4,73.1 234.4,72.5 236.4,71.7 238.3,70.9 240.2,70.1 242,69.1 243.9,68 245.6,66.9 247.3,65.7 249,64.4 250.6,63.1 252.1,61.7 253.6,60.2 255,58.7 256.4,57.1 257.7,55.4 258.9,53.7 260,51.9 261,50.1 262,48.2 262.9,46.3 263.7,44.4 264.4,42.4 265,40.4 265.6,38.4 263.5,38.5 261.4,38.7 259.3,39 257.3,39.3 255.2,39.8 253.2,40.3 251.2,41 249.2,41.7 247.3,42.5 245.4,43.4 243.5,44.3 241.7,45.4 240,46.5 238.2,47.7 236.6,49 235,50.3 233.4,51.7 232,53.2 230.5,54.8 229.2,56.4 227.9,58 226.7,59.7 225.6,61.5 224.5,63.3 223.6,65.2 222.7,67.1 221.9,69 221.2,71 220.5,73 220,75 221.5,73.6 223,72.1 224.4,70.6 225.8,69 227.1,67.3 228.3,65.6 229.4,63.8 230.4,62 231.4,60.1 232.3,58.2 233.1,56.3 233.8,54.3 234.4,52.3 235,50.3 235.4,48.3 235.8,46.2 236.1,44.1 236.2,42 236.3,40 236.3,37.9 236.2,35.8 236.1,33.7 235.8,31.6 235.4,29.5 235,27.5 234.4,25.5 233.8,23.5 233.1,21.5 232.3,19.6 231.4,17.7 229.9,19.1 228.4,20.6 227,22.1 225.6,23.7 224.3,25.4 223.1,27.1 222,28.9 221,30.7 220,32.5 219.1,34.4 218.3,36.4 217.6,38.3 217,40.3 216.4,42.4 216,44.4 215.6,46.5 215.3,48.5 215.2,50.6 215.1,52.7 215.1,54.8 215.2,56.9 215.3,59 215.6,61.1 216,63.1 216.4,65.2 217,67.2 217.6,69.2 218.3,71.2 219.1,73.1 220,75 220.3,72.9 220.5,70.8 220.5,68.7 220.5,66.7 220.5,64.6 220.3,62.5 220,60.4 219.6,58.3 219.2,56.3 218.6,54.3 218,52.3 217.3,50.3 216.5,48.4 215.6,46.5 214.6,44.6 213.6,42.8 212.5,41 211.3,39.3 210,37.7 208.6,36 207.2,34.5 205.8,33 204.2,31.6 202.6,30.3 200.9,29 199.2,27.8 197.5,26.7 195.6,25.6 193.8,24.6 191.9,23.8 191.6,25.8 191.4,27.9 191.3,30 191.3,32.1 191.4,34.2 191.6,36.3 191.9,38.4 192.3,40.4 192.7,42.5 193.2,44.5 193.9,46.5 194.6,48.5 195.4,50.4 196.3,52.3 197.2,54.2 198.3,56 199.4,57.7 200.6,59.4 201.9,61.1 203.2,62.7 204.7,64.3 206.1,65.7 207.7,67.2 209.3,68.5 210.9,69.8 212.7,71 214.4,72.1 216.2,73.1 218.1,74.1 220,75 218.9,73.2 217.7,71.5 216.4,69.9 215.1,68.3 213.6,66.7 212.2,65.2 210.6,63.8 209,62.5 207.3,61.2 205.6,60 203.9,58.9 202.1,57.8 200.2,56.8 198.3,56 196.4,55.2 194.4,54.4 192.4,53.8 190.4,53.3 188.3,52.8 186.3,52.5 184.2,52.2 182.1,52 180,51.9 177.9,51.9 175.8,52 173.7,52.2 171.7,52.5 169.6,52.8 167.6,53.3 165.5,53.8 166.7,55.6 167.9,57.3 169.1,59 170.5,60.6 171.9,62.1 173.4,63.6 174.9,65 176.5,66.4 178.2,67.6 179.9,68.8 181.7,70 183.5,71 185.3,72 187.2,72.9 189.2,73.7 191.1,74.4 193.1,75 195.2,75.5 197.2,76 199.3,76.4 201.3,76.6 203.4,76.8 205.5,76.9 207.6,76.9 209.7,76.8 211.8,76.6 213.9,76.4 215.9,76 218,75.5 220,75 218,74.4 216,73.8 213.9,73.4 211.9,73 209.8,72.7 207.7,72.6 205.6,72.5 203.5,72.5 201.4,72.6 199.3,72.7 197.3,73 195.2,73.4 193.2,73.8 191.1,74.4 189.1,75 187.2,75.7 185.2,76.5 183.3,77.4 181.5,78.4 179.7,79.4 177.9,80.5 176.2,81.7 174.5,83 172.9,84.4 171.4,85.8 169.9,87.3 168.5,88.8 167.1,90.4 165.9,92.1 164.7,93.8 166.7,94.4 168.7,95 170.7,95.4 172.8,95.8 174.9,96 176.9,96.2 179,96.3 181.1,96.3 183.2,96.2 185.3,96 187.4,95.8 189.5,95.4 191.5,95 193.5,94.4 195.5,93.8 197.5,93.1 199.4,92.3 201.3,91.4 203.2,90.4 205,89.4 206.8,88.2 208.5,87 210.1,85.8 211.7,84.4 213.3,83 214.8,81.5 216.2,80 217.5,78.4 218.8,76.7 220,75 218.1,75.8 216.2,76.7 214.3,77.7 212.5,78.7 210.7,79.8 209,81 207.4,82.3 205.7,83.6 204.2,85.1 202.7,86.5 201.3,88.1 200,89.7 198.7,91.4 197.5,93.1 196.4,94.8 195.3,96.7 194.3,98.5 193.5,100.4 192.7,102.3 191.9,104.3 191.3,106.3 190.8,108.3 190.3,110.4 190,112.4 189.7,114.5 189.5,116.6 189.4,118.7 189.4,120.8 189.5,122.9 189.7,125 191.6,124.2 193.5,123.3 195.4,122.3 197.2,121.3 199,120.1 200.7,118.9 202.3,117.7 203.9,116.3 205.5,114.9 207,113.4 208.4,111.9 209.7,110.3 211,108.6 212.2,106.9 213.3,105.1 214.4,103.3 215.3,101.5 216.2,99.6 217,97.6 217.7,95.7 218.4,93.7 218.9,91.6 219.4,89.6 219.7,87.5 220,85.5 220.2,83.4 220.3,81.3 220.3,79.2 220.2,77.1 220,75 219,76.9 218.1,78.8 217.3,80.7 216.6,82.7 216,84.7 215.5,86.7 215,88.7 214.6,90.8 214.4,92.9 214.2,94.9 214.1,97 214.1,99.1 214.2,101.2 214.4,103.3 214.6,105.4 215,107.5 215.5,109.5 216,111.5 216.6,113.5 217.3,115.5 218.1,117.4 219,119.3 220,121.2 221,123 222.2,124.8 223.4,126.5 224.6,128.1 226,129.7 227.4,131.3 228.9,132.8 229.9,130.9 230.7,129 231.5,127.1 232.3,125.1 232.9,123.1 233.4,121.1 233.9,119 234.2,117 234.5,114.9 234.7,112.8 234.8,110.7 234.8,108.6 234.7,106.5 234.5,104.5 234.2,102.4 233.9,100.3 233.4,98.3 232.9,96.2 232.3,94.2 231.5,92.3 230.7,90.3 229.9,88.4 228.9,86.6 227.8,84.8 226.7,83 225.5,81.3 224.2,79.6 222.9,78 221.5,76.5 220,75 220.5,77 221,79.1 221.6,81.1 222.3,83 223.1,85 224,86.9 225,88.7 226,90.5 227.2,92.3 228.4,94 229.6,95.7 231,97.3 232.4,98.8 233.9,100.3 235.4,101.7 237,103.1 238.7,104.3 240.4,105.5 242.2,106.7 244,107.7 245.8,108.7 247.7,109.6 249.7,110.4 251.7,111.1 253.6,111.7 255.7,112.3 257.7,112.7 259.8,113.1 261.9,113.4 263.9,113.5 263.5,111.5 262.9,109.5 262.3,107.5 261.6,105.5 260.8,103.6 259.9,101.7 258.9,99.8 257.9,98 256.8,96.2 255.6,94.5 254.3,92.9 253,91.2 251.5,89.7 250.1,88.2 248.5,86.8 246.9,85.5 245.2,84.2 243.5,83 241.8,81.9 239.9,80.8 238.1,79.8 236.2,79 234.3,78.2 232.3,77.4 230.3,76.8 228.3,76.3 226.2,75.8 224.2,75.5 222.1,75.2 220,75\" />'\n",
       "\n",
       "<g transform=\"rotate(270.0,220.0,75.0) translate(220.0, 75.0)\">\n",
       "    <circle stroke=\"#63A375\" stroke-width=\"2\" fill=\"transparent\" r=\"5.5\" cx=\"0\" cy=\"0\"/>\n",
       "    <polygon points=\"0,12 2,9 -2,9\" style=\"fill:#63A375;stroke:#63A375;stroke-width:2\"/>\n",
       "</g>\n",
       "\n",
       "</svg>"
      ],
      "text/plain": [
       "<IPython.core.display.HTML object>"
      ]
     },
     "metadata": {},
     "output_type": "display_data"
    }
   ],
   "source": [
    "make_turtle(delay=0)\n",
    "# Shift to the left a bit.\n",
    "jump(-80)\n",
    "# Pie with 5 triangles.\n",
    "flower(7, 10, 75)\n",
    "# Shift to the right a bit.\n",
    "jump(150)\n",
    "# Pie with 6 triangles.\n",
    "flower(9, 10, 75)"
   ]
  },
  {
   "cell_type": "markdown",
   "id": "d0905e29-2b02-4a87-a289-c6552e0528f9",
   "metadata": {},
   "source": [
    "The function indeed draws the desired flowers!"
   ]
  },
  {
   "cell_type": "markdown",
   "id": "36d82359-5dc4-4e47-af7b-b208f9c1919b",
   "metadata": {},
   "source": [
    "## 4.11.6. Ask a virtual assistant"
   ]
  },
  {
   "cell_type": "markdown",
   "id": "d0048a70-e080-471c-a69e-18d8da350173",
   "metadata": {},
   "source": [
    "### Question"
   ]
  },
  {
   "cell_type": "markdown",
   "id": "c8ec544e-a3fc-4ad2-ba15-8042c0855ad2",
   "metadata": {},
   "source": [
    "There are several modules like ``jupyturtle`` in Python, and the one we used in this chapter has been customized for this book. So if you ask a virtual assistant for help, it won’t know which module to use. But if you give it a few examples to work with, it can probably figure it out. For example, try this prompt and see if it can write a function that draws a spiral:\n",
    "```\n",
    "The following program uses a turtle graphics module to draw a circle:\n",
    "\n",
    "from jupyturtle import make_turtle, forward, left\n",
    "import math\n",
    "\n",
    "def polygon(n, length):\n",
    "    angle = 360 / n\n",
    "    for i in range(n):\n",
    "        forward(length)\n",
    "        left(angle)\n",
    "        \n",
    "def circle(radius):\n",
    "    circumference = 2 * math.pi * radius\n",
    "    n = 30\n",
    "    length = circumference / n\n",
    "    polygon(n, length)\n",
    "    \n",
    "make_turtle(delay=0)\n",
    "circle(30)\n",
    "\n",
    "Write a function that draws a spiral.\n",
    "```"
   ]
  },
  {
   "cell_type": "markdown",
   "id": "88412fa8-98ad-4069-bba8-27225a3c9e13",
   "metadata": {},
   "source": [
    "Keep in mind that the result might use features we have not seen yet, and it might have errors. Copy the code from the VA and see if you can get it working. If you didn’t get what you wanted, try modifying the prompt."
   ]
  },
  {
   "cell_type": "markdown",
   "id": "90841599-835e-4059-9574-f933051ea76c",
   "metadata": {},
   "source": [
    "### Answer"
   ]
  },
  {
   "cell_type": "markdown",
   "id": "145d4f9b-2de7-43bf-beff-031afc946fe4",
   "metadata": {},
   "source": [
    "ChatGPT gives us the following result:"
   ]
  },
  {
   "cell_type": "code",
   "execution_count": 45,
   "id": "a2a2efc0-8b24-48ab-91bb-aadf85aad2d8",
   "metadata": {},
   "outputs": [
    {
     "data": {
      "text/html": [
       "<svg width=\"300\" height=\"150\" style=\"fill:none; stroke-linecap:round;\">\n",
       "    <rect width=\"100%\" height=\"100%\" fill=\"#F3F3F7\" />\n",
       "\n",
       "\n",
       "<path stroke=\"#663399\" stroke-width=\"2\" d=\"M 150,75 152,75 154.3,74.2 156.4,72.4 158,69.6 158.6,66.1 157.9,62.1 155.7,58.3 152.1,55.2 147.2,53.4 141.6,53.4 135.9,55.5 131,59.6 127.6,65.5 126.4,72.6 127.7,80.1 131.7,87 138.1,92.4 146.4,95.4 155.6,95.4 164.6,92.1 172.3,85.7 177.5,76.7 179.4,66.1 177.4,55 171.6,45 162.4,37.3 150.8,33 138,33 125.6,37.5 115.1,46.3 108.1,58.4 105.6,72.6 108.2,87.2 115.8,100.3 127.8,110.4 142.8,115.8 159.2,115.8 175,110.1 188.2,99 197,83.8 200.1,66.1 196.9,47.9 187.5,31.7 172.8,19.3 154.4,12.6 134.4,12.6 115.2,19.6 99.3,33 88.7,51.3 84.9,72.6\" />'\n",
       "\n",
       "<g transform=\"rotate(-10.0,84.9,72.6) translate(84.9, 72.6)\">\n",
       "    <circle stroke=\"#63A375\" stroke-width=\"2\" fill=\"transparent\" r=\"5.5\" cx=\"0\" cy=\"0\"/>\n",
       "    <polygon points=\"0,12 2,9 -2,9\" style=\"fill:#63A375;stroke:#63A375;stroke-width:2\"/>\n",
       "</g>\n",
       "\n",
       "</svg>"
      ],
      "text/plain": [
       "<IPython.core.display.HTML object>"
      ]
     },
     "metadata": {},
     "output_type": "display_data"
    }
   ],
   "source": [
    "from jupyturtle import make_turtle, forward, left\n",
    "\n",
    "def spiral(initial_length=2, angle=20, growth=0.4, turns=50):\n",
    "    length = initial_length\n",
    "    for _ in range(turns):\n",
    "        forward(length)\n",
    "        left(angle)\n",
    "        length += growth\n",
    "\n",
    "make_turtle(delay=0)\n",
    "spiral()"
   ]
  },
  {
   "cell_type": "markdown",
   "id": "5b0fb837-3aa6-41a8-8350-efd5e2734b76",
   "metadata": {},
   "source": [
    "Indeed it works! Note that the essential point is to increase the length gradually, so that it mimics the increase in the radius of the arc in the spiral."
   ]
  },
  {
   "cell_type": "markdown",
   "id": "fa2930c3-8079-4269-8a07-d72239fe61d6",
   "metadata": {},
   "source": [
    "## This completes the exercises in this Chapter!"
   ]
  }
 ],
 "metadata": {
  "kernelspec": {
   "display_name": "Python 3 (ipykernel)",
   "language": "python",
   "name": "python3"
  },
  "language_info": {
   "codemirror_mode": {
    "name": "ipython",
    "version": 3
   },
   "file_extension": ".py",
   "mimetype": "text/x-python",
   "name": "python",
   "nbconvert_exporter": "python",
   "pygments_lexer": "ipython3",
   "version": "3.13.3"
  }
 },
 "nbformat": 4,
 "nbformat_minor": 5
}
