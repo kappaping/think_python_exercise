{
 "cells": [
  {
   "cell_type": "markdown",
   "id": "023b9952-e216-4dd4-86ed-48e70e5bc40a",
   "metadata": {},
   "source": [
    "# Chapter 3 Answers: Exercises in 3.11."
   ]
  },
  {
   "cell_type": "markdown",
   "id": "3a2a24cb-7700-4115-8856-b634e88377cd",
   "metadata": {},
   "source": [
    "## Author\n",
    "Yu-Ping Lin"
   ]
  },
  {
   "cell_type": "markdown",
   "id": "0ae298ad-4322-4f2c-926b-a390d8c28e3b",
   "metadata": {},
   "source": [
    "## Objectives\n",
    "In this notebook, I write the answers to the exercises of Chapter 3 in the textbook *Think Python: How to Think Like a Computer Scientist, 3rd Edition* by Allen B. Downey. The questions are adapted from Section 3.11. of the textbook. Please refer to the [official website](https://allendowney.github.io/ThinkPython/chap03.html) or the published versions for the chapter content and the original questions."
   ]
  },
  {
   "cell_type": "markdown",
   "id": "54436414-5df3-4582-8f43-46f85e9befbc",
   "metadata": {},
   "source": [
    "## 3.11.1. Ask a virtual assistant"
   ]
  },
  {
   "cell_type": "markdown",
   "id": "d0048a70-e080-471c-a69e-18d8da350173",
   "metadata": {},
   "source": [
    "### Question 1"
   ]
  },
  {
   "cell_type": "markdown",
   "id": "c8ec544e-a3fc-4ad2-ba15-8042c0855ad2",
   "metadata": {},
   "source": [
    "The statements in a function or a ``for`` loop are indented by four spaces, by convention. But not everyone agrees with that convention. If you are curious about the history of this great debate, ask a virtual assistant to \"tell me about spaces and tabs in Python\"."
   ]
  },
  {
   "cell_type": "markdown",
   "id": "90841599-835e-4059-9574-f933051ea76c",
   "metadata": {},
   "source": [
    "### Answer"
   ]
  },
  {
   "cell_type": "markdown",
   "id": "145d4f9b-2de7-43bf-beff-031afc946fe4",
   "metadata": {},
   "source": [
    "In Python, spaces and tabs are used for indentation. The indentations form a fundamental syntax in Python, since it defines the structures of the code. A series of statements with the same indentation forms a code block, such as those in functions and loops. Without proper indentations, the executation of code will lead to ``IndentationError``. Python style guide [PEP 8](https://peps.python.org/pep-0008/) recommends using 4 spaces per indentation level, which can also be configured for the tabs in most integrated development environments (IDEs). Note that indentations with different numbers of spaces can not be used for the same level. Otherwise, there will be ``TabError``."
   ]
  },
  {
   "cell_type": "markdown",
   "id": "8694c366-0bfe-4a73-8232-78ff9efde975",
   "metadata": {},
   "source": [
    "### Question 2"
   ]
  },
  {
   "cell_type": "markdown",
   "id": "4dd1a3f8-8b4e-45d5-bb6b-bc2071c736ba",
   "metadata": {},
   "source": [
    "Virtual assistant are pretty good at writing small functions."
   ]
  },
  {
   "cell_type": "markdown",
   "id": "a0833187-e0db-417b-a3f6-9b4430a2781a",
   "metadata": {},
   "source": [
    "#### Question 2.1"
   ]
  },
  {
   "cell_type": "markdown",
   "id": "729d43ba-2ebf-4e06-bd80-1293a5b16443",
   "metadata": {},
   "source": [
    "Ask your favorite VA to \"Write a function called repeat that takes a string and an integer and prints the string the given number of times.\""
   ]
  },
  {
   "cell_type": "markdown",
   "id": "856f43ac-ba97-4d5b-a0f7-2fefa251a861",
   "metadata": {},
   "source": [
    "#### Answer"
   ]
  },
  {
   "cell_type": "markdown",
   "id": "d19186ae-8084-4547-862c-00c495eae67f",
   "metadata": {},
   "source": [
    "A ``for`` loop can be used in the function to print the string the given number of times."
   ]
  },
  {
   "cell_type": "code",
   "execution_count": 45,
   "id": "ca510aeb-62d5-4dca-a5fd-67dc64e3dce6",
   "metadata": {},
   "outputs": [],
   "source": [
    "def repeat(text, times):\n",
    "    for _ in range(times):\n",
    "        print(text)"
   ]
  },
  {
   "cell_type": "markdown",
   "id": "12f887fb-4684-410d-8173-d36c6b7e6057",
   "metadata": {},
   "source": [
    "Example:"
   ]
  },
  {
   "cell_type": "code",
   "execution_count": 3,
   "id": "40fa5d8f-43f8-4b92-aac8-e7bcb8df7c3e",
   "metadata": {},
   "outputs": [
    {
     "name": "stdout",
     "output_type": "stream",
     "text": [
      "Hello\n",
      "Hello\n",
      "Hello\n"
     ]
    }
   ],
   "source": [
    "repeat(\"Hello\", 3)"
   ]
  },
  {
   "cell_type": "markdown",
   "id": "21880d0f-aec9-4f08-a4d0-a7d76af26e8b",
   "metadata": {},
   "source": [
    "#### Question 2.2"
   ]
  },
  {
   "cell_type": "markdown",
   "id": "bc1befe0-e959-4508-ba23-1e4a80c114fa",
   "metadata": {},
   "source": [
    "If the result uses a ``for`` loop, you could ask, \"Can you do it without a ``for`` loop?\""
   ]
  },
  {
   "cell_type": "markdown",
   "id": "dc973675-5ac9-4e91-9724-99c77a30eaf9",
   "metadata": {},
   "source": [
    "#### Answer"
   ]
  },
  {
   "cell_type": "markdown",
   "id": "661a8aa4-9871-4cd8-bc97-49e87c8c61af",
   "metadata": {},
   "source": [
    "Instead of using the ``for`` loop, one can also print the multiplication of the string by the given number of times."
   ]
  },
  {
   "cell_type": "code",
   "execution_count": 47,
   "id": "24ef52f2-6656-46c1-b860-46678a3fee88",
   "metadata": {},
   "outputs": [],
   "source": [
    "def repeat(text, times):\n",
    "    print((text + \"\\n\") * times, end = \"\")"
   ]
  },
  {
   "cell_type": "markdown",
   "id": "f56d42af-b800-4ab4-874b-f1f4cbae7267",
   "metadata": {},
   "source": [
    "Here ``\"\\n\"`` is an escape sequence that tells Python to change to a new line. In the print function, the parameter ``end`` has the default vaule ``\"\\n\"``. Setting ``end = \"\"`` tells Python to end the ``print`` without changing the line.\n",
    "\n",
    "Example:"
   ]
  },
  {
   "cell_type": "code",
   "execution_count": 48,
   "id": "7c67a752-9a87-453c-99a0-dbc64949fdf3",
   "metadata": {},
   "outputs": [
    {
     "name": "stdout",
     "output_type": "stream",
     "text": [
      "Hello\n",
      "Hello\n",
      "Hello\n"
     ]
    }
   ],
   "source": [
    "repeat(\"Hello\", 3)"
   ]
  },
  {
   "cell_type": "markdown",
   "id": "6c417a69-b328-4ecb-b355-bdaeb4e8f6c6",
   "metadata": {},
   "source": [
    "#### Question 2.3"
   ]
  },
  {
   "cell_type": "markdown",
   "id": "901d3ad4-dec6-4917-b7b6-bb5740ee291b",
   "metadata": {},
   "source": [
    "Pick any other function in this chapter and ask a VA to write it. The challenge is to describe the function precisely enough to get what you want. Use the vocabulary you have learned so far in this book."
   ]
  },
  {
   "cell_type": "markdown",
   "id": "1b9998e1-4bd6-4883-8ce1-7084a00ebd04",
   "metadata": {},
   "source": [
    "#### Answer"
   ]
  },
  {
   "cell_type": "markdown",
   "id": "52e4fe1f-b537-4130-9ec3-580656fa5ee8",
   "metadata": {},
   "source": [
    "Tell ChatGPT:\n",
    "\n",
    "Write a function to print\n",
    "\n",
    "\"Spam, Spam, Spam, Spam, \n",
    "\n",
    "Spam, Spam, Spam, Spam, \n",
    "\n",
    "Spam, Spam, \n",
    "\n",
    "(Lovely Spam, Wonderful Spam!)\n",
    "\n",
    "Spam, Spam,\"\n",
    "\n",
    "In the function, call other functions with for loops to print the repeated texts."
   ]
  },
  {
   "cell_type": "code",
   "execution_count": 49,
   "id": "6fb86d77-8909-490d-aeb2-f5fa2549db56",
   "metadata": {},
   "outputs": [],
   "source": [
    "def print_spam_line(count):\n",
    "    for _ in range(count):\n",
    "        print(\"Spam,\", end = \" \")\n",
    "\n",
    "def print_lovely_line():\n",
    "    print(\"(Lovely Spam, Wonderful Spam!)\")\n",
    "\n",
    "def sing_spam_song():\n",
    "    print_spam_line(4)\n",
    "    print()  # New line\n",
    "    print_spam_line(4)\n",
    "    print()  # New line\n",
    "    print_spam_line(2)\n",
    "    print()  # New line\n",
    "    print_lovely_line()\n",
    "    print_spam_line(2)\n",
    "    print()  # Final newline"
   ]
  },
  {
   "cell_type": "markdown",
   "id": "2c8d14f6-2670-41f9-9262-117d57323ba2",
   "metadata": {},
   "source": [
    "Here is the result:"
   ]
  },
  {
   "cell_type": "code",
   "execution_count": 7,
   "id": "2a2ef537-1b45-4c66-8f17-d3e16c81ab4b",
   "metadata": {},
   "outputs": [
    {
     "name": "stdout",
     "output_type": "stream",
     "text": [
      "Spam, Spam, Spam, Spam, \n",
      "Spam, Spam, Spam, Spam, \n",
      "Spam, Spam, \n",
      "(Lovely Spam, Wonderful Spam!)\n",
      "Spam, Spam, \n"
     ]
    }
   ],
   "source": [
    "sing_spam_song()"
   ]
  },
  {
   "cell_type": "markdown",
   "id": "806bf387-ddd8-4827-b971-86aa630eddb2",
   "metadata": {},
   "source": [
    "### Question 3"
   ]
  },
  {
   "cell_type": "markdown",
   "id": "25fe1da1-9011-49c1-83ca-4dd63ba4eba9",
   "metadata": {},
   "source": [
    "Virtual assistants are also pretty good at debugging functions. Ask a VA what's wrong with this version of ``print_twice``.\n",
    "```\n",
    "def print_twice(string):\n",
    "    print(cat)\n",
    "    print(cat)\n",
    "```\n",
    "And if you get stuck on any of the exercises below, consider asking a VA for help."
   ]
  },
  {
   "cell_type": "markdown",
   "id": "528ed559-7c65-4df8-aa06-1e201dd0ad4b",
   "metadata": {},
   "source": [
    "### Answer"
   ]
  },
  {
   "cell_type": "markdown",
   "id": "d6d64c63-83f8-4b86-8e6c-ccb56c0fea80",
   "metadata": {},
   "source": [
    "The issue with this function ``print_twice`` is that it tries to print a variable ``cat``, but it is not defined anywhere in the function or passed as an argument."
   ]
  },
  {
   "cell_type": "markdown",
   "id": "48bfe9c0-43ea-4e0d-b838-18e746ccdbe3",
   "metadata": {},
   "source": [
    "Also ask, \"What are the built-in functions in Python?\" If you are curious about any of them, ask for more information."
   ]
  },
  {
   "cell_type": "markdown",
   "id": "3396cf76-06f9-436e-8d59-b0a46849ac54",
   "metadata": {},
   "source": [
    "## 3.11.2. Exercise"
   ]
  },
  {
   "cell_type": "markdown",
   "id": "1a9bd1c0-a7a3-4789-9cdc-4b9e966219b4",
   "metadata": {},
   "source": [
    "### Question"
   ]
  },
  {
   "cell_type": "markdown",
   "id": "fdf81ce4-4f5c-47b9-bd37-d52216f541c6",
   "metadata": {},
   "source": [
    "Write a function named ``print_right`` that takes a string named ``text`` as a parameter and prints the string with enough leading spaces that the last letter of the string is in the 40th column of the display.\n",
    "\n",
    "Hint: Use the ``len`` function, the string concatenation operator (``+``) and the string repetition operator (``*``).\n",
    "\n",
    "Here's an example that shows how it should work.\n",
    "```\n",
    "print_right(\"Monty\")\n",
    "print_right(\"Python's\")\n",
    "print_right(\"Flying Circus\")\n",
    "```\n",
    "```\n",
    "                                   Monty\n",
    "                                Python's\n",
    "                           Flying Circus\n",
    "```"
   ]
  },
  {
   "cell_type": "markdown",
   "id": "e00296e4-b59e-48b3-a29f-52b1b41578b1",
   "metadata": {},
   "source": [
    "### Answer"
   ]
  },
  {
   "cell_type": "markdown",
   "id": "90d644c3-e132-4964-a3f1-a9bf88775fef",
   "metadata": {},
   "source": [
    "We can first compute the length ``len(text)`` of the input ``text``, then concatenate it to ``40 - len(text)`` spaces `\" \"` and print the whole result."
   ]
  },
  {
   "cell_type": "code",
   "execution_count": 51,
   "id": "eef4230f-03e3-41b1-8074-1fabce13f026",
   "metadata": {},
   "outputs": [],
   "source": [
    "def print_right(text):\n",
    "    len_text = len(text)\n",
    "    # Concatenate the test to a series of spaces, with the last character of the text being the 40th character of the result.\n",
    "    result = (40 - len_text) * \" \" + text\n",
    "    print(result)"
   ]
  },
  {
   "cell_type": "markdown",
   "id": "f7b34285-b682-45c5-9d42-e8d8994529d6",
   "metadata": {},
   "source": [
    "Let us use the given test data to confirm that this function works as how we want it to:"
   ]
  },
  {
   "cell_type": "code",
   "execution_count": 56,
   "id": "6e93a89d-799d-4931-9a60-42114b203027",
   "metadata": {},
   "outputs": [
    {
     "name": "stdout",
     "output_type": "stream",
     "text": [
      "                                   Monty\n",
      "                                Python's\n",
      "                           Flying Circus\n"
     ]
    }
   ],
   "source": [
    "print_right(\"Monty\")\n",
    "print_right(\"Python's\")\n",
    "print_right(\"Flying Circus\")"
   ]
  },
  {
   "cell_type": "markdown",
   "id": "ade53139-ba4a-488a-bce6-64561c2f9d97",
   "metadata": {},
   "source": [
    "## 3.11.3. Exercise"
   ]
  },
  {
   "cell_type": "markdown",
   "id": "ff3ee9b4-c4d6-42c8-9cdb-0ee8814ad74f",
   "metadata": {},
   "source": [
    "### Question"
   ]
  },
  {
   "cell_type": "markdown",
   "id": "a557030c-b9c6-4082-bbfe-1cf431a32edf",
   "metadata": {},
   "source": [
    "Write a function called ``triangle`` that takes a string and an integer and draws a pyramid with the given height, made up using copies of the string. Here’s an example of a pyramid with ``5`` levels, using the string ``\"L\"``.\n",
    "```\n",
    "triangle('L', 5)\n",
    "```\n",
    "```\n",
    "L\n",
    "LL\n",
    "LLL\n",
    "LLLL\n",
    "LLLLL\n",
    "```"
   ]
  },
  {
   "cell_type": "markdown",
   "id": "891f2d63-54b2-43e0-b761-0a87726ceb9f",
   "metadata": {},
   "source": [
    "### Answer"
   ]
  },
  {
   "cell_type": "markdown",
   "id": "9efc5dd2-adf3-40b5-97f0-a233dbda1400",
   "metadata": {},
   "source": [
    "We will use the ``for`` loop to print the layers of the pyramid repeatedly. The height of the pyramid defines the number used in the ``range`` function. Within each layer, we multiply the string ``\"L\"`` by the number of the layer."
   ]
  },
  {
   "cell_type": "code",
   "execution_count": 55,
   "id": "52283d3d-98f7-4c99-8113-99637dc9f4fd",
   "metadata": {},
   "outputs": [],
   "source": [
    "def triangle(string, number):\n",
    "    # Use the for loop to construct the layers in the pyramid.\n",
    "    for i in range(number):\n",
    "        # Print out the i+1 multiplication of string.\n",
    "        print((i + 1) * string)"
   ]
  },
  {
   "cell_type": "markdown",
   "id": "b280c9e8-dd79-45dd-abc6-ba649f556c51",
   "metadata": {},
   "source": [
    "Let us use the given test data to confirm that this function works as how we want it to:"
   ]
  },
  {
   "cell_type": "code",
   "execution_count": 57,
   "id": "1f3d9141-28eb-4164-ae1f-c9bbcac89474",
   "metadata": {},
   "outputs": [
    {
     "name": "stdout",
     "output_type": "stream",
     "text": [
      "L\n",
      "LL\n",
      "LLL\n",
      "LLLL\n",
      "LLLLL\n"
     ]
    }
   ],
   "source": [
    "triangle('L', 5)"
   ]
  },
  {
   "cell_type": "markdown",
   "id": "c80bc92e-4d54-41f5-a56c-96e5754bb5e9",
   "metadata": {},
   "source": [
    "## 3.11.4. Exercise"
   ]
  },
  {
   "cell_type": "markdown",
   "id": "0fe17a2b-8485-4c5c-9f31-445f7189a39f",
   "metadata": {},
   "source": [
    "### Question"
   ]
  },
  {
   "cell_type": "markdown",
   "id": "a1bb0893-4685-4efd-b82e-77877f759ddb",
   "metadata": {},
   "source": [
    "Write a function called ``rectangle`` that takes a string and two integers and draws a rectangle with the given width and height, made up using copies of the string. Here’s an example of a rectangle with width ``5`` and height ``4``, made up of the string ``\"H\"``.\n",
    "```\n",
    "rectangle(\"H\", 5, 4)\n",
    "```\n",
    "```\n",
    "HHHHH\n",
    "HHHHH\n",
    "HHHHH\n",
    "HHHHH\n",
    "```"
   ]
  },
  {
   "cell_type": "markdown",
   "id": "613f824e-5b7a-419e-9898-04cb045bb685",
   "metadata": {},
   "source": [
    "### Answer"
   ]
  },
  {
   "cell_type": "markdown",
   "id": "9d604298-289e-4a2c-aa57-e2f27a927b43",
   "metadata": {},
   "source": [
    "To print out a rectangle of a string, we will use the ``for`` loop and the multiplication of the strings. The ``for`` loop is used to print out a number height of rows. Within each row, we multiply the string by the width number."
   ]
  },
  {
   "cell_type": "code",
   "execution_count": 59,
   "id": "a7599272-6dad-454e-bd17-4afb213e76a3",
   "metadata": {},
   "outputs": [],
   "source": [
    "def rectangle(string, width, height):\n",
    "    # Use the for loop to construct the rows of the rectangle.\n",
    "    for i in range(height):\n",
    "        # Print out the width multiplication of string.\n",
    "        print(width * string)"
   ]
  },
  {
   "cell_type": "markdown",
   "id": "fb99f534-e2e2-44be-b9e1-a16be848976c",
   "metadata": {},
   "source": [
    "Let us use the given test data to confirm that this function works as how we want it to:"
   ]
  },
  {
   "cell_type": "code",
   "execution_count": 61,
   "id": "64f5b605-4889-42fc-8d7b-a3a2372a7927",
   "metadata": {},
   "outputs": [
    {
     "name": "stdout",
     "output_type": "stream",
     "text": [
      "HHHHH\n",
      "HHHHH\n",
      "HHHHH\n",
      "HHHHH\n"
     ]
    }
   ],
   "source": [
    "rectangle(\"H\", 5, 4)"
   ]
  },
  {
   "cell_type": "markdown",
   "id": "418f5758-6480-4cf8-9393-5055d0aa73ad",
   "metadata": {},
   "source": [
    "## 3.11.5. Exercise"
   ]
  },
  {
   "cell_type": "markdown",
   "id": "dadf4675-ca33-4160-a6d9-ce19249812f7",
   "metadata": {},
   "source": [
    "### Question"
   ]
  },
  {
   "cell_type": "markdown",
   "id": "4b13dbae-01c2-4b72-b6e7-d63ff6de0784",
   "metadata": {},
   "source": [
    "The song \"99 Bottles of Beer\" starts with this verse:\n",
    "```\n",
    "99 bottles of beer on the wall\n",
    "99 bottles of beer\n",
    "Take one down, pass it around\n",
    "98 bottles of beer on the wall\n",
    "```\n",
    "Then the second verse is the same, except that it starts with 98 bottles and ends with 97. The song continues – for a very long time – until there are 0 bottles of beer.\n",
    "\n",
    "Write a function called ``bottle_verse`` that takes a number as a parameter and displays the verse that starts with the given number of bottles.\n",
    "\n",
    "Hint: Consider starting with a function that can print the first, second, or last line of the verse, and then use it to write ``bottle_verse``.\n",
    "\n",
    "Use this function call to display the first verse.\n",
    "```\n",
    "bottle_verse(99)\n",
    "```\n",
    "```\n",
    "99 bottles of beer on the wall\n",
    "99 bottles of beer \n",
    "Take one down, pass it around\n",
    "98 bottles of beer on the wall\n",
    "```\n",
    "If you want to print the whole song, you can use this ``for`` loop, which counts down from ``99`` to ``1``. You don’t have to completely understand this example—we’ll learn more about ``for`` loops and the ``range`` function later.\n",
    "```\n",
    "for n in range(99, 0, -1):\n",
    "    bottle_verse(n)\n",
    "    print()\n",
    "```"
   ]
  },
  {
   "cell_type": "markdown",
   "id": "e50ac38a-ee4a-4b3e-baba-5ee4cdc4975f",
   "metadata": {},
   "source": [
    "### Answer"
   ]
  },
  {
   "cell_type": "markdown",
   "id": "53bb164b-d4a0-422b-b081-255dd9b9af9c",
   "metadata": {},
   "source": [
    "We first notice that the first and last lines of the verse are the same, except for the number. So we can define a function for both of them with a number as the parameter:"
   ]
  },
  {
   "cell_type": "code",
   "execution_count": 62,
   "id": "50c32a01-a4b0-4881-a43c-81c3cadd39f1",
   "metadata": {},
   "outputs": [],
   "source": [
    "def first_last_lines(n):\n",
    "    print(n, \"bottles of beer on the wall\")"
   ]
  },
  {
   "cell_type": "markdown",
   "id": "df989828-c0ee-4be3-bbb9-7c53c13e250b",
   "metadata": {},
   "source": [
    "Similarly, we define a function for the second line:"
   ]
  },
  {
   "cell_type": "code",
   "execution_count": 63,
   "id": "f676a862-166c-4b97-a601-fde6937c5458",
   "metadata": {},
   "outputs": [],
   "source": [
    "def second_line(n):\n",
    "    print(n, \"bottles of beer\")"
   ]
  },
  {
   "cell_type": "markdown",
   "id": "3c3f5e83-a37e-4ba4-9dcd-ad3c92140f70",
   "metadata": {},
   "source": [
    "With these two functions, we can now define a function that calls them and prints the whole verse:"
   ]
  },
  {
   "cell_type": "code",
   "execution_count": 65,
   "id": "ac784e19-0429-4f82-b2b4-0ed0d26c6c2b",
   "metadata": {},
   "outputs": [],
   "source": [
    "def bottle_verse(n):\n",
    "    first_last_lines(n)\n",
    "    second_line(n)\n",
    "    print(\"Take one down, pass it around\")\n",
    "    first_last_lines(n - 1)"
   ]
  },
  {
   "cell_type": "markdown",
   "id": "6425f2b6-b9f6-42c0-a3c4-c230f2782be5",
   "metadata": {},
   "source": [
    "Let us use the given test data to confirm that this function works as how we want it to:"
   ]
  },
  {
   "cell_type": "code",
   "execution_count": 66,
   "id": "0329382d-3c9b-4d4c-b7d2-789da0873253",
   "metadata": {},
   "outputs": [
    {
     "name": "stdout",
     "output_type": "stream",
     "text": [
      "99 bottles of beer on the wall\n",
      "99 bottles of beer\n",
      "Take one down, pass it around\n",
      "98 bottles of beer on the wall\n"
     ]
    }
   ],
   "source": [
    "bottle_verse(99)"
   ]
  },
  {
   "cell_type": "markdown",
   "id": "20ef18e1-dff4-4af2-881e-d9c2e1e2b891",
   "metadata": {},
   "source": [
    "We can use the the given ``for`` loop to print the verse from 99 bottles to 0 bottle, which will be a long verse! Note that the first, second, and third arguments of the ``range`` function give the start point, end point (exclusive), and step number of the series of integers. In this case, the ``range`` function gives a descending series 99, 98, ...., 1."
   ]
  },
  {
   "cell_type": "code",
   "execution_count": 67,
   "id": "564b8b9e-85a7-436a-88fb-c4a420bf8831",
   "metadata": {},
   "outputs": [
    {
     "name": "stdout",
     "output_type": "stream",
     "text": [
      "99 bottles of beer on the wall\n",
      "99 bottles of beer\n",
      "Take one down, pass it around\n",
      "98 bottles of beer on the wall\n",
      "\n",
      "98 bottles of beer on the wall\n",
      "98 bottles of beer\n",
      "Take one down, pass it around\n",
      "97 bottles of beer on the wall\n",
      "\n",
      "97 bottles of beer on the wall\n",
      "97 bottles of beer\n",
      "Take one down, pass it around\n",
      "96 bottles of beer on the wall\n",
      "\n",
      "96 bottles of beer on the wall\n",
      "96 bottles of beer\n",
      "Take one down, pass it around\n",
      "95 bottles of beer on the wall\n",
      "\n",
      "95 bottles of beer on the wall\n",
      "95 bottles of beer\n",
      "Take one down, pass it around\n",
      "94 bottles of beer on the wall\n",
      "\n",
      "94 bottles of beer on the wall\n",
      "94 bottles of beer\n",
      "Take one down, pass it around\n",
      "93 bottles of beer on the wall\n",
      "\n",
      "93 bottles of beer on the wall\n",
      "93 bottles of beer\n",
      "Take one down, pass it around\n",
      "92 bottles of beer on the wall\n",
      "\n",
      "92 bottles of beer on the wall\n",
      "92 bottles of beer\n",
      "Take one down, pass it around\n",
      "91 bottles of beer on the wall\n",
      "\n",
      "91 bottles of beer on the wall\n",
      "91 bottles of beer\n",
      "Take one down, pass it around\n",
      "90 bottles of beer on the wall\n",
      "\n",
      "90 bottles of beer on the wall\n",
      "90 bottles of beer\n",
      "Take one down, pass it around\n",
      "89 bottles of beer on the wall\n",
      "\n",
      "89 bottles of beer on the wall\n",
      "89 bottles of beer\n",
      "Take one down, pass it around\n",
      "88 bottles of beer on the wall\n",
      "\n",
      "88 bottles of beer on the wall\n",
      "88 bottles of beer\n",
      "Take one down, pass it around\n",
      "87 bottles of beer on the wall\n",
      "\n",
      "87 bottles of beer on the wall\n",
      "87 bottles of beer\n",
      "Take one down, pass it around\n",
      "86 bottles of beer on the wall\n",
      "\n",
      "86 bottles of beer on the wall\n",
      "86 bottles of beer\n",
      "Take one down, pass it around\n",
      "85 bottles of beer on the wall\n",
      "\n",
      "85 bottles of beer on the wall\n",
      "85 bottles of beer\n",
      "Take one down, pass it around\n",
      "84 bottles of beer on the wall\n",
      "\n",
      "84 bottles of beer on the wall\n",
      "84 bottles of beer\n",
      "Take one down, pass it around\n",
      "83 bottles of beer on the wall\n",
      "\n",
      "83 bottles of beer on the wall\n",
      "83 bottles of beer\n",
      "Take one down, pass it around\n",
      "82 bottles of beer on the wall\n",
      "\n",
      "82 bottles of beer on the wall\n",
      "82 bottles of beer\n",
      "Take one down, pass it around\n",
      "81 bottles of beer on the wall\n",
      "\n",
      "81 bottles of beer on the wall\n",
      "81 bottles of beer\n",
      "Take one down, pass it around\n",
      "80 bottles of beer on the wall\n",
      "\n",
      "80 bottles of beer on the wall\n",
      "80 bottles of beer\n",
      "Take one down, pass it around\n",
      "79 bottles of beer on the wall\n",
      "\n",
      "79 bottles of beer on the wall\n",
      "79 bottles of beer\n",
      "Take one down, pass it around\n",
      "78 bottles of beer on the wall\n",
      "\n",
      "78 bottles of beer on the wall\n",
      "78 bottles of beer\n",
      "Take one down, pass it around\n",
      "77 bottles of beer on the wall\n",
      "\n",
      "77 bottles of beer on the wall\n",
      "77 bottles of beer\n",
      "Take one down, pass it around\n",
      "76 bottles of beer on the wall\n",
      "\n",
      "76 bottles of beer on the wall\n",
      "76 bottles of beer\n",
      "Take one down, pass it around\n",
      "75 bottles of beer on the wall\n",
      "\n",
      "75 bottles of beer on the wall\n",
      "75 bottles of beer\n",
      "Take one down, pass it around\n",
      "74 bottles of beer on the wall\n",
      "\n",
      "74 bottles of beer on the wall\n",
      "74 bottles of beer\n",
      "Take one down, pass it around\n",
      "73 bottles of beer on the wall\n",
      "\n",
      "73 bottles of beer on the wall\n",
      "73 bottles of beer\n",
      "Take one down, pass it around\n",
      "72 bottles of beer on the wall\n",
      "\n",
      "72 bottles of beer on the wall\n",
      "72 bottles of beer\n",
      "Take one down, pass it around\n",
      "71 bottles of beer on the wall\n",
      "\n",
      "71 bottles of beer on the wall\n",
      "71 bottles of beer\n",
      "Take one down, pass it around\n",
      "70 bottles of beer on the wall\n",
      "\n",
      "70 bottles of beer on the wall\n",
      "70 bottles of beer\n",
      "Take one down, pass it around\n",
      "69 bottles of beer on the wall\n",
      "\n",
      "69 bottles of beer on the wall\n",
      "69 bottles of beer\n",
      "Take one down, pass it around\n",
      "68 bottles of beer on the wall\n",
      "\n",
      "68 bottles of beer on the wall\n",
      "68 bottles of beer\n",
      "Take one down, pass it around\n",
      "67 bottles of beer on the wall\n",
      "\n",
      "67 bottles of beer on the wall\n",
      "67 bottles of beer\n",
      "Take one down, pass it around\n",
      "66 bottles of beer on the wall\n",
      "\n",
      "66 bottles of beer on the wall\n",
      "66 bottles of beer\n",
      "Take one down, pass it around\n",
      "65 bottles of beer on the wall\n",
      "\n",
      "65 bottles of beer on the wall\n",
      "65 bottles of beer\n",
      "Take one down, pass it around\n",
      "64 bottles of beer on the wall\n",
      "\n",
      "64 bottles of beer on the wall\n",
      "64 bottles of beer\n",
      "Take one down, pass it around\n",
      "63 bottles of beer on the wall\n",
      "\n",
      "63 bottles of beer on the wall\n",
      "63 bottles of beer\n",
      "Take one down, pass it around\n",
      "62 bottles of beer on the wall\n",
      "\n",
      "62 bottles of beer on the wall\n",
      "62 bottles of beer\n",
      "Take one down, pass it around\n",
      "61 bottles of beer on the wall\n",
      "\n",
      "61 bottles of beer on the wall\n",
      "61 bottles of beer\n",
      "Take one down, pass it around\n",
      "60 bottles of beer on the wall\n",
      "\n",
      "60 bottles of beer on the wall\n",
      "60 bottles of beer\n",
      "Take one down, pass it around\n",
      "59 bottles of beer on the wall\n",
      "\n",
      "59 bottles of beer on the wall\n",
      "59 bottles of beer\n",
      "Take one down, pass it around\n",
      "58 bottles of beer on the wall\n",
      "\n",
      "58 bottles of beer on the wall\n",
      "58 bottles of beer\n",
      "Take one down, pass it around\n",
      "57 bottles of beer on the wall\n",
      "\n",
      "57 bottles of beer on the wall\n",
      "57 bottles of beer\n",
      "Take one down, pass it around\n",
      "56 bottles of beer on the wall\n",
      "\n",
      "56 bottles of beer on the wall\n",
      "56 bottles of beer\n",
      "Take one down, pass it around\n",
      "55 bottles of beer on the wall\n",
      "\n",
      "55 bottles of beer on the wall\n",
      "55 bottles of beer\n",
      "Take one down, pass it around\n",
      "54 bottles of beer on the wall\n",
      "\n",
      "54 bottles of beer on the wall\n",
      "54 bottles of beer\n",
      "Take one down, pass it around\n",
      "53 bottles of beer on the wall\n",
      "\n",
      "53 bottles of beer on the wall\n",
      "53 bottles of beer\n",
      "Take one down, pass it around\n",
      "52 bottles of beer on the wall\n",
      "\n",
      "52 bottles of beer on the wall\n",
      "52 bottles of beer\n",
      "Take one down, pass it around\n",
      "51 bottles of beer on the wall\n",
      "\n",
      "51 bottles of beer on the wall\n",
      "51 bottles of beer\n",
      "Take one down, pass it around\n",
      "50 bottles of beer on the wall\n",
      "\n",
      "50 bottles of beer on the wall\n",
      "50 bottles of beer\n",
      "Take one down, pass it around\n",
      "49 bottles of beer on the wall\n",
      "\n",
      "49 bottles of beer on the wall\n",
      "49 bottles of beer\n",
      "Take one down, pass it around\n",
      "48 bottles of beer on the wall\n",
      "\n",
      "48 bottles of beer on the wall\n",
      "48 bottles of beer\n",
      "Take one down, pass it around\n",
      "47 bottles of beer on the wall\n",
      "\n",
      "47 bottles of beer on the wall\n",
      "47 bottles of beer\n",
      "Take one down, pass it around\n",
      "46 bottles of beer on the wall\n",
      "\n",
      "46 bottles of beer on the wall\n",
      "46 bottles of beer\n",
      "Take one down, pass it around\n",
      "45 bottles of beer on the wall\n",
      "\n",
      "45 bottles of beer on the wall\n",
      "45 bottles of beer\n",
      "Take one down, pass it around\n",
      "44 bottles of beer on the wall\n",
      "\n",
      "44 bottles of beer on the wall\n",
      "44 bottles of beer\n",
      "Take one down, pass it around\n",
      "43 bottles of beer on the wall\n",
      "\n",
      "43 bottles of beer on the wall\n",
      "43 bottles of beer\n",
      "Take one down, pass it around\n",
      "42 bottles of beer on the wall\n",
      "\n",
      "42 bottles of beer on the wall\n",
      "42 bottles of beer\n",
      "Take one down, pass it around\n",
      "41 bottles of beer on the wall\n",
      "\n",
      "41 bottles of beer on the wall\n",
      "41 bottles of beer\n",
      "Take one down, pass it around\n",
      "40 bottles of beer on the wall\n",
      "\n",
      "40 bottles of beer on the wall\n",
      "40 bottles of beer\n",
      "Take one down, pass it around\n",
      "39 bottles of beer on the wall\n",
      "\n",
      "39 bottles of beer on the wall\n",
      "39 bottles of beer\n",
      "Take one down, pass it around\n",
      "38 bottles of beer on the wall\n",
      "\n",
      "38 bottles of beer on the wall\n",
      "38 bottles of beer\n",
      "Take one down, pass it around\n",
      "37 bottles of beer on the wall\n",
      "\n",
      "37 bottles of beer on the wall\n",
      "37 bottles of beer\n",
      "Take one down, pass it around\n",
      "36 bottles of beer on the wall\n",
      "\n",
      "36 bottles of beer on the wall\n",
      "36 bottles of beer\n",
      "Take one down, pass it around\n",
      "35 bottles of beer on the wall\n",
      "\n",
      "35 bottles of beer on the wall\n",
      "35 bottles of beer\n",
      "Take one down, pass it around\n",
      "34 bottles of beer on the wall\n",
      "\n",
      "34 bottles of beer on the wall\n",
      "34 bottles of beer\n",
      "Take one down, pass it around\n",
      "33 bottles of beer on the wall\n",
      "\n",
      "33 bottles of beer on the wall\n",
      "33 bottles of beer\n",
      "Take one down, pass it around\n",
      "32 bottles of beer on the wall\n",
      "\n",
      "32 bottles of beer on the wall\n",
      "32 bottles of beer\n",
      "Take one down, pass it around\n",
      "31 bottles of beer on the wall\n",
      "\n",
      "31 bottles of beer on the wall\n",
      "31 bottles of beer\n",
      "Take one down, pass it around\n",
      "30 bottles of beer on the wall\n",
      "\n",
      "30 bottles of beer on the wall\n",
      "30 bottles of beer\n",
      "Take one down, pass it around\n",
      "29 bottles of beer on the wall\n",
      "\n",
      "29 bottles of beer on the wall\n",
      "29 bottles of beer\n",
      "Take one down, pass it around\n",
      "28 bottles of beer on the wall\n",
      "\n",
      "28 bottles of beer on the wall\n",
      "28 bottles of beer\n",
      "Take one down, pass it around\n",
      "27 bottles of beer on the wall\n",
      "\n",
      "27 bottles of beer on the wall\n",
      "27 bottles of beer\n",
      "Take one down, pass it around\n",
      "26 bottles of beer on the wall\n",
      "\n",
      "26 bottles of beer on the wall\n",
      "26 bottles of beer\n",
      "Take one down, pass it around\n",
      "25 bottles of beer on the wall\n",
      "\n",
      "25 bottles of beer on the wall\n",
      "25 bottles of beer\n",
      "Take one down, pass it around\n",
      "24 bottles of beer on the wall\n",
      "\n",
      "24 bottles of beer on the wall\n",
      "24 bottles of beer\n",
      "Take one down, pass it around\n",
      "23 bottles of beer on the wall\n",
      "\n",
      "23 bottles of beer on the wall\n",
      "23 bottles of beer\n",
      "Take one down, pass it around\n",
      "22 bottles of beer on the wall\n",
      "\n",
      "22 bottles of beer on the wall\n",
      "22 bottles of beer\n",
      "Take one down, pass it around\n",
      "21 bottles of beer on the wall\n",
      "\n",
      "21 bottles of beer on the wall\n",
      "21 bottles of beer\n",
      "Take one down, pass it around\n",
      "20 bottles of beer on the wall\n",
      "\n",
      "20 bottles of beer on the wall\n",
      "20 bottles of beer\n",
      "Take one down, pass it around\n",
      "19 bottles of beer on the wall\n",
      "\n",
      "19 bottles of beer on the wall\n",
      "19 bottles of beer\n",
      "Take one down, pass it around\n",
      "18 bottles of beer on the wall\n",
      "\n",
      "18 bottles of beer on the wall\n",
      "18 bottles of beer\n",
      "Take one down, pass it around\n",
      "17 bottles of beer on the wall\n",
      "\n",
      "17 bottles of beer on the wall\n",
      "17 bottles of beer\n",
      "Take one down, pass it around\n",
      "16 bottles of beer on the wall\n",
      "\n",
      "16 bottles of beer on the wall\n",
      "16 bottles of beer\n",
      "Take one down, pass it around\n",
      "15 bottles of beer on the wall\n",
      "\n",
      "15 bottles of beer on the wall\n",
      "15 bottles of beer\n",
      "Take one down, pass it around\n",
      "14 bottles of beer on the wall\n",
      "\n",
      "14 bottles of beer on the wall\n",
      "14 bottles of beer\n",
      "Take one down, pass it around\n",
      "13 bottles of beer on the wall\n",
      "\n",
      "13 bottles of beer on the wall\n",
      "13 bottles of beer\n",
      "Take one down, pass it around\n",
      "12 bottles of beer on the wall\n",
      "\n",
      "12 bottles of beer on the wall\n",
      "12 bottles of beer\n",
      "Take one down, pass it around\n",
      "11 bottles of beer on the wall\n",
      "\n",
      "11 bottles of beer on the wall\n",
      "11 bottles of beer\n",
      "Take one down, pass it around\n",
      "10 bottles of beer on the wall\n",
      "\n",
      "10 bottles of beer on the wall\n",
      "10 bottles of beer\n",
      "Take one down, pass it around\n",
      "9 bottles of beer on the wall\n",
      "\n",
      "9 bottles of beer on the wall\n",
      "9 bottles of beer\n",
      "Take one down, pass it around\n",
      "8 bottles of beer on the wall\n",
      "\n",
      "8 bottles of beer on the wall\n",
      "8 bottles of beer\n",
      "Take one down, pass it around\n",
      "7 bottles of beer on the wall\n",
      "\n",
      "7 bottles of beer on the wall\n",
      "7 bottles of beer\n",
      "Take one down, pass it around\n",
      "6 bottles of beer on the wall\n",
      "\n",
      "6 bottles of beer on the wall\n",
      "6 bottles of beer\n",
      "Take one down, pass it around\n",
      "5 bottles of beer on the wall\n",
      "\n",
      "5 bottles of beer on the wall\n",
      "5 bottles of beer\n",
      "Take one down, pass it around\n",
      "4 bottles of beer on the wall\n",
      "\n",
      "4 bottles of beer on the wall\n",
      "4 bottles of beer\n",
      "Take one down, pass it around\n",
      "3 bottles of beer on the wall\n",
      "\n",
      "3 bottles of beer on the wall\n",
      "3 bottles of beer\n",
      "Take one down, pass it around\n",
      "2 bottles of beer on the wall\n",
      "\n",
      "2 bottles of beer on the wall\n",
      "2 bottles of beer\n",
      "Take one down, pass it around\n",
      "1 bottles of beer on the wall\n",
      "\n",
      "1 bottles of beer on the wall\n",
      "1 bottles of beer\n",
      "Take one down, pass it around\n",
      "0 bottles of beer on the wall\n",
      "\n"
     ]
    }
   ],
   "source": [
    "for n in range(99, 0, -1):\n",
    "    bottle_verse(n)\n",
    "    print()"
   ]
  },
  {
   "cell_type": "markdown",
   "id": "fa2930c3-8079-4269-8a07-d72239fe61d6",
   "metadata": {},
   "source": [
    "## This completes the exercises in this Chapter!"
   ]
  }
 ],
 "metadata": {
  "kernelspec": {
   "display_name": "Python 3 (ipykernel)",
   "language": "python",
   "name": "python3"
  },
  "language_info": {
   "codemirror_mode": {
    "name": "ipython",
    "version": 3
   },
   "file_extension": ".py",
   "mimetype": "text/x-python",
   "name": "python",
   "nbconvert_exporter": "python",
   "pygments_lexer": "ipython3",
   "version": "3.13.3"
  }
 },
 "nbformat": 4,
 "nbformat_minor": 5
}
